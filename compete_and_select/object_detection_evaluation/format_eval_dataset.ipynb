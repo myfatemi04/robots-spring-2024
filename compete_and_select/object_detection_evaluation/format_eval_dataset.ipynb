{
 "cells": [
  {
   "cell_type": "markdown",
   "id": "3b1c4c29-f61a-4440-b2da-910929e8b8a6",
   "metadata": {},
   "source": [
    "# Formatting Evaluation Datasets as `.jsonl`\n",
    "\n",
    "This notebook is meant for helping format datasets in `.jsonl`, using the standardized format given in `evaluate.ipynb`. Each line of the `.jsonl` file is a dictionary with the following information:\n",
    " - `image`: A (potentially relative) path to the target image. Relative paths are used when standard benchmarks are used, and absolute paths vary between users.\n",
    " - `width`, `height`: The dimensions of the image.\n",
    " - `references`: A list of the format:\n",
    "    - `caption`: A caption describing the object.\n",
    "    - `xyxy`: A bounding box, in xyxy format, in pixels.\n",
    " - `known_absent_captions`: A list of object text descriptions that are known to not be in the image.\n",
    "\n",
    "## Formatting the OCID-Ref Validation Dataset\n"
   ]
  },
  {
   "cell_type": "code",
   "execution_count": 14,
   "id": "b49693b0-1095-4bc4-9669-4a2064be8980",
   "metadata": {
    "tags": []
   },
   "outputs": [],
   "source": [
    "import os\n",
    "import json\n",
    "\n",
    "OCID_ref_root = '/scratch/gsk6me/WORLDMODELS/OCID-Ref'\n",
    "OCID_ref_data_root = '/scratch/gsk6me/WORLDMODELS/OCID-dataset'\n",
    "\n",
    "with open(os.path.join(OCID_ref_root, \"val_expressions.json\")) as f:\n",
    "    val_expressions = json.load(f)\n"
   ]
  },
  {
   "cell_type": "code",
   "execution_count": 3,
   "id": "c585fcae-f7d4-432f-97c0-30ac6120584e",
   "metadata": {
    "tags": []
   },
   "outputs": [
    {
     "data": {
      "text/plain": [
       "{'seq_id': 88,\n",
       " 'scene_id': 997,\n",
       " 'take_id': 17,\n",
       " 'scene_path': 'ARID20/floor/top/seq11/rgb/result_2018-08-20-14-51-22.png',\n",
       " 'sequence_path': 'ARID20/floor/top/seq11',\n",
       " 'sub_dataset': 'ARID20',\n",
       " 'instance_id': 6556,\n",
       " 'scene_instance_id': 15,\n",
       " 'class': 'hand_towel',\n",
       " 'class_instance': 'hand_towel_1',\n",
       " 'new_class': 'towel',\n",
       " 'sentence': 'The towel on the front right of the cup.',\n",
       " 'tokens': ['The', 'towel', 'on', 'the', 'front', 'right', 'of', 'the', 'cup'],\n",
       " 'bbox': '[465, 127, 590, 235]',\n",
       " 'sentence_id': '100031'}"
      ]
     },
     "execution_count": 3,
     "metadata": {},
     "output_type": "execute_result"
    }
   ],
   "source": [
    "val_expressions['100031']"
   ]
  },
  {
   "cell_type": "code",
   "execution_count": 16,
   "id": "0d895de9-bb3a-4a9c-ad39-d65469a39e39",
   "metadata": {
    "tags": []
   },
   "outputs": [
    {
     "name": "stdout",
     "output_type": "stream",
     "text": [
      "1963 unique scenes.\n"
     ]
    },
    {
     "name": "stderr",
     "output_type": "stream",
     "text": [
      "Generating .jsonl file...: 100%|██████████| 1963/1963 [00:00<00:00, 1967.35it/s]\n"
     ]
    }
   ],
   "source": [
    "import tqdm\n",
    "import PIL.Image\n",
    "\n",
    "batched_by_image = {}\n",
    "\n",
    "for (key, value) in val_expressions.items():\n",
    "    if value['scene_path'] not in batched_by_image:\n",
    "        batched_by_image[value['scene_path']] = []\n",
    "    batched_by_image[value['scene_path']].append(value)\n",
    "\n",
    "print(len(batched_by_image), \"unique scenes.\")\n",
    "\n",
    "# Create a row for each scene.\n",
    "rows = []\n",
    "for (scene_path, values) in tqdm.tqdm(batched_by_image.items(), desc='Generating .jsonl file...'):\n",
    "    image = PIL.Image.open(os.path.join(OCID_ref_data_root, scene_path))\n",
    "    rows.append({\n",
    "        'image': scene_path,\n",
    "        'width': image.width,\n",
    "        'height': image.height,\n",
    "        'references': [\n",
    "            {\n",
    "                'caption': value['sentence'].replace(\"_\", \" \"),\n",
    "                'xyxy': json.loads(value['bbox']),\n",
    "            }\n",
    "            for value in values\n",
    "        ]\n",
    "    })\n",
    "\n",
    "# Write the .jsonl.\n",
    "with open(\"ocid-ref-val.eval.jsonl\", \"w\") as f:\n",
    "    for row in rows:\n",
    "        json.dump(row, f)\n",
    "        f.write(\"\\n\")\n"
   ]
  },
  {
   "cell_type": "code",
   "execution_count": null,
   "id": "b75fde43-f76b-4d2f-8fcc-3d4e606fb9e5",
   "metadata": {},
   "outputs": [],
   "source": []
  }
 ],
 "metadata": {
  "kernelspec": {
   "display_name": "cas_env",
   "language": "python",
   "name": "cas_env"
  },
  "language_info": {
   "codemirror_mode": {
    "name": "ipython",
    "version": 3
   },
   "file_extension": ".py",
   "mimetype": "text/x-python",
   "name": "python",
   "nbconvert_exporter": "python",
   "pygments_lexer": "ipython3",
   "version": "3.11.4"
  }
 },
 "nbformat": 4,
 "nbformat_minor": 5
}
