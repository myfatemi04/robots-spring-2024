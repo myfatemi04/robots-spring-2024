{
 "cells": [
  {
   "cell_type": "markdown",
   "metadata": {
    "id": "m8t6tkjuuONX"
   },
   "source": [
    "## PaliGemma Fine-tuning\n",
    "\n",
    "In this notebook, we will fine-tune [pretrained PaliGemma](https://huggingface.co/google/paligemma-3b-pt-448). I remove a lot of the code that was in the other (non-$448$-px) notebook.\n"
   ]
  },
  {
   "cell_type": "code",
   "execution_count": 2,
   "metadata": {
    "id": "FrKEBkmJtMan",
    "tags": []
   },
   "outputs": [
    {
     "name": "stdout",
     "output_type": "stream",
     "text": [
      "The autoreload extension is already loaded. To reload it, use:\n",
      "  %reload_ext autoreload\n"
     ]
    }
   ],
   "source": [
    "%load_ext autoreload\n",
    "%autoreload 2"
   ]
  },
  {
   "cell_type": "markdown",
   "metadata": {},
   "source": [
    "# Training"
   ]
  },
  {
   "cell_type": "markdown",
   "metadata": {
    "id": "OsquATWQu2lJ"
   },
   "source": [
    "Load the processor to preprocess the dataset."
   ]
  },
  {
   "cell_type": "code",
   "execution_count": 3,
   "metadata": {
    "id": "Zya_PWM3uBWs",
    "tags": []
   },
   "outputs": [
    {
     "name": "stderr",
     "output_type": "stream",
     "text": [
      "/sfs/weka/scratch/gsk6me/WORLDMODELS/crl-online-policies/env/lib/python3.11/site-packages/tqdm/auto.py:21: TqdmWarning: IProgress not found. Please update jupyter and ipywidgets. See https://ipywidgets.readthedocs.io/en/stable/user_install.html\n",
      "  from .autonotebook import tqdm as notebook_tqdm\n",
      "`config.hidden_act` is ignored, you should use `config.hidden_activation` instead.\n",
      "Gemma's activation function will be set to `gelu_pytorch_tanh`. Please, use\n",
      "`config.hidden_activation` if you want to override this behaviour.\n",
      "See https://github.com/huggingface/transformers/pull/29402 for more details.\n",
      "Loading checkpoint shards: 100%|██████████| 3/3 [00:05<00:00,  1.86s/it]\n"
     ]
    }
   ],
   "source": [
    "from transformers import PaliGemmaProcessor, PaliGemmaForConditionalGeneration\n",
    "import os\n",
    "import dotenv\n",
    "import torch\n",
    "\n",
    "device = torch.device(\"cuda\" if torch.cuda.is_available() else \"cpu\")\n",
    "\n",
    "dotenv.load_dotenv(\"/scratch/gsk6me/WORLDMODELS/crl-online-policies/.env\")\n",
    "\n",
    "token = os.environ['HUGGINGFACE_ACCESS_TOKEN']\n",
    "model_id = \"google/paligemma-3b-mix-448\"\n",
    "processor = PaliGemmaProcessor.from_pretrained(model_id, token=token)\n",
    "\n",
    "# model = PaliGemmaForConditionalGeneration.from_pretrained(\"paligemma_object_classifier/checkpoint-37500\", torch_dtype=torch.bfloat16, token=token, device_map=device)\n",
    "model = PaliGemmaForConditionalGeneration.from_pretrained(model_id, torch_dtype=torch.bfloat16, token=token, device_map=device)\n",
    "\n",
    "for param in model.vision_tower.parameters():\n",
    "    param.requires_grad = False\n",
    "\n",
    "# for param in model.multi_modal_projector.parameters():\n",
    "#     param.requires_grad = False\n"
   ]
  },
  {
   "cell_type": "code",
   "execution_count": 4,
   "metadata": {
    "id": "hdw3uBcNuGmw",
    "tags": []
   },
   "outputs": [],
   "source": [
    "import PIL.Image\n",
    "import os\n",
    "\n",
    "image_token = processor.tokenizer.convert_tokens_to_ids(\"<image>\")\n",
    "\n",
    "def collate_fn(image_root, examples):\n",
    "    images = [PIL.Image.open(os.path.join(image_root, example['image'])).convert(\"RGB\") for example in examples]\n",
    "    texts = [example['prefix'] for example in examples]\n",
    "    labels = [example['suffix'] for example in examples]\n",
    "    \n",
    "    tokens = processor(text=texts, images=images, suffix=labels,\n",
    "                    return_tensors=\"pt\", padding=\"longest\",\n",
    "                    tokenize_newline_separately=False)\n",
    "\n",
    "    tokens = tokens.to(torch.bfloat16).to(device)\n",
    "    return tokens\n"
   ]
  },
  {
   "cell_type": "markdown",
   "metadata": {
    "id": "uCiVI-xUwSJm"
   },
   "source": [
    "Alternatively, if you want to do LoRA and QLoRA fine-tuning, you can run below cells to load the adapter either in full precision or quantized."
   ]
  },
  {
   "cell_type": "code",
   "execution_count": 5,
   "metadata": {
    "tags": []
   },
   "outputs": [],
   "source": [
    "import gc\n",
    "gc.collect()\n",
    "torch.cuda.empty_cache()"
   ]
  },
  {
   "cell_type": "code",
   "execution_count": 23,
   "metadata": {
    "id": "9AYeuyzNuJ9X",
    "tags": []
   },
   "outputs": [],
   "source": [
    "from peft import get_peft_model, LoraConfig\n",
    "\n",
    "quantize = False\n",
    "use_lora = False\n",
    "\n",
    "if quantize:\n",
    "    from transformers import BitsAndBytesConfig\n",
    "    bnb_config = BitsAndBytesConfig(\n",
    "            load_in_4bit=True,\n",
    "            bnb_4bit_quant_type=\"nf4\",\n",
    "            bnb_4bit_compute_type=torch.bfloat16\n",
    "    )\n",
    "    model = PaliGemmaForConditionalGeneration.from_pretrained(model_id, quantization_config=bnb_config, device_map={\"\":0})\n",
    "\n",
    "if use_lora:\n",
    "    lora_config = LoraConfig(\n",
    "        r=32,\n",
    "        target_modules=[\"q_proj\", \"o_proj\", \"k_proj\", \"v_proj\", \"gate_proj\", \"up_proj\", \"down_proj\"],\n",
    "        task_type=\"CAUSAL_LM\",\n",
    "    )\n",
    "    model = get_peft_model(model, lora_config)\n",
    "    model.print_trainable_parameters()\n",
    "#trainable params: 11,298,816 || all params: 2,934,634,224 || trainable%: 0.38501616002417344\n"
   ]
  },
  {
   "cell_type": "markdown",
   "metadata": {
    "id": "8pR0EaGlwrDp"
   },
   "source": [
    "We can now start training."
   ]
  },
  {
   "cell_type": "markdown",
   "metadata": {},
   "source": [
    "## Pretrain on COCO object classification\n",
    "\n",
    "This should hopefully improve the model's ability to localize information\n"
   ]
  },
  {
   "cell_type": "code",
   "execution_count": null,
   "metadata": {
    "tags": []
   },
   "outputs": [
    {
     "name": "stdout",
     "output_type": "stream",
     "text": [
      "coco_train2014_clsify.jsonl does not exist. Creating!\n",
      "loading annotations into memory...\n",
      "Done (t=10.91s)\n",
      "creating index...\n",
      "index created!\n"
     ]
    }
   ],
   "source": [
    "import PIL.Image\n",
    "import json\n",
    "from pycocotools.coco import COCO\n",
    "\n",
    "if not os.path.exists(\"coco_train2014_clsify.jsonl\"):\n",
    "    print(\"coco_train2014_clsify.jsonl does not exist. Creating!\")\n",
    "    \n",
    "    coco_train2014 = COCO('/scratch/gsk6me/WORLDMODELS/coco_annotations/instances_train2014.json')\n",
    "    \n",
    "    coco_train2014_ds = []\n",
    "    coco_image_root = \"/scratch/gsk6me/WORLDMODELS\"\n",
    "\n",
    "    for image_id in sorted(coco_train2014.imgs.keys()):\n",
    "        image_path = f\"train2014/COCO_train2014_{image_id:012d}.jpg\"\n",
    "        image = PIL.Image.open(f\"{coco_image_root}/{image_path}\")\n",
    "        image_width = image.width\n",
    "        image_height = image.height\n",
    "        annots = coco_train2014.imgToAnns[image_id]\n",
    "        for annot in annots:\n",
    "            category_id = annot['category_id']\n",
    "            category_name = coco_train2014.cats[category_id]['name']\n",
    "            bbox = annot['bbox']\n",
    "\n",
    "            x0_quant = int((bbox[0] / image_width) * 1024)\n",
    "            y0_quant = int((bbox[1] / image_height) * 1024)\n",
    "            x1_quant = int(((bbox[0] + bbox[2]) / image_width) * 1024)\n",
    "            y1_quant = int(((bbox[1] + bbox[3]) / image_height) * 1024)\n",
    "\n",
    "            coco_train2014_ds.append({\n",
    "                'image': image_path,\n",
    "                'prefix': f'Describe <loc{x0_quant:04d}><loc{y0_quant:04d}><loc{x1_quant:04d}><loc{y1_quant:04d}>',\n",
    "                'suffix': category_name,\n",
    "                'bbox_x': bbox[0],\n",
    "                'bbox_y': bbox[1],\n",
    "                'bbox_w': bbox[2],\n",
    "                'bbox_h': bbox[3],\n",
    "                'image_width': image_width,\n",
    "                'image_height': image_height,\n",
    "            })\n",
    "\n",
    "    with open(\"coco_train2014_clsify.jsonl\", \"w\") as f:\n",
    "        for record in coco_train2014_ds:\n",
    "            json.dump(record, f)\n",
    "            f.write(\"\\n\")\n",
    "else:\n",
    "    with open(\"coco_train2014_clsify.jsonl\") as f:\n",
    "        coco_train2014_ds = [json.loads(record) for record in f.read().split(\"\\n\") if record]\n"
   ]
  },
  {
   "cell_type": "markdown",
   "metadata": {},
   "source": [
    "# Train on OCID-Ref"
   ]
  },
  {
   "cell_type": "code",
   "execution_count": null,
   "metadata": {
    "tags": []
   },
   "outputs": [],
   "source": [
    "import json\n",
    "\n",
    "def load_jsonl(paths):\n",
    "    if type(paths) is str:\n",
    "        paths = [paths]\n",
    "    ds = []\n",
    "    for path in paths:\n",
    "        with open(path) as f:\n",
    "            for line in f.readlines():\n",
    "                ds.append(json.loads(line.strip()))\n",
    "                \n",
    "    return ds\n",
    "\n",
    "# train_ds = load_jsonl(\"ocid-ref-train.jsonl\")\n",
    "# train_ds = load_jsonl(['train_object_captions_1k.jsonl', 'train_object_captions_4k.jsonl'])\n",
    "train_ds = coco_train2014_ds"
   ]
  },
  {
   "cell_type": "code",
   "execution_count": null,
   "metadata": {
    "tags": []
   },
   "outputs": [],
   "source": [
    "from transformers import TrainingArguments\n",
    "\n",
    "args = TrainingArguments(\n",
    "    num_train_epochs=1,\n",
    "    remove_unused_columns=False,\n",
    "    per_device_train_batch_size=4,\n",
    "    gradient_accumulation_steps=4,\n",
    "    warmup_steps=2,\n",
    "    learning_rate=2e-5,\n",
    "    weight_decay=1e-6,\n",
    "    adam_beta2=0.999,\n",
    "    logging_steps=128,\n",
    "    optim=\"adamw_hf\",\n",
    "    save_strategy=\"epoch\",\n",
    "    # save_strategy=\"steps\",\n",
    "    # save_steps=500,\n",
    "    push_to_hub=False,\n",
    "    save_total_limit=1,\n",
    "    output_dir=\"paligemma_object_captioner_pretrained_448\",\n",
    "    # output_dir=\"paligemma_object_captioner_pretrained\",\n",
    "    bf16=True,\n",
    "    report_to=[\"tensorboard\"],\n",
    "    dataloader_pin_memory=False\n",
    ")\n"
   ]
  },
  {
   "cell_type": "code",
   "execution_count": null,
   "metadata": {
    "id": "CguCGDv1uNkF",
    "tags": []
   },
   "outputs": [],
   "source": [
    "from transformers import Trainer\n",
    "from functools import partial\n",
    "\n",
    "coco_root = '/scratch/gsk6me/WORLDMODELS'\n",
    "ocid_root = '/scratch/gsk6me/WORLDMODELS/OCID-dataset'\n",
    "\n",
    "trainer = Trainer(\n",
    "    model=model,\n",
    "    train_dataset=train_ds,\n",
    "    data_collator=partial(collate_fn, coco_root),\n",
    "    args=args\n",
    ")\n"
   ]
  },
  {
   "cell_type": "code",
   "execution_count": null,
   "metadata": {
    "id": "9KFPQLrnF2Ha",
    "tags": []
   },
   "outputs": [],
   "source": [
    "trainer.train()"
   ]
  },
  {
   "cell_type": "code",
   "execution_count": 14,
   "metadata": {
    "tags": []
   },
   "outputs": [],
   "source": [
    "trainer.save_model('paligemma_object_captioner_pretrained_448/checkpoint-544')"
   ]
  },
  {
   "cell_type": "code",
   "execution_count": null,
   "metadata": {
    "id": "O9fMDEjXSSzF"
   },
   "outputs": [],
   "source": [
    "trainer.push_to_hub()"
   ]
  },
  {
   "cell_type": "markdown",
   "metadata": {
    "id": "JohfxEJQjLBd"
   },
   "source": [
    "You can find steps to infer [here](https://colab.research.google.com/drive/100IQcvMvGm9y--oelbLfI__eHCoz5Ser?usp=sharing)."
   ]
  }
 ],
 "metadata": {
  "accelerator": "GPU",
  "colab": {
   "gpuType": "A100",
   "machine_shape": "hm",
   "private_outputs": true,
   "provenance": []
  },
  "kernelspec": {
   "display_name": "cas_env",
   "language": "python",
   "name": "cas_env"
  },
  "language_info": {
   "codemirror_mode": {
    "name": "ipython",
    "version": 3
   },
   "file_extension": ".py",
   "mimetype": "text/x-python",
   "name": "python",
   "nbconvert_exporter": "python",
   "pygments_lexer": "ipython3",
   "version": "3.11.4"
  }
 },
 "nbformat": 4,
 "nbformat_minor": 4
}
