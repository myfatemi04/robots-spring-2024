{
 "cells": [
  {
   "cell_type": "markdown",
   "metadata": {
    "id": "m8t6tkjuuONX"
   },
   "source": [
    "## PaliGemma Fine-tuning\n",
    "\n",
    "In this notebook, we will fine-tune [pretrained PaliGemma](https://huggingface.co/google/paligemma-3b-pt-448) on a small split of [VQAv2](https://huggingface.co/datasets/HuggingFaceM4/VQAv2) dataset. Let's get started by installing necessary libraries."
   ]
  },
  {
   "cell_type": "code",
   "execution_count": 1,
   "metadata": {
    "id": "FrKEBkmJtMan",
    "tags": []
   },
   "outputs": [],
   "source": [
    "%load_ext autoreload\n",
    "%autoreload 2\n",
    "\n",
    "# !pip install -q -U git+https://github.com/huggingface/transformers.git datasets accelerate"
   ]
  },
  {
   "cell_type": "markdown",
   "metadata": {
    "id": "q_85okyYt1eo"
   },
   "source": [
    "We will authenticate to access the model using `notebook_login()`."
   ]
  },
  {
   "cell_type": "code",
   "execution_count": 2,
   "metadata": {
    "tags": []
   },
   "outputs": [],
   "source": [
    "import pandas as pd\n",
    "\n",
    "# https://stackoverflow.com/questions/50475635/loading-jsonl-file-as-json-objects\n",
    "dataset = {\n",
    "    split: pd.read_json(path_or_buf=f\"./refcocog_{split}.jsonl\", lines=True)\n",
    "    for split in ['train', 'test', 'val']\n",
    "}\n"
   ]
  },
  {
   "cell_type": "code",
   "execution_count": 3,
   "metadata": {
    "tags": []
   },
   "outputs": [
    {
     "data": {
      "text/html": [
       "<div>\n",
       "<style scoped>\n",
       "    .dataframe tbody tr th:only-of-type {\n",
       "        vertical-align: middle;\n",
       "    }\n",
       "\n",
       "    .dataframe tbody tr th {\n",
       "        vertical-align: top;\n",
       "    }\n",
       "\n",
       "    .dataframe thead th {\n",
       "        text-align: right;\n",
       "    }\n",
       "</style>\n",
       "<table border=\"1\" class=\"dataframe\">\n",
       "  <thead>\n",
       "    <tr style=\"text-align: right;\">\n",
       "      <th></th>\n",
       "      <th>image</th>\n",
       "      <th>prefix</th>\n",
       "      <th>suffix</th>\n",
       "    </tr>\n",
       "  </thead>\n",
       "  <tbody>\n",
       "    <tr>\n",
       "      <th>0</th>\n",
       "      <td>/scratch/gsk6me/WORLDMODELS/train2014/COCO_tra...</td>\n",
       "      <td>Describe &lt;loc0000&gt;&lt;loc0098&gt;&lt;loc0382&gt;&lt;loc0871&gt;</td>\n",
       "      <td>Answer: two woman one in black eatting and the...</td>\n",
       "    </tr>\n",
       "    <tr>\n",
       "      <th>1</th>\n",
       "      <td>/scratch/gsk6me/WORLDMODELS/train2014/COCO_tra...</td>\n",
       "      <td>Describe &lt;loc0000&gt;&lt;loc0098&gt;&lt;loc0382&gt;&lt;loc0871&gt;</td>\n",
       "      <td>Answer: woman in white shirt looking down at l...</td>\n",
       "    </tr>\n",
       "    <tr>\n",
       "      <th>2</th>\n",
       "      <td>/scratch/gsk6me/WORLDMODELS/train2014/COCO_tra...</td>\n",
       "      <td>Describe &lt;loc0357&gt;&lt;loc0763&gt;&lt;loc0321&gt;&lt;loc0223&gt;</td>\n",
       "      <td>Answer: a tv with a woman being interviewed on it</td>\n",
       "    </tr>\n",
       "    <tr>\n",
       "      <th>3</th>\n",
       "      <td>/scratch/gsk6me/WORLDMODELS/train2014/COCO_tra...</td>\n",
       "      <td>Describe &lt;loc0357&gt;&lt;loc0763&gt;&lt;loc0321&gt;&lt;loc0223&gt;</td>\n",
       "      <td>Answer: a woman with sunglasses on her head on...</td>\n",
       "    </tr>\n",
       "    <tr>\n",
       "      <th>4</th>\n",
       "      <td>/scratch/gsk6me/WORLDMODELS/train2014/COCO_tra...</td>\n",
       "      <td>Describe &lt;loc0150&gt;&lt;loc0110&gt;&lt;loc0557&gt;&lt;loc0552&gt;</td>\n",
       "      <td>Answer: a young boy doing a skateboard trick o...</td>\n",
       "    </tr>\n",
       "    <tr>\n",
       "      <th>...</th>\n",
       "      <td>...</td>\n",
       "      <td>...</td>\n",
       "      <td>...</td>\n",
       "    </tr>\n",
       "    <tr>\n",
       "      <th>80507</th>\n",
       "      <td>/scratch/gsk6me/WORLDMODELS/train2014/COCO_tra...</td>\n",
       "      <td>Describe &lt;loc0226&gt;&lt;loc0049&gt;&lt;loc0574&gt;&lt;loc0346&gt;</td>\n",
       "      <td>Answer: the larger banana is above the small r...</td>\n",
       "    </tr>\n",
       "    <tr>\n",
       "      <th>80508</th>\n",
       "      <td>/scratch/gsk6me/WORLDMODELS/train2014/COCO_tra...</td>\n",
       "      <td>Describe &lt;loc0226&gt;&lt;loc0230&gt;&lt;loc0184&gt;&lt;loc0768&gt;</td>\n",
       "      <td>Answer: a guy in black jacket and cowboy hat</td>\n",
       "    </tr>\n",
       "    <tr>\n",
       "      <th>80509</th>\n",
       "      <td>/scratch/gsk6me/WORLDMODELS/train2014/COCO_tra...</td>\n",
       "      <td>Describe &lt;loc0226&gt;&lt;loc0230&gt;&lt;loc0184&gt;&lt;loc0768&gt;</td>\n",
       "      <td>Answer: the man in the dark coat and pointier hat</td>\n",
       "    </tr>\n",
       "    <tr>\n",
       "      <th>80510</th>\n",
       "      <td>/scratch/gsk6me/WORLDMODELS/train2014/COCO_tra...</td>\n",
       "      <td>Describe &lt;loc0084&gt;&lt;loc0107&gt;&lt;loc0939&gt;&lt;loc0916&gt;</td>\n",
       "      <td>Answer: a person in red dress and he is seeing...</td>\n",
       "    </tr>\n",
       "    <tr>\n",
       "      <th>80511</th>\n",
       "      <td>/scratch/gsk6me/WORLDMODELS/train2014/COCO_tra...</td>\n",
       "      <td>Describe &lt;loc0084&gt;&lt;loc0107&gt;&lt;loc0939&gt;&lt;loc0916&gt;</td>\n",
       "      <td>Answer: man wearing a red costume</td>\n",
       "    </tr>\n",
       "  </tbody>\n",
       "</table>\n",
       "<p>80512 rows × 3 columns</p>\n",
       "</div>"
      ],
      "text/plain": [
       "                                                   image  \\\n",
       "0      /scratch/gsk6me/WORLDMODELS/train2014/COCO_tra...   \n",
       "1      /scratch/gsk6me/WORLDMODELS/train2014/COCO_tra...   \n",
       "2      /scratch/gsk6me/WORLDMODELS/train2014/COCO_tra...   \n",
       "3      /scratch/gsk6me/WORLDMODELS/train2014/COCO_tra...   \n",
       "4      /scratch/gsk6me/WORLDMODELS/train2014/COCO_tra...   \n",
       "...                                                  ...   \n",
       "80507  /scratch/gsk6me/WORLDMODELS/train2014/COCO_tra...   \n",
       "80508  /scratch/gsk6me/WORLDMODELS/train2014/COCO_tra...   \n",
       "80509  /scratch/gsk6me/WORLDMODELS/train2014/COCO_tra...   \n",
       "80510  /scratch/gsk6me/WORLDMODELS/train2014/COCO_tra...   \n",
       "80511  /scratch/gsk6me/WORLDMODELS/train2014/COCO_tra...   \n",
       "\n",
       "                                              prefix  \\\n",
       "0      Describe <loc0000><loc0098><loc0382><loc0871>   \n",
       "1      Describe <loc0000><loc0098><loc0382><loc0871>   \n",
       "2      Describe <loc0357><loc0763><loc0321><loc0223>   \n",
       "3      Describe <loc0357><loc0763><loc0321><loc0223>   \n",
       "4      Describe <loc0150><loc0110><loc0557><loc0552>   \n",
       "...                                              ...   \n",
       "80507  Describe <loc0226><loc0049><loc0574><loc0346>   \n",
       "80508  Describe <loc0226><loc0230><loc0184><loc0768>   \n",
       "80509  Describe <loc0226><loc0230><loc0184><loc0768>   \n",
       "80510  Describe <loc0084><loc0107><loc0939><loc0916>   \n",
       "80511  Describe <loc0084><loc0107><loc0939><loc0916>   \n",
       "\n",
       "                                                  suffix  \n",
       "0      Answer: two woman one in black eatting and the...  \n",
       "1      Answer: woman in white shirt looking down at l...  \n",
       "2      Answer: a tv with a woman being interviewed on it  \n",
       "3      Answer: a woman with sunglasses on her head on...  \n",
       "4      Answer: a young boy doing a skateboard trick o...  \n",
       "...                                                  ...  \n",
       "80507  Answer: the larger banana is above the small r...  \n",
       "80508       Answer: a guy in black jacket and cowboy hat  \n",
       "80509  Answer: the man in the dark coat and pointier hat  \n",
       "80510  Answer: a person in red dress and he is seeing...  \n",
       "80511                  Answer: man wearing a red costume  \n",
       "\n",
       "[80512 rows x 3 columns]"
      ]
     },
     "execution_count": 3,
     "metadata": {},
     "output_type": "execute_result"
    }
   ],
   "source": [
    "dataset['train']"
   ]
  },
  {
   "cell_type": "markdown",
   "metadata": {
    "id": "OsquATWQu2lJ"
   },
   "source": [
    "Load the processor to preprocess the dataset."
   ]
  },
  {
   "cell_type": "code",
   "execution_count": 4,
   "metadata": {
    "id": "Zya_PWM3uBWs",
    "tags": []
   },
   "outputs": [
    {
     "name": "stderr",
     "output_type": "stream",
     "text": [
      "/sfs/weka/scratch/gsk6me/WORLDMODELS/crl-online-policies/env/lib/python3.11/site-packages/tqdm/auto.py:21: TqdmWarning: IProgress not found. Please update jupyter and ipywidgets. See https://ipywidgets.readthedocs.io/en/stable/user_install.html\n",
      "  from .autonotebook import tqdm as notebook_tqdm\n"
     ]
    }
   ],
   "source": [
    "from transformers import PaliGemmaProcessor\n",
    "import os\n",
    "import dotenv\n",
    "import torch\n",
    "\n",
    "device = torch.device(\"cuda\" if torch.cuda.is_available() else \"cpu\")\n",
    "\n",
    "dotenv.load_dotenv(\"/scratch/gsk6me/WORLDMODELS/crl-online-policies/.env\")\n",
    "\n",
    "token = os.environ['HUGGINGFACE_ACCESS_TOKEN']\n",
    "model_id = \"google/paligemma-3b-pt-224\"\n",
    "processor = PaliGemmaProcessor.from_pretrained(model_id, token=token)"
   ]
  },
  {
   "cell_type": "markdown",
   "metadata": {
    "id": "QZROnV-pu7rt"
   },
   "source": [
    "We will preprocess our examples. We need to prepare a prompt template and pass the text input inside, pass it with batches of images to processor. Then we will set the pad tokens and image tokens to -100 to let the model ignore them. We will pass our preprocessed input as labels to make the model learn how to generate responses."
   ]
  },
  {
   "cell_type": "code",
   "execution_count": 22,
   "metadata": {
    "id": "hdw3uBcNuGmw",
    "tags": []
   },
   "outputs": [],
   "source": [
    "import PIL.Image\n",
    "\n",
    "image_token = processor.tokenizer.convert_tokens_to_ids(\"<image>\")\n",
    "\n",
    "def collate_fn(examples):\n",
    "    images = [PIL.Image.open(example['image']).convert(\"RGB\") for example in examples]\n",
    "    texts = [example['prefix'] for example in examples]\n",
    "    labels = [example['suffix'] for example in examples]\n",
    "    \n",
    "    tokens = processor(text=texts, images=images, suffix=labels,\n",
    "                    return_tensors=\"pt\", padding=\"longest\",\n",
    "                    tokenize_newline_separately=False)\n",
    "\n",
    "    tokens = tokens.to(torch.bfloat16).to(device)\n",
    "    return tokens\n"
   ]
  },
  {
   "cell_type": "markdown",
   "metadata": {
    "id": "Hi_Y1blXwA04"
   },
   "source": [
    "Our dataset is a very general one and similar to many datasets that PaliGemma was trained with. In this case, we do not need to fine-tune the image encoder, the multimodal projector but we will only fine-tune the text decoder."
   ]
  },
  {
   "cell_type": "code",
   "execution_count": 5,
   "metadata": {
    "id": "iZRvrfUquH1y",
    "tags": []
   },
   "outputs": [
    {
     "name": "stderr",
     "output_type": "stream",
     "text": [
      "`config.hidden_act` is ignored, you should use `config.hidden_activation` instead.\n",
      "Gemma's activation function will be set to `gelu_pytorch_tanh`. Please, use\n",
      "`config.hidden_activation` if you want to override this behaviour.\n",
      "See https://github.com/huggingface/transformers/pull/29402 for more details.\n",
      "Loading checkpoint shards: 100%|██████████| 3/3 [00:03<00:00,  1.26s/it]\n"
     ]
    }
   ],
   "source": [
    "from transformers import PaliGemmaForConditionalGeneration\n",
    "import torch\n",
    "\n",
    "model = PaliGemmaForConditionalGeneration.from_pretrained(model_id, torch_dtype=torch.bfloat16, token=token, device_map=device)\n",
    "\n",
    "for param in model.vision_tower.parameters():\n",
    "    param.requires_grad = False\n",
    "\n",
    "for param in model.multi_modal_projector.parameters():\n",
    "    param.requires_grad = False\n"
   ]
  },
  {
   "cell_type": "markdown",
   "metadata": {
    "id": "uCiVI-xUwSJm"
   },
   "source": [
    "Alternatively, if you want to do LoRA and QLoRA fine-tuning, you can run below cells to load the adapter either in full precision or quantized."
   ]
  },
  {
   "cell_type": "code",
   "execution_count": 6,
   "metadata": {
    "id": "9AYeuyzNuJ9X",
    "tags": []
   },
   "outputs": [
    {
     "name": "stdout",
     "output_type": "stream",
     "text": [
      "trainable params: 45,195,264 || all params: 2,968,661,744 || trainable%: 1.5224\n"
     ]
    }
   ],
   "source": [
    "from peft import get_peft_model, LoraConfig\n",
    "\n",
    "quantize = False\n",
    "\n",
    "if quantize:\n",
    "    from transformers import BitsAndBytesConfig\n",
    "    bnb_config = BitsAndBytesConfig(\n",
    "            load_in_4bit=True,\n",
    "            bnb_4bit_quant_type=\"nf4\",\n",
    "            bnb_4bit_compute_type=torch.bfloat16\n",
    "    )\n",
    "    model = PaliGemmaForConditionalGeneration.from_pretrained(model_id, quantization_config=bnb_config, device_map={\"\":0})\n",
    "\n",
    "lora_config = LoraConfig(\n",
    "    r=32,\n",
    "    target_modules=[\"q_proj\", \"o_proj\", \"k_proj\", \"v_proj\", \"gate_proj\", \"up_proj\", \"down_proj\"],\n",
    "    task_type=\"CAUSAL_LM\",\n",
    ")\n",
    "model = get_peft_model(model, lora_config)\n",
    "model.print_trainable_parameters()\n",
    "#trainable params: 11,298,816 || all params: 2,934,634,224 || trainable%: 0.38501616002417344\n"
   ]
  },
  {
   "cell_type": "markdown",
   "metadata": {
    "id": "logv0oLqwbIe"
   },
   "source": [
    "We will now initialize the `TrainingArguments`."
   ]
  },
  {
   "cell_type": "code",
   "execution_count": 7,
   "metadata": {
    "id": "Il7zKQO9uMPT",
    "tags": []
   },
   "outputs": [],
   "source": [
    "from transformers import TrainingArguments\n",
    "\n",
    "args = TrainingArguments(\n",
    "    num_train_epochs=2,\n",
    "    remove_unused_columns=False,\n",
    "    per_device_train_batch_size=4,\n",
    "    gradient_accumulation_steps=4,\n",
    "    warmup_steps=2,\n",
    "    learning_rate=2e-5,\n",
    "    weight_decay=1e-6,\n",
    "    adam_beta2=0.999,\n",
    "    logging_steps=100,\n",
    "    optim=\"adamw_hf\",\n",
    "    save_strategy=\"steps\",\n",
    "    save_steps=1000,\n",
    "    push_to_hub=False,\n",
    "    save_total_limit=1,\n",
    "    output_dir=\"paligemma_refcocog\",\n",
    "    bf16=True,\n",
    "    report_to=[\"tensorboard\"],\n",
    "    dataloader_pin_memory=False\n",
    ")\n"
   ]
  },
  {
   "cell_type": "markdown",
   "metadata": {
    "id": "8pR0EaGlwrDp"
   },
   "source": [
    "We can now start training."
   ]
  },
  {
   "cell_type": "code",
   "execution_count": 23,
   "metadata": {
    "id": "CguCGDv1uNkF",
    "tags": []
   },
   "outputs": [
    {
     "name": "stderr",
     "output_type": "stream",
     "text": [
      "Detected kernel version 4.18.0, which is below the recommended minimum of 5.5.0; this can cause the process to hang. It is recommended to upgrade the kernel to the minimum version or higher.\n"
     ]
    }
   ],
   "source": [
    "from transformers import Trainer\n",
    "\n",
    "# Converts pandas dataframe to a list of dictionaries\n",
    "train_ds = dataset['train'].to_dict('records')\n",
    "trainer = Trainer(\n",
    "    model=model,\n",
    "    train_dataset=train_ds,\n",
    "    data_collator=collate_fn,\n",
    "    args=args\n",
    ")\n"
   ]
  },
  {
   "cell_type": "code",
   "execution_count": null,
   "metadata": {
    "id": "9KFPQLrnF2Ha",
    "tags": []
   },
   "outputs": [
    {
     "name": "stderr",
     "output_type": "stream",
     "text": [
      "/sfs/weka/scratch/gsk6me/WORLDMODELS/crl-online-policies/env/lib/python3.11/site-packages/transformers/optimization.py:588: FutureWarning: This implementation of AdamW is deprecated and will be removed in a future version. Use the PyTorch implementation torch.optim.AdamW instead, or set `no_deprecation_warning=True` to disable this warning\n",
      "  warnings.warn(\n"
     ]
    },
    {
     "data": {
      "text/html": [
       "\n",
       "    <div>\n",
       "      \n",
       "      <progress value='1036' max='10064' style='width:300px; height:20px; vertical-align: middle;'></progress>\n",
       "      [ 1036/10064 18:52 < 2:44:45, 0.91 it/s, Epoch 0.21/2]\n",
       "    </div>\n",
       "    <table border=\"1\" class=\"dataframe\">\n",
       "  <thead>\n",
       " <tr style=\"text-align: left;\">\n",
       "      <th>Step</th>\n",
       "      <th>Training Loss</th>\n",
       "    </tr>\n",
       "  </thead>\n",
       "  <tbody>\n",
       "    <tr>\n",
       "      <td>100</td>\n",
       "      <td>3.324600</td>\n",
       "    </tr>\n",
       "    <tr>\n",
       "      <td>200</td>\n",
       "      <td>2.109100</td>\n",
       "    </tr>\n",
       "    <tr>\n",
       "      <td>300</td>\n",
       "      <td>1.992000</td>\n",
       "    </tr>\n",
       "    <tr>\n",
       "      <td>400</td>\n",
       "      <td>2.002200</td>\n",
       "    </tr>\n",
       "    <tr>\n",
       "      <td>500</td>\n",
       "      <td>1.947000</td>\n",
       "    </tr>\n",
       "    <tr>\n",
       "      <td>600</td>\n",
       "      <td>1.897000</td>\n",
       "    </tr>\n",
       "    <tr>\n",
       "      <td>700</td>\n",
       "      <td>1.909800</td>\n",
       "    </tr>\n",
       "    <tr>\n",
       "      <td>800</td>\n",
       "      <td>1.880000</td>\n",
       "    </tr>\n",
       "    <tr>\n",
       "      <td>900</td>\n",
       "      <td>1.933700</td>\n",
       "    </tr>\n",
       "    <tr>\n",
       "      <td>1000</td>\n",
       "      <td>1.875800</td>\n",
       "    </tr>\n",
       "  </tbody>\n",
       "</table><p>"
      ],
      "text/plain": [
       "<IPython.core.display.HTML object>"
      ]
     },
     "metadata": {},
     "output_type": "display_data"
    },
    {
     "name": "stderr",
     "output_type": "stream",
     "text": [
      "/sfs/weka/scratch/gsk6me/WORLDMODELS/crl-online-policies/env/lib/python3.11/site-packages/peft/utils/other.py:611: UserWarning: Unable to fetch remote file due to the following error 401 Client Error. (Request ID: Root=1-665a3bc2-5302d6326a3b0e3674d68c40;0110c35e-0272-430c-be10-31f482118ee5)\n",
      "\n",
      "Cannot access gated repo for url https://huggingface.co/google/paligemma-3b-pt-224/resolve/main/config.json.\n",
      "Access to model google/paligemma-3b-pt-224 is restricted. You must be authenticated to access it. - silently ignoring the lookup for the file config.json in google/paligemma-3b-pt-224.\n",
      "  warnings.warn(\n",
      "/sfs/weka/scratch/gsk6me/WORLDMODELS/crl-online-policies/env/lib/python3.11/site-packages/peft/utils/save_and_load.py:195: UserWarning: Could not find a config file in google/paligemma-3b-pt-224 - will assume that the vocabulary was not modified.\n",
      "  warnings.warn(\n"
     ]
    }
   ],
   "source": [
    "trainer.train()"
   ]
  },
  {
   "cell_type": "code",
   "execution_count": null,
   "metadata": {
    "id": "O9fMDEjXSSzF"
   },
   "outputs": [],
   "source": [
    "trainer.push_to_hub()"
   ]
  },
  {
   "cell_type": "markdown",
   "metadata": {
    "id": "JohfxEJQjLBd"
   },
   "source": [
    "You can find steps to infer [here](https://colab.research.google.com/drive/100IQcvMvGm9y--oelbLfI__eHCoz5Ser?usp=sharing)."
   ]
  }
 ],
 "metadata": {
  "accelerator": "GPU",
  "colab": {
   "gpuType": "A100",
   "machine_shape": "hm",
   "private_outputs": true,
   "provenance": []
  },
  "kernelspec": {
   "display_name": "cas_env",
   "language": "python",
   "name": "cas_env"
  },
  "language_info": {
   "codemirror_mode": {
    "name": "ipython",
    "version": 3
   },
   "file_extension": ".py",
   "mimetype": "text/x-python",
   "name": "python",
   "nbconvert_exporter": "python",
   "pygments_lexer": "ipython3",
   "version": "3.11.4"
  }
 },
 "nbformat": 4,
 "nbformat_minor": 4
}
