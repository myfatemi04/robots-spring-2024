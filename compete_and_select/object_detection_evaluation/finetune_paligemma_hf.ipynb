{
 "cells": [
  {
   "cell_type": "markdown",
   "metadata": {
    "id": "m8t6tkjuuONX"
   },
   "source": [
    "## PaliGemma Fine-tuning\n",
    "\n",
    "In this notebook, we will fine-tune [pretrained PaliGemma](https://huggingface.co/google/paligemma-3b-pt-448) on a small split of [VQAv2](https://huggingface.co/datasets/HuggingFaceM4/VQAv2) dataset. Let's get started by installing necessary libraries."
   ]
  },
  {
   "cell_type": "code",
   "execution_count": 1,
   "metadata": {
    "id": "FrKEBkmJtMan",
    "tags": []
   },
   "outputs": [],
   "source": [
    "%load_ext autoreload\n",
    "%autoreload 2\n",
    "\n",
    "# !pip install -q -U git+https://github.com/huggingface/transformers.git datasets accelerate"
   ]
  },
  {
   "cell_type": "markdown",
   "metadata": {
    "id": "q_85okyYt1eo"
   },
   "source": [
    "We will authenticate to access the model using `notebook_login()`."
   ]
  },
  {
   "cell_type": "code",
   "execution_count": 2,
   "metadata": {
    "tags": []
   },
   "outputs": [],
   "source": [
    "import pandas as pd\n",
    "\n",
    "# https://stackoverflow.com/questions/50475635/loading-jsonl-file-as-json-objects\n",
    "dataset = {\n",
    "    split: pd.read_json(path_or_buf=f\"./refcocog_{split}.jsonl\", lines=True)\n",
    "    for split in ['train', 'test', 'val']\n",
    "}\n"
   ]
  },
  {
   "cell_type": "markdown",
   "metadata": {},
   "source": [
    "# Cleaning"
   ]
  },
  {
   "cell_type": "code",
   "execution_count": 3,
   "metadata": {
    "tags": []
   },
   "outputs": [
    {
     "data": {
      "text/html": [
       "<div>\n",
       "<style scoped>\n",
       "    .dataframe tbody tr th:only-of-type {\n",
       "        vertical-align: middle;\n",
       "    }\n",
       "\n",
       "    .dataframe tbody tr th {\n",
       "        vertical-align: top;\n",
       "    }\n",
       "\n",
       "    .dataframe thead th {\n",
       "        text-align: right;\n",
       "    }\n",
       "</style>\n",
       "<table border=\"1\" class=\"dataframe\">\n",
       "  <thead>\n",
       "    <tr style=\"text-align: right;\">\n",
       "      <th></th>\n",
       "      <th>image</th>\n",
       "      <th>prefix</th>\n",
       "      <th>suffix</th>\n",
       "    </tr>\n",
       "  </thead>\n",
       "  <tbody>\n",
       "    <tr>\n",
       "      <th>0</th>\n",
       "      <td>/scratch/gsk6me/WORLDMODELS/train2014/COCO_tra...</td>\n",
       "      <td>Describe &lt;loc0000&gt;&lt;loc0098&gt;&lt;loc0382&gt;&lt;loc0871&gt;</td>\n",
       "      <td>Answer: two woman one in black eatting and the...</td>\n",
       "    </tr>\n",
       "    <tr>\n",
       "      <th>1</th>\n",
       "      <td>/scratch/gsk6me/WORLDMODELS/train2014/COCO_tra...</td>\n",
       "      <td>Describe &lt;loc0000&gt;&lt;loc0098&gt;&lt;loc0382&gt;&lt;loc0871&gt;</td>\n",
       "      <td>Answer: woman in white shirt looking down at l...</td>\n",
       "    </tr>\n",
       "    <tr>\n",
       "      <th>2</th>\n",
       "      <td>/scratch/gsk6me/WORLDMODELS/train2014/COCO_tra...</td>\n",
       "      <td>Describe &lt;loc0357&gt;&lt;loc0763&gt;&lt;loc0321&gt;&lt;loc0223&gt;</td>\n",
       "      <td>Answer: a tv with a woman being interviewed on it</td>\n",
       "    </tr>\n",
       "    <tr>\n",
       "      <th>3</th>\n",
       "      <td>/scratch/gsk6me/WORLDMODELS/train2014/COCO_tra...</td>\n",
       "      <td>Describe &lt;loc0357&gt;&lt;loc0763&gt;&lt;loc0321&gt;&lt;loc0223&gt;</td>\n",
       "      <td>Answer: a woman with sunglasses on her head on...</td>\n",
       "    </tr>\n",
       "    <tr>\n",
       "      <th>4</th>\n",
       "      <td>/scratch/gsk6me/WORLDMODELS/train2014/COCO_tra...</td>\n",
       "      <td>Describe &lt;loc0150&gt;&lt;loc0110&gt;&lt;loc0557&gt;&lt;loc0552&gt;</td>\n",
       "      <td>Answer: a young boy doing a skateboard trick o...</td>\n",
       "    </tr>\n",
       "    <tr>\n",
       "      <th>...</th>\n",
       "      <td>...</td>\n",
       "      <td>...</td>\n",
       "      <td>...</td>\n",
       "    </tr>\n",
       "    <tr>\n",
       "      <th>80507</th>\n",
       "      <td>/scratch/gsk6me/WORLDMODELS/train2014/COCO_tra...</td>\n",
       "      <td>Describe &lt;loc0226&gt;&lt;loc0049&gt;&lt;loc0574&gt;&lt;loc0346&gt;</td>\n",
       "      <td>Answer: the larger banana is above the small r...</td>\n",
       "    </tr>\n",
       "    <tr>\n",
       "      <th>80508</th>\n",
       "      <td>/scratch/gsk6me/WORLDMODELS/train2014/COCO_tra...</td>\n",
       "      <td>Describe &lt;loc0226&gt;&lt;loc0230&gt;&lt;loc0184&gt;&lt;loc0768&gt;</td>\n",
       "      <td>Answer: a guy in black jacket and cowboy hat</td>\n",
       "    </tr>\n",
       "    <tr>\n",
       "      <th>80509</th>\n",
       "      <td>/scratch/gsk6me/WORLDMODELS/train2014/COCO_tra...</td>\n",
       "      <td>Describe &lt;loc0226&gt;&lt;loc0230&gt;&lt;loc0184&gt;&lt;loc0768&gt;</td>\n",
       "      <td>Answer: the man in the dark coat and pointier hat</td>\n",
       "    </tr>\n",
       "    <tr>\n",
       "      <th>80510</th>\n",
       "      <td>/scratch/gsk6me/WORLDMODELS/train2014/COCO_tra...</td>\n",
       "      <td>Describe &lt;loc0084&gt;&lt;loc0107&gt;&lt;loc0939&gt;&lt;loc0916&gt;</td>\n",
       "      <td>Answer: a person in red dress and he is seeing...</td>\n",
       "    </tr>\n",
       "    <tr>\n",
       "      <th>80511</th>\n",
       "      <td>/scratch/gsk6me/WORLDMODELS/train2014/COCO_tra...</td>\n",
       "      <td>Describe &lt;loc0084&gt;&lt;loc0107&gt;&lt;loc0939&gt;&lt;loc0916&gt;</td>\n",
       "      <td>Answer: man wearing a red costume</td>\n",
       "    </tr>\n",
       "  </tbody>\n",
       "</table>\n",
       "<p>80512 rows × 3 columns</p>\n",
       "</div>"
      ],
      "text/plain": [
       "                                                   image  \\\n",
       "0      /scratch/gsk6me/WORLDMODELS/train2014/COCO_tra...   \n",
       "1      /scratch/gsk6me/WORLDMODELS/train2014/COCO_tra...   \n",
       "2      /scratch/gsk6me/WORLDMODELS/train2014/COCO_tra...   \n",
       "3      /scratch/gsk6me/WORLDMODELS/train2014/COCO_tra...   \n",
       "4      /scratch/gsk6me/WORLDMODELS/train2014/COCO_tra...   \n",
       "...                                                  ...   \n",
       "80507  /scratch/gsk6me/WORLDMODELS/train2014/COCO_tra...   \n",
       "80508  /scratch/gsk6me/WORLDMODELS/train2014/COCO_tra...   \n",
       "80509  /scratch/gsk6me/WORLDMODELS/train2014/COCO_tra...   \n",
       "80510  /scratch/gsk6me/WORLDMODELS/train2014/COCO_tra...   \n",
       "80511  /scratch/gsk6me/WORLDMODELS/train2014/COCO_tra...   \n",
       "\n",
       "                                              prefix  \\\n",
       "0      Describe <loc0000><loc0098><loc0382><loc0871>   \n",
       "1      Describe <loc0000><loc0098><loc0382><loc0871>   \n",
       "2      Describe <loc0357><loc0763><loc0321><loc0223>   \n",
       "3      Describe <loc0357><loc0763><loc0321><loc0223>   \n",
       "4      Describe <loc0150><loc0110><loc0557><loc0552>   \n",
       "...                                              ...   \n",
       "80507  Describe <loc0226><loc0049><loc0574><loc0346>   \n",
       "80508  Describe <loc0226><loc0230><loc0184><loc0768>   \n",
       "80509  Describe <loc0226><loc0230><loc0184><loc0768>   \n",
       "80510  Describe <loc0084><loc0107><loc0939><loc0916>   \n",
       "80511  Describe <loc0084><loc0107><loc0939><loc0916>   \n",
       "\n",
       "                                                  suffix  \n",
       "0      Answer: two woman one in black eatting and the...  \n",
       "1      Answer: woman in white shirt looking down at l...  \n",
       "2      Answer: a tv with a woman being interviewed on it  \n",
       "3      Answer: a woman with sunglasses on her head on...  \n",
       "4      Answer: a young boy doing a skateboard trick o...  \n",
       "...                                                  ...  \n",
       "80507  Answer: the larger banana is above the small r...  \n",
       "80508       Answer: a guy in black jacket and cowboy hat  \n",
       "80509  Answer: the man in the dark coat and pointier hat  \n",
       "80510  Answer: a person in red dress and he is seeing...  \n",
       "80511                  Answer: man wearing a red costume  \n",
       "\n",
       "[80512 rows x 3 columns]"
      ]
     },
     "execution_count": 3,
     "metadata": {},
     "output_type": "execute_result"
    }
   ],
   "source": [
    "dataset['train']"
   ]
  },
  {
   "cell_type": "code",
   "execution_count": 4,
   "metadata": {
    "tags": []
   },
   "outputs": [],
   "source": [
    "def clean_label(label):\n",
    "    label = label[len('Answer: '):]\n",
    "    \n",
    "    # Remove unnecessary articles\n",
    "    if label.startswith(\"a \"):\n",
    "        label = label[2:]\n",
    "    if label.startswith(\"the \"):\n",
    "        label = label[4:]\n",
    "        \n",
    "    # Try to make predictions as clean as possible\n",
    "    return label"
   ]
  },
  {
   "cell_type": "code",
   "execution_count": 5,
   "metadata": {
    "tags": []
   },
   "outputs": [],
   "source": [
    "dataset['train']['suffix'] = dataset['train']['suffix'].apply(clean_label)"
   ]
  },
  {
   "cell_type": "code",
   "execution_count": 6,
   "metadata": {
    "tags": []
   },
   "outputs": [
    {
     "data": {
      "text/html": [
       "<div>\n",
       "<style scoped>\n",
       "    .dataframe tbody tr th:only-of-type {\n",
       "        vertical-align: middle;\n",
       "    }\n",
       "\n",
       "    .dataframe tbody tr th {\n",
       "        vertical-align: top;\n",
       "    }\n",
       "\n",
       "    .dataframe thead th {\n",
       "        text-align: right;\n",
       "    }\n",
       "</style>\n",
       "<table border=\"1\" class=\"dataframe\">\n",
       "  <thead>\n",
       "    <tr style=\"text-align: right;\">\n",
       "      <th></th>\n",
       "      <th>image</th>\n",
       "      <th>prefix</th>\n",
       "      <th>suffix</th>\n",
       "    </tr>\n",
       "  </thead>\n",
       "  <tbody>\n",
       "    <tr>\n",
       "      <th>0</th>\n",
       "      <td>/scratch/gsk6me/WORLDMODELS/train2014/COCO_tra...</td>\n",
       "      <td>Describe &lt;loc0000&gt;&lt;loc0098&gt;&lt;loc0382&gt;&lt;loc0871&gt;</td>\n",
       "      <td>two woman one in black eatting and the other h...</td>\n",
       "    </tr>\n",
       "    <tr>\n",
       "      <th>1</th>\n",
       "      <td>/scratch/gsk6me/WORLDMODELS/train2014/COCO_tra...</td>\n",
       "      <td>Describe &lt;loc0000&gt;&lt;loc0098&gt;&lt;loc0382&gt;&lt;loc0871&gt;</td>\n",
       "      <td>woman in white shirt looking down at laptop co...</td>\n",
       "    </tr>\n",
       "    <tr>\n",
       "      <th>2</th>\n",
       "      <td>/scratch/gsk6me/WORLDMODELS/train2014/COCO_tra...</td>\n",
       "      <td>Describe &lt;loc0357&gt;&lt;loc0763&gt;&lt;loc0321&gt;&lt;loc0223&gt;</td>\n",
       "      <td>tv with a woman being interviewed on it</td>\n",
       "    </tr>\n",
       "    <tr>\n",
       "      <th>3</th>\n",
       "      <td>/scratch/gsk6me/WORLDMODELS/train2014/COCO_tra...</td>\n",
       "      <td>Describe &lt;loc0357&gt;&lt;loc0763&gt;&lt;loc0321&gt;&lt;loc0223&gt;</td>\n",
       "      <td>woman with sunglasses on her head on the telev...</td>\n",
       "    </tr>\n",
       "    <tr>\n",
       "      <th>4</th>\n",
       "      <td>/scratch/gsk6me/WORLDMODELS/train2014/COCO_tra...</td>\n",
       "      <td>Describe &lt;loc0150&gt;&lt;loc0110&gt;&lt;loc0557&gt;&lt;loc0552&gt;</td>\n",
       "      <td>young boy doing a skateboard trick on a blue b...</td>\n",
       "    </tr>\n",
       "  </tbody>\n",
       "</table>\n",
       "</div>"
      ],
      "text/plain": [
       "                                               image  \\\n",
       "0  /scratch/gsk6me/WORLDMODELS/train2014/COCO_tra...   \n",
       "1  /scratch/gsk6me/WORLDMODELS/train2014/COCO_tra...   \n",
       "2  /scratch/gsk6me/WORLDMODELS/train2014/COCO_tra...   \n",
       "3  /scratch/gsk6me/WORLDMODELS/train2014/COCO_tra...   \n",
       "4  /scratch/gsk6me/WORLDMODELS/train2014/COCO_tra...   \n",
       "\n",
       "                                          prefix  \\\n",
       "0  Describe <loc0000><loc0098><loc0382><loc0871>   \n",
       "1  Describe <loc0000><loc0098><loc0382><loc0871>   \n",
       "2  Describe <loc0357><loc0763><loc0321><loc0223>   \n",
       "3  Describe <loc0357><loc0763><loc0321><loc0223>   \n",
       "4  Describe <loc0150><loc0110><loc0557><loc0552>   \n",
       "\n",
       "                                              suffix  \n",
       "0  two woman one in black eatting and the other h...  \n",
       "1  woman in white shirt looking down at laptop co...  \n",
       "2            tv with a woman being interviewed on it  \n",
       "3  woman with sunglasses on her head on the telev...  \n",
       "4  young boy doing a skateboard trick on a blue b...  "
      ]
     },
     "execution_count": 6,
     "metadata": {},
     "output_type": "execute_result"
    }
   ],
   "source": [
    "dataset['train'].head()"
   ]
  },
  {
   "cell_type": "code",
   "execution_count": 7,
   "metadata": {
    "tags": []
   },
   "outputs": [
    {
     "data": {
      "text/plain": [
       "['man jumping with a skateboard',\n",
       " 'long - horn , long - haired brown cow looking at the camera',\n",
       " 'brown bull in front of feeding tub',\n",
       " 'woman in black dress',\n",
       " 'lady in a black dress cuts a wedding cake with her new husband']"
      ]
     },
     "execution_count": 7,
     "metadata": {},
     "output_type": "execute_result"
    }
   ],
   "source": [
    "dataset['train']['suffix'].iloc[5:10].tolist()"
   ]
  },
  {
   "cell_type": "markdown",
   "metadata": {},
   "source": [
    "Can we clean the grammar? This grammar is horrendous. Maybe we can use Phi-2 for this."
   ]
  },
  {
   "cell_type": "code",
   "execution_count": 8,
   "metadata": {
    "tags": []
   },
   "outputs": [
    {
     "name": "stderr",
     "output_type": "stream",
     "text": [
      "/sfs/weka/scratch/gsk6me/WORLDMODELS/crl-online-policies/env/lib/python3.11/site-packages/tqdm/auto.py:21: TqdmWarning: IProgress not found. Please update jupyter and ipywidgets. See https://ipywidgets.readthedocs.io/en/stable/user_install.html\n",
      "  from .autonotebook import tqdm as notebook_tqdm\n",
      "Loading checkpoint shards: 100%|██████████| 2/2 [00:01<00:00,  1.29it/s]\n",
      "Special tokens have been added in the vocabulary, make sure the associated word embeddings are fine-tuned or trained.\n"
     ]
    }
   ],
   "source": [
    "import torch\n",
    "from transformers import AutoModelForCausalLM, AutoTokenizer\n",
    "\n",
    "phi2_model = AutoModelForCausalLM.from_pretrained(\"microsoft/phi-2\", torch_dtype=\"auto\", trust_remote_code=True, device_map=\"cuda\")\n",
    "phi2_tokenizer = AutoTokenizer.from_pretrained(\"microsoft/phi-2\", trust_remote_code=True)"
   ]
  },
  {
   "cell_type": "code",
   "execution_count": 27,
   "metadata": {
    "tags": []
   },
   "outputs": [
    {
     "name": "stderr",
     "output_type": "stream",
     "text": [
      "Special tokens have been added in the vocabulary, make sure the associated word embeddings are fine-tuned or trained.\n"
     ]
    }
   ],
   "source": [
    "\n",
    "phi2_tokenizer = AutoTokenizer.from_pretrained(\"microsoft/phi-2\", trust_remote_code=True, padding_side='left')"
   ]
  },
  {
   "cell_type": "code",
   "execution_count": 9,
   "metadata": {
    "tags": []
   },
   "outputs": [],
   "source": [
    "### Because we put a lot of examples in the prompt, we can use a KV cache to speed up inference. ###\n",
    "\n",
    "prefix_prompt = f\"\"\"\n",
    "Convert the input into a grammatically-correct phrase, preserving all details.\n",
    "\n",
    "Sentence: two woman one in black eatting and the other has a white shirt at the desk\n",
    "\n",
    "Extraction: two women, one in black eating, and the other with a white shirt at the desk\n",
    "\n",
    "Sentence: young boy doing a skateboard trick on a blue board\n",
    "\n",
    "Extraction: young boy doing a skateboard trick on a blue board\n",
    "\n",
    "Sentence: lady in a black dress cuts a wedding cake with her new husband\n",
    "\n",
    "Extraction: lady in a black dress cutting a wedding cake with her new husband\n",
    "\n",
    "Sentence: woman in motion\n",
    "\n",
    "Extraction: woman in motion\n",
    "\n",
    "Sentence:\"\"\"\n",
    "\n",
    "inputs = phi2_tokenizer(prefix_prompt, return_tensors=\"pt\")\n",
    "inputs = inputs.to(\"cuda\")\n",
    "with torch.no_grad():\n",
    "    output = phi2_model(**inputs, use_cache=True)\n",
    "past_key_values = output.past_key_values"
   ]
  },
  {
   "cell_type": "code",
   "execution_count": 62,
   "metadata": {
    "tags": []
   },
   "outputs": [],
   "source": [
    "from transformers import StoppingCriteria\n",
    "\n",
    "# We implement a \"stopping criterion\" to prevent generation from going too far.\n",
    "# https://huggingface.co/PygmalionAI/pygmalion-6b/discussions/25\n",
    "class MyStoppingCriteria(StoppingCriteria):\n",
    "    def __init__(self, target_sequence, n_prompt_tokens, tokenizer):\n",
    "        self.target_sequence = target_sequence\n",
    "        self.n_prompt_tokens = n_prompt_tokens\n",
    "        self.tokenizer = tokenizer\n",
    "\n",
    "    def __call__(self, token_ids, scores, **kwargs):\n",
    "        # Get the generated text as a string\n",
    "        output_ids = token_ids[:, self.n_prompt_tokens:]\n",
    "        return all('\\n' in s for s in self.tokenizer.batch_decode(output_ids))\n",
    "\n",
    "    def __len__(self):\n",
    "        return 1\n",
    "\n",
    "    def __iter__(self):\n",
    "        yield self"
   ]
  },
  {
   "cell_type": "code",
   "execution_count": 63,
   "metadata": {
    "tags": []
   },
   "outputs": [],
   "source": [
    "def correct_sentences(sentences):\n",
    "    prompts = [f\"\"\"{prefix_prompt} {sentence}\n",
    "\n",
    "Extraction:\n",
    "\"\"\".strip() for sentence in sentences]\n",
    "    \n",
    "    # Enable padding for batching.\n",
    "    phi2_tokenizer.pad_token = phi2_tokenizer.eos_token\n",
    "    inputs = phi2_tokenizer(prompts, return_tensors=\"pt\", padding=True)\n",
    "    inputs = inputs.to(\"cuda\")\n",
    "\n",
    "    stopper = MyStoppingCriteria('\\n', len(inputs.input_ids[0]), phi2_tokenizer)\n",
    "\n",
    "    with torch.no_grad():\n",
    "        outputs = phi2_model.generate(\n",
    "            **inputs,\n",
    "            max_new_tokens=30,\n",
    "            stopping_criteria=stopper,\n",
    "            pad_token_id=phi2_tokenizer.eos_token_id,\n",
    "            # KV cache\n",
    "            # past_key_values=past_key_values.expand(len(sentences), *(-1 for _ in range(len(past_key_values\n",
    "        )\n",
    "        texts = phi2_tokenizer.batch_decode(outputs[:, len(inputs[0]):])\n",
    "        texts = [texts[i].split(\"\\n\")[0].strip() for i in range(len(prompts))]\n",
    "        \n",
    "    return texts"
   ]
  },
  {
   "cell_type": "code",
   "execution_count": 65,
   "metadata": {
    "tags": []
   },
   "outputs": [
    {
     "name": "stderr",
     "output_type": "stream",
     "text": [
      "correcting labels...: 100%|█████████▉| 80504/80512 [1:15:25<00:00, 17.79it/s]\n"
     ]
    }
   ],
   "source": [
    "import tqdm\n",
    "import concurrent.futures\n",
    "\n",
    "corrected = []\n",
    "suffixes = dataset['train']['suffix'].tolist()\n",
    "\n",
    "i = 0\n",
    "\n",
    "with tqdm.tqdm(desc='correcting labels...', total=len(suffixes)) as pbar:\n",
    "    while i < len(suffixes):\n",
    "        # Use a batch size of 8.\n",
    "        corrected.extend(correct_sentences(suffixes[i:i + 8]))\n",
    "        i += 8\n",
    "        pbar.update(len(suffixes[i:i + 8]))\n"
   ]
  },
  {
   "cell_type": "code",
   "execution_count": 66,
   "metadata": {
    "tags": []
   },
   "outputs": [],
   "source": [
    "import json\n",
    "with open(\"train_corrected.json\", \"w\") as f:\n",
    "    json.dump(corrected, f)\n",
    "    \n",
    "with open(\"train_original.json\", \"w\") as f:\n",
    "    json.dump(suffixes, f)"
   ]
  },
  {
   "cell_type": "code",
   "execution_count": 70,
   "metadata": {
    "tags": []
   },
   "outputs": [],
   "source": [
    "dataset['train']['suffix'] = suffixes"
   ]
  },
  {
   "cell_type": "markdown",
   "metadata": {},
   "source": [
    "# Training"
   ]
  },
  {
   "cell_type": "markdown",
   "metadata": {
    "id": "OsquATWQu2lJ"
   },
   "source": [
    "Load the processor to preprocess the dataset."
   ]
  },
  {
   "cell_type": "code",
   "execution_count": 2,
   "metadata": {
    "id": "Zya_PWM3uBWs",
    "tags": []
   },
   "outputs": [
    {
     "name": "stderr",
     "output_type": "stream",
     "text": [
      "/sfs/weka/scratch/gsk6me/WORLDMODELS/crl-online-policies/env/lib/python3.11/site-packages/tqdm/auto.py:21: TqdmWarning: IProgress not found. Please update jupyter and ipywidgets. See https://ipywidgets.readthedocs.io/en/stable/user_install.html\n",
      "  from .autonotebook import tqdm as notebook_tqdm\n",
      "`config.hidden_act` is ignored, you should use `config.hidden_activation` instead.\n",
      "Gemma's activation function will be set to `gelu_pytorch_tanh`. Please, use\n",
      "`config.hidden_activation` if you want to override this behaviour.\n",
      "See https://github.com/huggingface/transformers/pull/29402 for more details.\n",
      "Loading checkpoint shards: 100%|██████████| 2/2 [00:03<00:00,  1.61s/it]\n"
     ]
    }
   ],
   "source": [
    "from transformers import PaliGemmaProcessor, PaliGemmaForConditionalGeneration\n",
    "import os\n",
    "import dotenv\n",
    "import torch\n",
    "\n",
    "device = torch.device(\"cuda\" if torch.cuda.is_available() else \"cpu\")\n",
    "\n",
    "dotenv.load_dotenv(\"/scratch/gsk6me/WORLDMODELS/crl-online-policies/.env\")\n",
    "\n",
    "token = os.environ['HUGGINGFACE_ACCESS_TOKEN']\n",
    "model_id = \"google/paligemma-3b-mix-224\"\n",
    "processor = PaliGemmaProcessor.from_pretrained(model_id, token=token)\n",
    "\n",
    "model = PaliGemmaForConditionalGeneration.from_pretrained(\"paligemma_object_classifier/checkpoint-37500\", torch_dtype=torch.bfloat16, token=token, device_map=device)\n",
    "# model = PaliGemmaForConditionalGeneration.from_pretrained(model_id, torch_dtype=torch.bfloat16, token=token, device_map=device)\n",
    "\n",
    "for param in model.vision_tower.parameters():\n",
    "    param.requires_grad = False\n",
    "\n",
    "# for param in model.multi_modal_projector.parameters():\n",
    "#     param.requires_grad = False\n"
   ]
  },
  {
   "cell_type": "code",
   "execution_count": 9,
   "metadata": {
    "id": "hdw3uBcNuGmw",
    "tags": []
   },
   "outputs": [],
   "source": [
    "import PIL.Image\n",
    "import os\n",
    "\n",
    "image_token = processor.tokenizer.convert_tokens_to_ids(\"<image>\")\n",
    "\n",
    "def collate_fn(image_root, examples):\n",
    "    images = [PIL.Image.open(os.path.join(image_root, example['image'])).convert(\"RGB\") for example in examples]\n",
    "    texts = [example['prefix'] for example in examples]\n",
    "    labels = [example['suffix'] for example in examples]\n",
    "    \n",
    "    tokens = processor(text=texts, images=images, suffix=labels,\n",
    "                    return_tensors=\"pt\", padding=\"longest\",\n",
    "                    tokenize_newline_separately=False)\n",
    "\n",
    "    tokens = tokens.to(torch.bfloat16).to(device)\n",
    "    return tokens\n"
   ]
  },
  {
   "cell_type": "markdown",
   "metadata": {
    "id": "uCiVI-xUwSJm"
   },
   "source": [
    "Alternatively, if you want to do LoRA and QLoRA fine-tuning, you can run below cells to load the adapter either in full precision or quantized."
   ]
  },
  {
   "cell_type": "code",
   "execution_count": 4,
   "metadata": {
    "tags": []
   },
   "outputs": [],
   "source": [
    "import gc\n",
    "gc.collect()\n",
    "torch.cuda.empty_cache()"
   ]
  },
  {
   "cell_type": "code",
   "execution_count": 23,
   "metadata": {
    "id": "9AYeuyzNuJ9X",
    "tags": []
   },
   "outputs": [],
   "source": [
    "from peft import get_peft_model, LoraConfig\n",
    "\n",
    "quantize = False\n",
    "use_lora = False\n",
    "\n",
    "if quantize:\n",
    "    from transformers import BitsAndBytesConfig\n",
    "    bnb_config = BitsAndBytesConfig(\n",
    "            load_in_4bit=True,\n",
    "            bnb_4bit_quant_type=\"nf4\",\n",
    "            bnb_4bit_compute_type=torch.bfloat16\n",
    "    )\n",
    "    model = PaliGemmaForConditionalGeneration.from_pretrained(model_id, quantization_config=bnb_config, device_map={\"\":0})\n",
    "\n",
    "if use_lora:\n",
    "    lora_config = LoraConfig(\n",
    "        r=32,\n",
    "        target_modules=[\"q_proj\", \"o_proj\", \"k_proj\", \"v_proj\", \"gate_proj\", \"up_proj\", \"down_proj\"],\n",
    "        task_type=\"CAUSAL_LM\",\n",
    "    )\n",
    "    model = get_peft_model(model, lora_config)\n",
    "    model.print_trainable_parameters()\n",
    "#trainable params: 11,298,816 || all params: 2,934,634,224 || trainable%: 0.38501616002417344\n"
   ]
  },
  {
   "cell_type": "markdown",
   "metadata": {
    "id": "8pR0EaGlwrDp"
   },
   "source": [
    "We can now start training."
   ]
  },
  {
   "cell_type": "markdown",
   "metadata": {},
   "source": [
    "## Pretrain on COCO object classification\n",
    "\n",
    "This should hopefully improve the model's ability to localize information\n"
   ]
  },
  {
   "cell_type": "code",
   "execution_count": 3,
   "metadata": {
    "tags": []
   },
   "outputs": [
    {
     "name": "stdout",
     "output_type": "stream",
     "text": [
      "loading annotations into memory...\n",
      "Done (t=9.49s)\n",
      "creating index...\n",
      "index created!\n"
     ]
    }
   ],
   "source": [
    "from pycocotools.coco import COCO\n",
    "coco_train2014 = COCO('/scratch/gsk6me/WORLDMODELS/coco_annotations/instances_train2014.json')"
   ]
  },
  {
   "cell_type": "code",
   "execution_count": 14,
   "metadata": {
    "tags": []
   },
   "outputs": [],
   "source": [
    "import PIL.Image\n",
    "import json\n",
    "\n",
    "if not os.path.exists(\"coco_train2014_clsify.jsonl\"):\n",
    "    coco_train2014_ds = []\n",
    "    coco_image_root = \"/scratch/gsk6me/WORLDMODELS\"\n",
    "\n",
    "    for image_id in sorted(coco_train2014.imgs.keys()):\n",
    "        image_path = f\"train2014/COCO_train2014_{image_id:012d}.jpg\"\n",
    "        image = PIL.Image.open(f\"{coco_image_root}/{image_path}\")\n",
    "        image_width = image.width\n",
    "        image_height = image.height\n",
    "        annots = coco_train2014.imgToAnns[image_id]\n",
    "        for annot in annots:\n",
    "            category_id = annot['category_id']\n",
    "            category_name = coco_train2014.cats[category_id]['name']\n",
    "            bbox = annot['bbox']\n",
    "\n",
    "            x0_quant = int((bbox[0] / image_width) * 1024)\n",
    "            y0_quant = int((bbox[1] / image_height) * 1024)\n",
    "            x1_quant = int(((bbox[0] + bbox[2]) / image_width) * 1024)\n",
    "            y1_quant = int(((bbox[1] + bbox[3]) / image_height) * 1024)\n",
    "\n",
    "            coco_train2014_ds.append({\n",
    "                'image': image_path,\n",
    "                'prefix': f'Describe <loc{x0_quant:04d}><loc{y0_quant:04d}><loc{x1_quant:04d}><loc{y1_quant:04d}>',\n",
    "                'suffix': category_name,\n",
    "                'bbox_x': bbox[0],\n",
    "                'bbox_y': bbox[1],\n",
    "                'bbox_w': bbox[2],\n",
    "                'bbox_h': bbox[3],\n",
    "                'image_width': image_width,\n",
    "                'image_height': image_height,\n",
    "            })\n",
    "\n",
    "    with open(\"coco_train2014_clsify.jsonl\", \"w\") as f:\n",
    "        for record in coco_train2014_ds:\n",
    "            json.dump(record, f)\n",
    "            f.write(\"\\n\")\n",
    "else:\n",
    "    with open(\"coco_train2014_clsify.jsonl\", \"w\") as f:\n",
    "        coco_train2014_ds = [json.loads(record) for record in f.read().split(\"\\n\") if record]\n"
   ]
  },
  {
   "cell_type": "markdown",
   "metadata": {},
   "source": [
    "# Train on OCID-Ref"
   ]
  },
  {
   "cell_type": "code",
   "execution_count": 12,
   "metadata": {
    "tags": []
   },
   "outputs": [],
   "source": [
    "import json\n",
    "\n",
    "def load_jsonl(paths):\n",
    "    if type(paths) is str:\n",
    "        paths = [paths]\n",
    "    ds = []\n",
    "    for path in paths:\n",
    "        with open(path) as f:\n",
    "            for line in f.readlines():\n",
    "                ds.append(json.loads(line.strip()))\n",
    "                \n",
    "    return ds\n",
    "\n",
    "train_ds = load_jsonl(\"ocid-ref-train.jsonl\")\n",
    "# train_ds = load_jsonl(['train_object_captions_1k.jsonl', 'train_object_captions_4k.jsonl'])\n"
   ]
  },
  {
   "cell_type": "code",
   "execution_count": 20,
   "metadata": {
    "tags": []
   },
   "outputs": [],
   "source": [
    "from transformers import TrainingArguments\n",
    "\n",
    "args = TrainingArguments(\n",
    "    num_train_epochs=1,\n",
    "    remove_unused_columns=False,\n",
    "    per_device_train_batch_size=4,\n",
    "    gradient_accumulation_steps=4,\n",
    "    warmup_steps=2,\n",
    "    learning_rate=2e-5,\n",
    "    weight_decay=1e-6,\n",
    "    adam_beta2=0.999,\n",
    "    logging_steps=128,\n",
    "    optim=\"adamw_hf\",\n",
    "    save_strategy=\"epoch\",\n",
    "    # save_strategy=\"steps\",\n",
    "    # save_steps=500,\n",
    "    push_to_hub=False,\n",
    "    save_total_limit=1,\n",
    "    output_dir=\"paligemma_object_captioner_pretrained_finetune_ocidref-train\",\n",
    "    # output_dir=\"paligemma_object_captioner_pretrained\",\n",
    "    bf16=True,\n",
    "    report_to=[\"tensorboard\"],\n",
    "    dataloader_pin_memory=False\n",
    ")\n"
   ]
  },
  {
   "cell_type": "code",
   "execution_count": 21,
   "metadata": {
    "id": "CguCGDv1uNkF",
    "tags": []
   },
   "outputs": [
    {
     "name": "stderr",
     "output_type": "stream",
     "text": [
      "Detected kernel version 4.18.0, which is below the recommended minimum of 5.5.0; this can cause the process to hang. It is recommended to upgrade the kernel to the minimum version or higher.\n"
     ]
    }
   ],
   "source": [
    "from transformers import Trainer\n",
    "from functools import partial\n",
    "\n",
    "coco_root = '/scratch/gsk6me/WORLDMODELS'\n",
    "ocid_root = '/scratch/gsk6me/WORLDMODELS/OCID-dataset'\n",
    "\n",
    "trainer = Trainer(\n",
    "    model=model,\n",
    "    train_dataset=train_ds,\n",
    "    data_collator=partial(collate_fn, ocid_root),\n",
    "    args=args\n",
    ")\n"
   ]
  },
  {
   "cell_type": "code",
   "execution_count": null,
   "metadata": {
    "id": "9KFPQLrnF2Ha",
    "tags": []
   },
   "outputs": [
    {
     "name": "stderr",
     "output_type": "stream",
     "text": [
      "/sfs/weka/scratch/gsk6me/WORLDMODELS/crl-online-policies/env/lib/python3.11/site-packages/transformers/optimization.py:588: FutureWarning: This implementation of AdamW is deprecated and will be removed in a future version. Use the PyTorch implementation torch.optim.AdamW instead, or set `no_deprecation_warning=True` to disable this warning\n",
      "  warnings.warn(\n"
     ]
    },
    {
     "data": {
      "text/html": [
       "\n",
       "    <div>\n",
       "      \n",
       "      <progress value='7403' max='16240' style='width:300px; height:20px; vertical-align: middle;'></progress>\n",
       "      [ 7403/16240 1:58:48 < 2:21:51, 1.04 it/s, Epoch 0.46/1]\n",
       "    </div>\n",
       "    <table border=\"1\" class=\"dataframe\">\n",
       "  <thead>\n",
       " <tr style=\"text-align: left;\">\n",
       "      <th>Step</th>\n",
       "      <th>Training Loss</th>\n",
       "    </tr>\n",
       "  </thead>\n",
       "  <tbody>\n",
       "    <tr>\n",
       "      <td>128</td>\n",
       "      <td>1.056100</td>\n",
       "    </tr>\n",
       "    <tr>\n",
       "      <td>256</td>\n",
       "      <td>0.820000</td>\n",
       "    </tr>\n",
       "    <tr>\n",
       "      <td>384</td>\n",
       "      <td>0.733600</td>\n",
       "    </tr>\n",
       "    <tr>\n",
       "      <td>512</td>\n",
       "      <td>0.681400</td>\n",
       "    </tr>\n",
       "    <tr>\n",
       "      <td>640</td>\n",
       "      <td>0.658800</td>\n",
       "    </tr>\n",
       "    <tr>\n",
       "      <td>768</td>\n",
       "      <td>0.620800</td>\n",
       "    </tr>\n",
       "    <tr>\n",
       "      <td>896</td>\n",
       "      <td>0.606200</td>\n",
       "    </tr>\n",
       "    <tr>\n",
       "      <td>1024</td>\n",
       "      <td>0.593300</td>\n",
       "    </tr>\n",
       "    <tr>\n",
       "      <td>1152</td>\n",
       "      <td>0.573900</td>\n",
       "    </tr>\n",
       "    <tr>\n",
       "      <td>1280</td>\n",
       "      <td>0.563400</td>\n",
       "    </tr>\n",
       "    <tr>\n",
       "      <td>1408</td>\n",
       "      <td>0.546800</td>\n",
       "    </tr>\n",
       "    <tr>\n",
       "      <td>1536</td>\n",
       "      <td>0.535600</td>\n",
       "    </tr>\n",
       "    <tr>\n",
       "      <td>1664</td>\n",
       "      <td>0.528000</td>\n",
       "    </tr>\n",
       "    <tr>\n",
       "      <td>1792</td>\n",
       "      <td>0.524800</td>\n",
       "    </tr>\n",
       "    <tr>\n",
       "      <td>1920</td>\n",
       "      <td>0.506700</td>\n",
       "    </tr>\n",
       "    <tr>\n",
       "      <td>2048</td>\n",
       "      <td>0.501000</td>\n",
       "    </tr>\n",
       "    <tr>\n",
       "      <td>2176</td>\n",
       "      <td>0.500700</td>\n",
       "    </tr>\n",
       "    <tr>\n",
       "      <td>2304</td>\n",
       "      <td>0.494700</td>\n",
       "    </tr>\n",
       "    <tr>\n",
       "      <td>2432</td>\n",
       "      <td>0.481800</td>\n",
       "    </tr>\n",
       "    <tr>\n",
       "      <td>2560</td>\n",
       "      <td>0.478200</td>\n",
       "    </tr>\n",
       "    <tr>\n",
       "      <td>2688</td>\n",
       "      <td>0.477400</td>\n",
       "    </tr>\n",
       "    <tr>\n",
       "      <td>2816</td>\n",
       "      <td>0.464400</td>\n",
       "    </tr>\n",
       "    <tr>\n",
       "      <td>2944</td>\n",
       "      <td>0.465200</td>\n",
       "    </tr>\n",
       "    <tr>\n",
       "      <td>3072</td>\n",
       "      <td>0.463500</td>\n",
       "    </tr>\n",
       "    <tr>\n",
       "      <td>3200</td>\n",
       "      <td>0.455000</td>\n",
       "    </tr>\n",
       "    <tr>\n",
       "      <td>3328</td>\n",
       "      <td>0.449300</td>\n",
       "    </tr>\n",
       "    <tr>\n",
       "      <td>3456</td>\n",
       "      <td>0.442000</td>\n",
       "    </tr>\n",
       "    <tr>\n",
       "      <td>3584</td>\n",
       "      <td>0.450600</td>\n",
       "    </tr>\n",
       "    <tr>\n",
       "      <td>3712</td>\n",
       "      <td>0.445900</td>\n",
       "    </tr>\n",
       "    <tr>\n",
       "      <td>3840</td>\n",
       "      <td>0.444800</td>\n",
       "    </tr>\n",
       "    <tr>\n",
       "      <td>3968</td>\n",
       "      <td>0.448200</td>\n",
       "    </tr>\n",
       "    <tr>\n",
       "      <td>4096</td>\n",
       "      <td>0.438100</td>\n",
       "    </tr>\n",
       "    <tr>\n",
       "      <td>4224</td>\n",
       "      <td>0.431900</td>\n",
       "    </tr>\n",
       "    <tr>\n",
       "      <td>4352</td>\n",
       "      <td>0.426200</td>\n",
       "    </tr>\n",
       "    <tr>\n",
       "      <td>4480</td>\n",
       "      <td>0.426100</td>\n",
       "    </tr>\n",
       "    <tr>\n",
       "      <td>4608</td>\n",
       "      <td>0.425800</td>\n",
       "    </tr>\n",
       "    <tr>\n",
       "      <td>4736</td>\n",
       "      <td>0.427900</td>\n",
       "    </tr>\n",
       "    <tr>\n",
       "      <td>4864</td>\n",
       "      <td>0.431200</td>\n",
       "    </tr>\n",
       "    <tr>\n",
       "      <td>4992</td>\n",
       "      <td>0.418700</td>\n",
       "    </tr>\n",
       "    <tr>\n",
       "      <td>5120</td>\n",
       "      <td>0.422600</td>\n",
       "    </tr>\n",
       "    <tr>\n",
       "      <td>5248</td>\n",
       "      <td>0.413400</td>\n",
       "    </tr>\n",
       "    <tr>\n",
       "      <td>5376</td>\n",
       "      <td>0.409700</td>\n",
       "    </tr>\n",
       "    <tr>\n",
       "      <td>5504</td>\n",
       "      <td>0.413100</td>\n",
       "    </tr>\n",
       "    <tr>\n",
       "      <td>5632</td>\n",
       "      <td>0.415100</td>\n",
       "    </tr>\n",
       "    <tr>\n",
       "      <td>5760</td>\n",
       "      <td>0.407500</td>\n",
       "    </tr>\n",
       "    <tr>\n",
       "      <td>5888</td>\n",
       "      <td>0.412700</td>\n",
       "    </tr>\n",
       "    <tr>\n",
       "      <td>6016</td>\n",
       "      <td>0.408000</td>\n",
       "    </tr>\n",
       "    <tr>\n",
       "      <td>6144</td>\n",
       "      <td>0.410200</td>\n",
       "    </tr>\n",
       "    <tr>\n",
       "      <td>6272</td>\n",
       "      <td>0.402900</td>\n",
       "    </tr>\n",
       "    <tr>\n",
       "      <td>6400</td>\n",
       "      <td>0.408900</td>\n",
       "    </tr>\n",
       "    <tr>\n",
       "      <td>6528</td>\n",
       "      <td>0.401800</td>\n",
       "    </tr>\n",
       "    <tr>\n",
       "      <td>6656</td>\n",
       "      <td>0.402400</td>\n",
       "    </tr>\n",
       "    <tr>\n",
       "      <td>6784</td>\n",
       "      <td>0.396200</td>\n",
       "    </tr>\n",
       "    <tr>\n",
       "      <td>6912</td>\n",
       "      <td>0.396500</td>\n",
       "    </tr>\n",
       "    <tr>\n",
       "      <td>7040</td>\n",
       "      <td>0.396000</td>\n",
       "    </tr>\n",
       "    <tr>\n",
       "      <td>7168</td>\n",
       "      <td>0.395700</td>\n",
       "    </tr>\n",
       "    <tr>\n",
       "      <td>7296</td>\n",
       "      <td>0.393800</td>\n",
       "    </tr>\n",
       "  </tbody>\n",
       "</table><p>"
      ],
      "text/plain": [
       "<IPython.core.display.HTML object>"
      ]
     },
     "metadata": {},
     "output_type": "display_data"
    }
   ],
   "source": [
    "trainer.train()"
   ]
  },
  {
   "cell_type": "code",
   "execution_count": 14,
   "metadata": {
    "tags": []
   },
   "outputs": [],
   "source": [
    "trainer.save_model('paligemma_object_captioner_more_v2/checkpoint-544')"
   ]
  },
  {
   "cell_type": "code",
   "execution_count": null,
   "metadata": {
    "id": "O9fMDEjXSSzF"
   },
   "outputs": [],
   "source": [
    "trainer.push_to_hub()"
   ]
  },
  {
   "cell_type": "markdown",
   "metadata": {
    "id": "JohfxEJQjLBd"
   },
   "source": [
    "You can find steps to infer [here](https://colab.research.google.com/drive/100IQcvMvGm9y--oelbLfI__eHCoz5Ser?usp=sharing)."
   ]
  }
 ],
 "metadata": {
  "accelerator": "GPU",
  "colab": {
   "gpuType": "A100",
   "machine_shape": "hm",
   "private_outputs": true,
   "provenance": []
  },
  "kernelspec": {
   "display_name": "cas_env",
   "language": "python",
   "name": "cas_env"
  },
  "language_info": {
   "codemirror_mode": {
    "name": "ipython",
    "version": 3
   },
   "file_extension": ".py",
   "mimetype": "text/x-python",
   "name": "python",
   "nbconvert_exporter": "python",
   "pygments_lexer": "ipython3",
   "version": "3.11.4"
  }
 },
 "nbformat": 4,
 "nbformat_minor": 4
}
