{
 "cells": [
  {
   "cell_type": "code",
   "execution_count": 1,
   "id": "26bfff9b-3124-494f-9f55-c0366185d714",
   "metadata": {},
   "outputs": [],
   "source": [
    "%load_ext autoreload\n",
    "%autoreload 2"
   ]
  },
  {
   "cell_type": "code",
   "execution_count": 2,
   "id": "019e51d2-328e-4ecc-bbeb-642cb291117c",
   "metadata": {},
   "outputs": [],
   "source": [
    "from rt1_dataset_wrapper import RT1Dataset"
   ]
  },
  {
   "cell_type": "code",
   "execution_count": 3,
   "id": "1a9d8f7e-8abd-4a98-9412-adefc82d4cdb",
   "metadata": {},
   "outputs": [],
   "source": [
    "dataset = RT1Dataset(\"/scratch/gsk6me/WORLDMODELS/datasets/rt-1-public-release\")\n",
    "\n",
    "# import tensorflow_datasets as tfds\n",
    "\n",
    "# builder = tfds.builder_from_directory('/scratch/gsk6me/WORLDMODELS/datasets/rt-1-data-release')\n",
    "# dataset_tfds = builder.as_data_source()\n"
   ]
  },
  {
   "cell_type": "code",
   "execution_count": 4,
   "id": "637101d2-039b-422a-84e2-1afcb50c1bf5",
   "metadata": {},
   "outputs": [
    {
     "name": "stderr",
     "output_type": "stream",
     "text": [
      "/home/gsk6me/miniconda3/envs/py310/lib/python3.10/site-packages/diffusers/utils/outputs.py:63: UserWarning: torch.utils._pytree._register_pytree_node is deprecated. Please use torch.utils._pytree.register_pytree_node instead.\n",
      "  torch.utils._pytree._register_pytree_node(\n",
      "/home/gsk6me/miniconda3/envs/py310/lib/python3.10/site-packages/diffusers/utils/outputs.py:63: UserWarning: torch.utils._pytree._register_pytree_node is deprecated. Please use torch.utils._pytree.register_pytree_node instead.\n",
      "  torch.utils._pytree._register_pytree_node(\n",
      "2024-03-01 00:16:17.996753: I tensorflow/core/platform/cpu_feature_guard.cc:193] This TensorFlow binary is optimized with oneAPI Deep Neural Network Library (oneDNN) to use the following CPU instructions in performance-critical operations:  SSE4.1 SSE4.2 AVX AVX2 FMA\n",
      "To enable them in other operations, rebuild TensorFlow with the appropriate compiler flags.\n",
      "/home/gsk6me/miniconda3/envs/py310/lib/python3.10/site-packages/diffusers/utils/outputs.py:63: UserWarning: torch.utils._pytree._register_pytree_node is deprecated. Please use torch.utils._pytree.register_pytree_node instead.\n",
      "  torch.utils._pytree._register_pytree_node(\n"
     ]
    },
    {
     "data": {
      "application/vnd.jupyter.widget-view+json": {
       "model_id": "b7ae34f684b64ae9914b528dde1aefd6",
       "version_major": 2,
       "version_minor": 0
      },
      "text/plain": [
       "Loading pipeline components...:   0%|          | 0/5 [00:00<?, ?it/s]"
      ]
     },
     "metadata": {},
     "output_type": "display_data"
    }
   ],
   "source": [
    "# Visualize \n",
    "from diffusers import AutoencoderKLTemporalDecoder\n",
    "import torch\n",
    "from diffusers import StableVideoDiffusionPipeline\n",
    "\n",
    "model_path = \"stabilityai/stable-video-diffusion-img2vid-xt\"\n",
    "pipeline = StableVideoDiffusionPipeline.from_pretrained(model_path)\n",
    "pipeline = pipeline.to(device='cuda')\n",
    "vae = pipeline.vae\n"
   ]
  },
  {
   "cell_type": "code",
   "execution_count": 22,
   "id": "a36a5256-efb2-44bb-9c55-123411f642c9",
   "metadata": {},
   "outputs": [],
   "source": [
    "import numpy as np\n",
    "import os\n",
    "import subprocess\n",
    "from IPython.display import Video, display\n",
    "import cv2\n",
    "\n",
    "def render_video(tensor_sequence, index):\n",
    "    # Convert the PyTorch tensors to numpy arrays\n",
    "    frames = [(tensor.permute(1, 2, 0).cpu().numpy()[:, :, ::-1] * 255).astype(np.uint8) for tensor in tensor_sequence]\n",
    "\n",
    "    # Define the video writer\n",
    "    height, width, _ = frames[0].shape\n",
    "    fourcc = cv2.VideoWriter_fourcc(*'mp4v')\n",
    "    out = cv2.VideoWriter('_generated.mp4', fourcc, 30.0, (width, height))\n",
    "\n",
    "    # Write each frame to the video\n",
    "    for frame in frames:\n",
    "        out.write(frame.astype(np.uint8))\n",
    "\n",
    "    # Release the video writer\n",
    "    out.release()\n",
    "\n",
    "    with open(os.devnull, 'wb') as devnull:\n",
    "        subprocess.check_call(['ffmpeg', '-y', '-i', '_generated.mp4', f'generated_{index}.mp4'], stdout=devnull, stderr=devnull)\n",
    "\n",
    "    os.system('rm _generated.mp4')\n",
    "    \n",
    "    return Video(f'generated_{index}.mp4')"
   ]
  },
  {
   "cell_type": "code",
   "execution_count": 23,
   "id": "83f97f12-573e-404a-847b-47d99b093f07",
   "metadata": {},
   "outputs": [
    {
     "name": "stdout",
     "output_type": "stream",
     "text": [
      "Original Video\n"
     ]
    },
    {
     "data": {
      "text/html": [
       "<video src=\"generated_original_18.mp4\" controls  >\n",
       "      Your browser does not support the <code>video</code> element.\n",
       "    </video>"
      ],
      "text/plain": [
       "<IPython.core.display.Video object>"
      ]
     },
     "metadata": {},
     "output_type": "display_data"
    },
    {
     "name": "stdout",
     "output_type": "stream",
     "text": [
      "Autoencoder Video\n"
     ]
    },
    {
     "data": {
      "text/html": [
       "<video src=\"generated_autoencoder_18.mp4\" controls  >\n",
       "      Your browser does not support the <code>video</code> element.\n",
       "    </video>"
      ],
      "text/plain": [
       "<IPython.core.display.Video object>"
      ]
     },
     "metadata": {},
     "output_type": "display_data"
    },
    {
     "name": "stdout",
     "output_type": "stream",
     "text": [
      "Original Video\n"
     ]
    },
    {
     "data": {
      "text/html": [
       "<video src=\"generated_original_180.mp4\" controls  >\n",
       "      Your browser does not support the <code>video</code> element.\n",
       "    </video>"
      ],
      "text/plain": [
       "<IPython.core.display.Video object>"
      ]
     },
     "metadata": {},
     "output_type": "display_data"
    },
    {
     "name": "stdout",
     "output_type": "stream",
     "text": [
      "Autoencoder Video\n"
     ]
    },
    {
     "data": {
      "text/html": [
       "<video src=\"generated_autoencoder_180.mp4\" controls  >\n",
       "      Your browser does not support the <code>video</code> element.\n",
       "    </video>"
      ],
      "text/plain": [
       "<IPython.core.display.Video object>"
      ]
     },
     "metadata": {},
     "output_type": "display_data"
    },
    {
     "name": "stdout",
     "output_type": "stream",
     "text": [
      "Original Video\n"
     ]
    },
    {
     "data": {
      "text/html": [
       "<video src=\"generated_original_1800.mp4\" controls  >\n",
       "      Your browser does not support the <code>video</code> element.\n",
       "    </video>"
      ],
      "text/plain": [
       "<IPython.core.display.Video object>"
      ]
     },
     "metadata": {},
     "output_type": "display_data"
    },
    {
     "name": "stdout",
     "output_type": "stream",
     "text": [
      "Autoencoder Video\n"
     ]
    },
    {
     "data": {
      "text/html": [
       "<video src=\"generated_autoencoder_1800.mp4\" controls  >\n",
       "      Your browser does not support the <code>video</code> element.\n",
       "    </video>"
      ],
      "text/plain": [
       "<IPython.core.display.Video object>"
      ]
     },
     "metadata": {},
     "output_type": "display_data"
    },
    {
     "name": "stdout",
     "output_type": "stream",
     "text": [
      "Original Video\n"
     ]
    },
    {
     "data": {
      "text/html": [
       "<video src=\"generated_original_18000.mp4\" controls  >\n",
       "      Your browser does not support the <code>video</code> element.\n",
       "    </video>"
      ],
      "text/plain": [
       "<IPython.core.display.Video object>"
      ]
     },
     "metadata": {},
     "output_type": "display_data"
    },
    {
     "name": "stdout",
     "output_type": "stream",
     "text": [
      "Autoencoder Video\n"
     ]
    },
    {
     "data": {
      "text/html": [
       "<video src=\"generated_autoencoder_18000.mp4\" controls  >\n",
       "      Your browser does not support the <code>video</code> element.\n",
       "    </video>"
      ],
      "text/plain": [
       "<IPython.core.display.Video object>"
      ]
     },
     "metadata": {},
     "output_type": "display_data"
    }
   ],
   "source": [
    "## Visualize how good the autoencoder is ##\n",
    "\n",
    "for index in [18, 180, 1800, 18000]:\n",
    "    text_description, video = dataset[index]\n",
    "    \n",
    "    print(\"Original Video\")\n",
    "    display(render_video(video, 'original_' + str(index)))\n",
    "    \n",
    "    # Now, let's see what it looks like if we pass it in and out of the VAE.\n",
    "    with torch.no_grad():\n",
    "        latents = torch.stack([\n",
    "            vae.encode(\n",
    "                pipeline.image_processor.preprocess(\n",
    "                    image.to(device='cuda', dtype=torch.float),\n",
    "                    height=256, width=320,\n",
    "                )\n",
    "            ).latent_dist.mode()[0]\n",
    "            for image in video\n",
    "        ])\n",
    "        \n",
    "        # Decode latents in chunks of 8\n",
    "    \n",
    "        returned = []\n",
    "        i = 0\n",
    "        while i < len(latents):\n",
    "            frames = latents[i:i + 8]\n",
    "            returned.append(vae.decode(frames, num_frames=len(frames)).sample)\n",
    "            i += 8\n",
    "    \n",
    "        returned = (1 + torch.cat(returned)) / 2\n",
    "        returned = torch.clamp(returned, 0, 1)\n",
    "    \n",
    "    print(\"Autoencoder Video\")\n",
    "    display(render_video(returned, 'autoencoder_' + str(index)))"
   ]
  },
  {
   "cell_type": "code",
   "execution_count": null,
   "id": "077b57e9-928e-4a95-ba15-e3c3ea9e5203",
   "metadata": {},
   "outputs": [],
   "source": [
    "\n"
   ]
  }
 ],
 "metadata": {
  "kernelspec": {
   "display_name": "Python 3 (ipykernel)",
   "language": "python",
   "name": "python3"
  },
  "language_info": {
   "codemirror_mode": {
    "name": "ipython",
    "version": 3
   },
   "file_extension": ".py",
   "mimetype": "text/x-python",
   "name": "python",
   "nbconvert_exporter": "python",
   "pygments_lexer": "ipython3",
   "version": "3.10.9"
  }
 },
 "nbformat": 4,
 "nbformat_minor": 5
}
