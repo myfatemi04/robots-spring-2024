{
 "cells": [
  {
   "cell_type": "code",
   "execution_count": 1,
   "id": "8ac617dc-02c7-4d17-aa69-6d28a1bdd81c",
   "metadata": {
    "tags": []
   },
   "outputs": [],
   "source": [
    "%load_ext autoreload\n",
    "%autoreload 2"
   ]
  },
  {
   "cell_type": "code",
   "execution_count": 2,
   "id": "757f5009-1c30-452f-973e-6f3ef9bfd113",
   "metadata": {
    "tags": []
   },
   "outputs": [],
   "source": [
    "import os\n",
    "os.environ['HUGGINGFACE_HUB_CACHE'] = '/scratch/gsk6me/huggingface_cache'\n",
    "os.environ['TOKENIZERS_PARALLELISM'] = 'true'"
   ]
  },
  {
   "cell_type": "code",
   "execution_count": 3,
   "id": "e0e311cd-5977-4a2d-9851-aadf07e9a582",
   "metadata": {
    "tags": []
   },
   "outputs": [
    {
     "name": "stderr",
     "output_type": "stream",
     "text": [
      "/home/gsk6me/miniconda3/envs/py310/lib/python3.10/site-packages/diffusers/utils/outputs.py:63: UserWarning: torch.utils._pytree._register_pytree_node is deprecated. Please use torch.utils._pytree.register_pytree_node instead.\n",
      "  torch.utils._pytree._register_pytree_node(\n",
      "/home/gsk6me/miniconda3/envs/py310/lib/python3.10/site-packages/diffusers/utils/outputs.py:63: UserWarning: torch.utils._pytree._register_pytree_node is deprecated. Please use torch.utils._pytree.register_pytree_node instead.\n",
      "  torch.utils._pytree._register_pytree_node(\n",
      "2024-03-13 17:52:46.969045: I tensorflow/core/platform/cpu_feature_guard.cc:193] This TensorFlow binary is optimized with oneAPI Deep Neural Network Library (oneDNN) to use the following CPU instructions in performance-critical operations:  SSE4.1 SSE4.2 AVX AVX2 FMA\n",
      "To enable them in other operations, rebuild TensorFlow with the appropriate compiler flags.\n"
     ]
    }
   ],
   "source": [
    "import argparse\n",
    "import logging\n",
    "import math\n",
    "import os\n",
    "import random\n",
    "import shutil\n",
    "from pathlib import Path\n",
    "\n",
    "import accelerate\n",
    "import datasets\n",
    "import numpy as np\n",
    "import torch\n",
    "import torch.nn.functional as F\n",
    "import torch.utils.checkpoint\n",
    "import torch.utils.data\n",
    "import transformers\n",
    "from accelerate import Accelerator\n",
    "from accelerate.logging import get_logger\n",
    "from accelerate.state import AcceleratorState\n",
    "from accelerate.utils import ProjectConfiguration, set_seed\n",
    "from datasets import load_dataset\n",
    "from huggingface_hub import create_repo, upload_folder\n",
    "from packaging import version\n",
    "from torchvision import transforms\n",
    "from tqdm.auto import tqdm\n",
    "from transformers import CLIPTextModel, CLIPTokenizer\n",
    "from transformers.utils import ContextManagers\n",
    "\n",
    "import diffusers\n",
    "from diffusers import AutoencoderKLTemporalDecoder, EulerDiscreteScheduler, StableVideoDiffusionPipeline, UNetSpatioTemporalConditionModel\n",
    "from diffusers.optimization import get_scheduler\n",
    "from diffusers.training_utils import EMAModel, compute_snr\n",
    "from diffusers.image_processor import VaeImageProcessor\n",
    "from diffusers.utils import check_min_version, deprecate, is_wandb_available, make_image_grid\n",
    "from diffusers.utils.hub_utils import load_or_create_model_card, populate_model_card\n",
    "from diffusers.utils.import_utils import is_xformers_available\n",
    "from diffusers.utils.torch_utils import is_compiled_module\n",
    "\n",
    "from rt1_dataset_wrapper import RT1Dataset\n",
    "\n",
    "\n",
    "if is_wandb_available():\n",
    "    import wandb"
   ]
  },
  {
   "cell_type": "markdown",
   "id": "40020328-2a66-4cda-b708-85da02a91a56",
   "metadata": {},
   "source": [
    "## Load Pipelines\n",
    "\n",
    "We have a base pipeline, which is only image-conditioned, and we have a LoRA pipeline, which has had low-rank weight updates made."
   ]
  },
  {
   "cell_type": "code",
   "execution_count": null,
   "id": "283870f0-8308-4a81-917b-c0d076598f96",
   "metadata": {},
   "outputs": [],
   "source": [
    "del pipeline_lora\n",
    "torch.cuda.empty_cache()"
   ]
  },
  {
   "cell_type": "code",
   "execution_count": 4,
   "id": "2e1801fa-dbcd-4087-935f-a0cf6bc8ede1",
   "metadata": {},
   "outputs": [
    {
     "data": {
      "application/vnd.jupyter.widget-view+json": {
       "model_id": "bbc648b201e94a759e2e4aff52a42a81",
       "version_major": 2,
       "version_minor": 0
      },
      "text/plain": [
       "Loading pipeline components...:   0%|          | 0/5 [00:00<?, ?it/s]"
      ]
     },
     "metadata": {},
     "output_type": "display_data"
    }
   ],
   "source": [
    "# Load the base pipeline\n",
    "# pipeline_base = StableVideoDiffusionPipeline.from_pretrained(\n",
    "#     \"stabilityai/stable-video-diffusion-img2vid-xt\",\n",
    "#     torch_dtype=torch.float16,\n",
    "# )\n",
    "# pipeline_base = pipeline_base.to(device='cuda')\n",
    "pipename = \"stabilityai/stable-video-diffusion-img2vid-xt\"\n",
    "pipeline_lora = StableVideoDiffusionPipeline.from_pretrained(\n",
    "    pipename,\n",
    "    torch_dtype=torch.float16,\n",
    ")\n",
    "pipeline_lora = pipeline_lora.to(device='cuda')"
   ]
  },
  {
   "cell_type": "markdown",
   "id": "8cbdee42-5c83-4c8e-8ac6-df781cc80552",
   "metadata": {},
   "source": [
    "## Inject LoRA\n",
    "\n",
    "Because the regular pipeline doesn't have an easy way to load LoRA adapters directly, I just manually add them to the U-Net weights. We need to use HuggingFace's SafeTensors library for this."
   ]
  },
  {
   "cell_type": "code",
   "execution_count": 5,
   "id": "5ea86763-11d1-4645-85f8-bf1ef40905c5",
   "metadata": {},
   "outputs": [
    {
     "data": {
      "text/plain": [
       "<All keys matched successfully>"
      ]
     },
     "execution_count": 5,
     "metadata": {},
     "output_type": "execute_result"
    }
   ],
   "source": [
    "from peft import LoraConfig\n",
    "\n",
    "rank = 512\n",
    "unet_lora_config = LoraConfig(\n",
    "    r=rank,\n",
    "    lora_alpha=rank,\n",
    "    init_lora_weights=\"gaussian\",\n",
    "    target_modules=[\"to_k\", \"to_q\", \"to_v\", \"to_out.0\"],\n",
    ")\n",
    "pipeline_lora.unet.add_adapter(unet_lora_config)\n",
    "\n",
    "from safetensors import safe_open\n",
    "\n",
    "CHECKPOINT = '011_better_step_sampling'\n",
    "cpnum = 5750\n",
    "\n",
    "tensors = {}\n",
    "with safe_open(f\"./experiments/{CHECKPOINT}_checkpoints/checkpoint-{cpnum}/unet/diffusion_pytorch_model.safetensors\", framework=\"pt\", device=0) as f:\n",
    "    for k in f.keys():\n",
    "        tensors[k] = f.get_tensor(k)\n",
    "\n",
    "pipeline_lora.unet.load_state_dict(tensors)"
   ]
  },
  {
   "cell_type": "markdown",
   "id": "e5fe504d-7620-4937-84d4-4f61e9016b4e",
   "metadata": {},
   "source": [
    "## Unify with Text Encoder\n",
    "\n",
    "Here, we create a unified trajectory synthesis pipeline, which is conditioned on text inputs."
   ]
  },
  {
   "cell_type": "code",
   "execution_count": 6,
   "id": "71d5d167-fc3c-4acb-a4c4-305b1abe4b77",
   "metadata": {},
   "outputs": [],
   "source": [
    "from text_and_image_conditioned_video_diffusion_model import VisualTrajectorySynthesizer\n",
    "\n",
    "# Load the text encoder. This only works for the LoRA model.\n",
    "text_encoder_path = \"laion/CLIP-ViT-H-14-laion2B-s32B-b79K\"\n",
    "text_encoder = CLIPTextModel.from_pretrained(text_encoder_path).to(device='cuda', dtype=torch.float16)\n",
    "tokenizer = CLIPTokenizer.from_pretrained(text_encoder_path)\n",
    "\n",
    "pipeline_lora_unified = VisualTrajectorySynthesizer.from_stable_video_diffusion_pipeline(pipeline_lora, text_encoder)\n",
    "del pipeline_lora"
   ]
  },
  {
   "cell_type": "markdown",
   "id": "a4d0efbc-8f94-42ae-a0f2-ca5b1716aaff",
   "metadata": {},
   "source": [
    "## Load Data\n",
    "\n",
    "We only trained on the first $20$ samples from the RT-1 dataset, and of those, we only trained on the first $25$ frames of each video. Let's see how they turned out. We will use the custom class I wrote, `RT1Dataset`, for this. We also need to do a bit of image processing before we can directly send inputs into the model."
   ]
  },
  {
   "cell_type": "code",
   "execution_count": 7,
   "id": "f07c44e6-7bbf-4647-b163-3ac9a0284e58",
   "metadata": {},
   "outputs": [],
   "source": [
    "from rt1_dataset_wrapper import RT1Dataset\n",
    "\n",
    "# Originally from `args`\n",
    "image_height = 256\n",
    "image_width = 320\n",
    "vae_image_processor = pipeline_lora_unified.image_processor\n",
    "\n",
    "# We don't technically even have to do this because the `vae_image_processor` is already called in the StableVideoDiffusionPipeline\n",
    "def collate_fn(batch):\n",
    "    # input: (text, image_sequence)[]\n",
    "    # return: (text batch, text attention masks, text sequence lengths, images)\n",
    "    text_batch = [text for (text, imgseq) in batch]\n",
    "    tokenization = tokenizer(text_batch, padding='longest', return_tensors='pt')\n",
    "    text_tokens = tokenization['input_ids']\n",
    "    text_attention_masks = tokenization['attention_mask']\n",
    "\n",
    "    imgseqs = [vae_image_processor.preprocess(imgseq, height=image_height, width=image_width) for (_, imgseq) in batch]\n",
    "\n",
    "    return (text_tokens, text_attention_masks, torch.stack(imgseqs))\n",
    "\n",
    "dataset = RT1Dataset('/scratch/gsk6me/WORLDMODELS/datasets/rt-1-data-release')"
   ]
  },
  {
   "cell_type": "code",
   "execution_count": 8,
   "id": "84e1885d-4e68-426b-a111-515588e940d7",
   "metadata": {},
   "outputs": [
    {
     "name": "stdout",
     "output_type": "stream",
     "text": [
      "Doing classifier-free guidance\n"
     ]
    },
    {
     "data": {
      "application/vnd.jupyter.widget-view+json": {
       "model_id": "81082bf9b017453faaaaa65d2b4fb755",
       "version_major": 2,
       "version_minor": 0
      },
      "text/plain": [
       "  0%|          | 0/25 [00:00<?, ?it/s]"
      ]
     },
     "metadata": {},
     "output_type": "display_data"
    },
    {
     "name": "stderr",
     "output_type": "stream",
     "text": [
      "ffmpeg version 5.1.2 Copyright (c) 2000-2022 the FFmpeg developers\n",
      "  built with gcc 11.3.0 (conda-forge gcc 11.3.0-19)\n",
      "  configuration: --prefix=/home/conda/feedstock_root/build_artifacts/ffmpeg_1674566204550/_h_env_placehold_placehold_placehold_placehold_placehold_placehold_placehold_placehold_placehold_placehold_placehold_placehold_placehold_placehold_placehold_placehold_placehold_placehold_plac --cc=/home/conda/feedstock_root/build_artifacts/ffmpeg_1674566204550/_build_env/bin/x86_64-conda-linux-gnu-cc --cxx=/home/conda/feedstock_root/build_artifacts/ffmpeg_1674566204550/_build_env/bin/x86_64-conda-linux-gnu-c++ --nm=/home/conda/feedstock_root/build_artifacts/ffmpeg_1674566204550/_build_env/bin/x86_64-conda-linux-gnu-nm --ar=/home/conda/feedstock_root/build_artifacts/ffmpeg_1674566204550/_build_env/bin/x86_64-conda-linux-gnu-ar --disable-doc --disable-openssl --enable-demuxer=dash --enable-hardcoded-tables --enable-libfreetype --enable-libfontconfig --enable-libopenh264 --enable-gnutls --enable-libmp3lame --enable-libvpx --enable-pthreads --enable-vaapi --enable-gpl --enable-libx264 --enable-libx265 --enable-libaom --enable-libsvtav1 --enable-libxml2 --enable-pic --enable-shared --disable-static --enable-version3 --enable-zlib --enable-libopus --pkg-config=/home/conda/feedstock_root/build_artifacts/ffmpeg_1674566204550/_build_env/bin/pkg-config\n",
      "  libavutil      57. 28.100 / 57. 28.100\n",
      "  libavcodec     59. 37.100 / 59. 37.100\n",
      "  libavformat    59. 27.100 / 59. 27.100\n",
      "  libavdevice    59.  7.100 / 59.  7.100\n",
      "  libavfilter     8. 44.100 /  8. 44.100\n",
      "  libswscale      6.  7.100 /  6.  7.100\n",
      "  libswresample   4.  7.100 /  4.  7.100\n",
      "  libpostproc    56.  6.100 / 56.  6.100\n",
      "Input #0, mov,mp4,m4a,3gp,3g2,mj2, from 'generated_videos/checkpoints/011_better_step_sampling/generated_lora_0_raw.mp4':\n",
      "  Metadata:\n",
      "    major_brand     : isom\n",
      "    minor_version   : 512\n",
      "    compatible_brands: isomiso2mp41\n",
      "    encoder         : Lavf59.27.100\n",
      "  Duration: 00:00:03.57, start: 0.000000, bitrate: 170 kb/s\n",
      "  Stream #0:0[0x1](und): Video: mpeg4 (Simple Profile) (mp4v / 0x7634706D), yuv420p, 320x256 [SAR 1:1 DAR 5:4], 168 kb/s, 7 fps, 7 tbr, 14336 tbn (default)\n",
      "    Metadata:\n",
      "      handler_name    : VideoHandler\n",
      "      vendor_id       : [0][0][0][0]\n",
      "Stream mapping:\n",
      "  Stream #0:0 -> #0:0 (mpeg4 (native) -> h264 (libx264))\n",
      "Press [q] to stop, [?] for help\n",
      "[libx264 @ 0x561015392fc0] using SAR=1/1\n",
      "[libx264 @ 0x561015392fc0] using cpu capabilities: MMX2 SSE2Fast SSSE3 SSE4.2 AVX FMA3 BMI2 AVX2\n",
      "[libx264 @ 0x561015392fc0] profile High, level 1.2, 4:2:0, 8-bit\n",
      "[libx264 @ 0x561015392fc0] 264 - core 164 r3095 baee400 - H.264/MPEG-4 AVC codec - Copyleft 2003-2022 - http://www.videolan.org/x264.html - options: cabac=1 ref=3 deblock=1:0:0 analyse=0x3:0x113 me=hex subme=7 psy=1 psy_rd=1.00:0.00 mixed_ref=1 me_range=16 chroma_me=1 trellis=1 8x8dct=1 cqm=0 deadzone=21,11 fast_pskip=1 chroma_qp_offset=-2 threads=1 lookahead_threads=1 sliced_threads=0 nr=0 decimate=1 interlaced=0 bluray_compat=0 constrained_intra=0 bframes=3 b_pyramid=2 b_adapt=1 b_bias=0 direct=1 weightb=1 open_gop=0 weightp=2 keyint=250 keyint_min=7 scenecut=40 intra_refresh=0 rc_lookahead=40 rc=crf mbtree=1 crf=23.0 qcomp=0.60 qpmin=0 qpmax=69 qpstep=4 ip_ratio=1.40 aq=1:1.00\n",
      "Output #0, mp4, to 'generated_videos/checkpoints/011_better_step_sampling/generated_lora_0.mp4':\n",
      "  Metadata:\n",
      "    major_brand     : isom\n",
      "    minor_version   : 512\n",
      "    compatible_brands: isomiso2mp41\n",
      "    encoder         : Lavf59.27.100\n",
      "  Stream #0:0(und): Video: h264 (avc1 / 0x31637661), yuv420p(progressive), 320x256 [SAR 1:1 DAR 5:4], q=2-31, 7 fps, 14336 tbn (default)\n",
      "    Metadata:\n",
      "      handler_name    : VideoHandler\n",
      "      vendor_id       : [0][0][0][0]\n",
      "      encoder         : Lavc59.37.100 libx264\n",
      "    Side data:\n",
      "      cpb: bitrate max/min/avg: 0/0/0 buffer size: 0 vbv_delay: N/A\n",
      "frame=   25 fps=0.0 q=24.0 Lsize=      54kB time=00:00:03.14 bitrate= 141.9kbits/s speed= 8.5x    \n",
      "video:53kB audio:0kB subtitle:0kB other streams:0kB global headers:0kB muxing overhead: 1.885999%\n",
      "[libx264 @ 0x561015392fc0] frame I:1     Avg QP:19.42  size: 12048\n",
      "[libx264 @ 0x561015392fc0] frame P:21    Avg QP:20.17  size:  1883\n",
      "[libx264 @ 0x561015392fc0] frame B:3     Avg QP:23.78  size:   816\n",
      "[libx264 @ 0x561015392fc0] consecutive B-frames: 80.0%  8.0% 12.0%  0.0%\n",
      "[libx264 @ 0x561015392fc0] mb I  I16..4:  5.9% 88.4%  5.6%\n",
      "[libx264 @ 0x561015392fc0] mb P  I16..4:  1.0%  5.0%  0.3%  P16..4: 37.5%  9.4% 11.8%  0.0%  0.0%    skip:34.9%\n",
      "[libx264 @ 0x561015392fc0] mb B  I16..4:  0.1%  3.4%  0.5%  B16..8: 31.7%  4.5%  1.0%  direct: 1.5%  skip:57.4%  L0:44.8% L1:50.1% BI: 5.1%\n",
      "[libx264 @ 0x561015392fc0] 8x8 transform intra:83.2% inter:86.8%\n",
      "[libx264 @ 0x561015392fc0] coded y,uvDC,uvAC intra: 76.4% 79.2% 34.4% inter: 28.5% 21.8% 4.9%\n",
      "[libx264 @ 0x561015392fc0] i16 v,h,dc,p: 10% 57% 18% 14%\n",
      "[libx264 @ 0x561015392fc0] i8 v,h,dc,ddl,ddr,vr,hd,vl,hu: 13% 35% 29%  4%  3%  3%  3%  6%  5%\n",
      "[libx264 @ 0x561015392fc0] i4 v,h,dc,ddl,ddr,vr,hd,vl,hu: 19% 37% 12%  6%  2%  5%  5%  8%  5%\n",
      "[libx264 @ 0x561015392fc0] i8c dc,h,v,p: 37% 42% 16%  5%\n",
      "[libx264 @ 0x561015392fc0] Weighted P-Frames: Y:4.8% UV:0.0%\n",
      "[libx264 @ 0x561015392fc0] ref P L0: 77.0% 15.2%  5.6%  2.3%\n",
      "[libx264 @ 0x561015392fc0] ref B L0: 85.6% 13.4%  1.1%\n",
      "[libx264 @ 0x561015392fc0] kb/s:121.03\n"
     ]
    },
    {
     "name": "stdout",
     "output_type": "stream",
     "text": [
      "Doing classifier-free guidance\n"
     ]
    },
    {
     "data": {
      "application/vnd.jupyter.widget-view+json": {
       "model_id": "1fcb2fba12604e96b147e376e00a7461",
       "version_major": 2,
       "version_minor": 0
      },
      "text/plain": [
       "  0%|          | 0/25 [00:00<?, ?it/s]"
      ]
     },
     "metadata": {},
     "output_type": "display_data"
    },
    {
     "name": "stderr",
     "output_type": "stream",
     "text": [
      "ffmpeg version 5.1.2 Copyright (c) 2000-2022 the FFmpeg developers\n",
      "  built with gcc 11.3.0 (conda-forge gcc 11.3.0-19)\n",
      "  configuration: --prefix=/home/conda/feedstock_root/build_artifacts/ffmpeg_1674566204550/_h_env_placehold_placehold_placehold_placehold_placehold_placehold_placehold_placehold_placehold_placehold_placehold_placehold_placehold_placehold_placehold_placehold_placehold_placehold_plac --cc=/home/conda/feedstock_root/build_artifacts/ffmpeg_1674566204550/_build_env/bin/x86_64-conda-linux-gnu-cc --cxx=/home/conda/feedstock_root/build_artifacts/ffmpeg_1674566204550/_build_env/bin/x86_64-conda-linux-gnu-c++ --nm=/home/conda/feedstock_root/build_artifacts/ffmpeg_1674566204550/_build_env/bin/x86_64-conda-linux-gnu-nm --ar=/home/conda/feedstock_root/build_artifacts/ffmpeg_1674566204550/_build_env/bin/x86_64-conda-linux-gnu-ar --disable-doc --disable-openssl --enable-demuxer=dash --enable-hardcoded-tables --enable-libfreetype --enable-libfontconfig --enable-libopenh264 --enable-gnutls --enable-libmp3lame --enable-libvpx --enable-pthreads --enable-vaapi --enable-gpl --enable-libx264 --enable-libx265 --enable-libaom --enable-libsvtav1 --enable-libxml2 --enable-pic --enable-shared --disable-static --enable-version3 --enable-zlib --enable-libopus --pkg-config=/home/conda/feedstock_root/build_artifacts/ffmpeg_1674566204550/_build_env/bin/pkg-config\n",
      "  libavutil      57. 28.100 / 57. 28.100\n",
      "  libavcodec     59. 37.100 / 59. 37.100\n",
      "  libavformat    59. 27.100 / 59. 27.100\n",
      "  libavdevice    59.  7.100 / 59.  7.100\n",
      "  libavfilter     8. 44.100 /  8. 44.100\n",
      "  libswscale      6.  7.100 /  6.  7.100\n",
      "  libswresample   4.  7.100 /  4.  7.100\n",
      "  libpostproc    56.  6.100 / 56.  6.100\n",
      "Input #0, mov,mp4,m4a,3gp,3g2,mj2, from 'generated_videos/checkpoints/011_better_step_sampling/generated_lora_1_raw.mp4':\n",
      "  Metadata:\n",
      "    major_brand     : isom\n",
      "    minor_version   : 512\n",
      "    compatible_brands: isomiso2mp41\n",
      "    encoder         : Lavf59.27.100\n",
      "  Duration: 00:00:03.57, start: 0.000000, bitrate: 184 kb/s\n",
      "  Stream #0:0[0x1](und): Video: mpeg4 (Simple Profile) (mp4v / 0x7634706D), yuv420p, 320x256 [SAR 1:1 DAR 5:4], 182 kb/s, 7 fps, 7 tbr, 14336 tbn (default)\n",
      "    Metadata:\n",
      "      handler_name    : VideoHandler\n",
      "      vendor_id       : [0][0][0][0]\n",
      "Stream mapping:\n",
      "  Stream #0:0 -> #0:0 (mpeg4 (native) -> h264 (libx264))\n",
      "Press [q] to stop, [?] for help\n",
      "[libx264 @ 0x55e568d10f80] using SAR=1/1\n",
      "[libx264 @ 0x55e568d10f80] using cpu capabilities: MMX2 SSE2Fast SSSE3 SSE4.2 AVX FMA3 BMI2 AVX2\n",
      "[libx264 @ 0x55e568d10f80] profile High, level 1.2, 4:2:0, 8-bit\n",
      "[libx264 @ 0x55e568d10f80] 264 - core 164 r3095 baee400 - H.264/MPEG-4 AVC codec - Copyleft 2003-2022 - http://www.videolan.org/x264.html - options: cabac=1 ref=3 deblock=1:0:0 analyse=0x3:0x113 me=hex subme=7 psy=1 psy_rd=1.00:0.00 mixed_ref=1 me_range=16 chroma_me=1 trellis=1 8x8dct=1 cqm=0 deadzone=21,11 fast_pskip=1 chroma_qp_offset=-2 threads=1 lookahead_threads=1 sliced_threads=0 nr=0 decimate=1 interlaced=0 bluray_compat=0 constrained_intra=0 bframes=3 b_pyramid=2 b_adapt=1 b_bias=0 direct=1 weightb=1 open_gop=0 weightp=2 keyint=250 keyint_min=7 scenecut=40 intra_refresh=0 rc_lookahead=40 rc=crf mbtree=1 crf=23.0 qcomp=0.60 qpmin=0 qpmax=69 qpstep=4 ip_ratio=1.40 aq=1:1.00\n",
      "Output #0, mp4, to 'generated_videos/checkpoints/011_better_step_sampling/generated_lora_1.mp4':\n",
      "  Metadata:\n",
      "    major_brand     : isom\n",
      "    minor_version   : 512\n",
      "    compatible_brands: isomiso2mp41\n",
      "    encoder         : Lavf59.27.100\n",
      "  Stream #0:0(und): Video: h264 (avc1 / 0x31637661), yuv420p(progressive), 320x256 [SAR 1:1 DAR 5:4], q=2-31, 7 fps, 14336 tbn (default)\n",
      "    Metadata:\n",
      "      handler_name    : VideoHandler\n",
      "      vendor_id       : [0][0][0][0]\n",
      "      encoder         : Lavc59.37.100 libx264\n",
      "    Side data:\n",
      "      cpb: bitrate max/min/avg: 0/0/0 buffer size: 0 vbv_delay: N/A\n",
      "frame=    1 fps=0.0 q=0.0 size=       0kB time=00:00:00.00 bitrate=N/A speed=   0x    \r"
     ]
    },
    {
     "name": "stdout",
     "output_type": "stream",
     "text": [
      "Doing classifier-free guidance\n"
     ]
    },
    {
     "name": "stderr",
     "output_type": "stream",
     "text": [
      "frame=   25 fps=0.0 q=24.0 Lsize=      56kB time=00:00:03.14 bitrate= 146.3kbits/s speed=7.13x    \n",
      "video:55kB audio:0kB subtitle:0kB other streams:0kB global headers:0kB muxing overhead: 1.958767%\n",
      "[libx264 @ 0x55e568d10f80] frame I:1     Avg QP:19.12  size: 12227\n",
      "[libx264 @ 0x55e568d10f80] frame P:15    Avg QP:20.45  size:  2395\n",
      "[libx264 @ 0x55e568d10f80] frame B:9     Avg QP:23.34  size:   835\n",
      "[libx264 @ 0x55e568d10f80] consecutive B-frames: 44.0% 16.0% 24.0% 16.0%\n",
      "[libx264 @ 0x55e568d10f80] mb I  I16..4:  5.9% 87.2%  6.9%\n",
      "[libx264 @ 0x55e568d10f80] mb P  I16..4:  1.0%  9.8%  0.4%  P16..4: 46.4% 14.2% 12.3%  0.0%  0.0%    skip:15.9%\n",
      "[libx264 @ 0x55e568d10f80] mb B  I16..4:  0.2%  5.6%  0.4%  B16..8: 33.1%  5.7%  1.0%  direct: 2.5%  skip:51.6%  L0:59.2% L1:31.1% BI: 9.7%\n",
      "[libx264 @ 0x55e568d10f80] 8x8 transform intra:87.8% inter:84.9%\n",
      "[libx264 @ 0x55e568d10f80] coded y,uvDC,uvAC intra: 78.5% 81.7% 32.4% inter: 31.9% 27.3% 4.3%\n",
      "[libx264 @ 0x55e568d10f80] i16 v,h,dc,p: 11% 40% 35% 14%\n",
      "[libx264 @ 0x55e568d10f80] i8 v,h,dc,ddl,ddr,vr,hd,vl,hu: 15% 33% 28%  4%  3%  3%  5%  4%  5%\n",
      "[libx264 @ 0x55e568d10f80] i4 v,h,dc,ddl,ddr,vr,hd,vl,hu: 13% 30% 11%  5%  7%  9%  9% 10%  6%\n",
      "[libx264 @ 0x55e568d10f80] i8c dc,h,v,p: 40% 37% 18%  5%\n",
      "[libx264 @ 0x55e568d10f80] Weighted P-Frames: Y:20.0% UV:0.0%\n",
      "[libx264 @ 0x55e568d10f80] ref P L0: 70.5% 17.7%  8.7%  2.4%  0.7%\n",
      "[libx264 @ 0x55e568d10f80] ref B L0: 88.4%  9.3%  2.3%\n",
      "[libx264 @ 0x55e568d10f80] ref B L1: 99.6%  0.4%\n",
      "[libx264 @ 0x55e568d10f80] kb/s:124.71\n"
     ]
    },
    {
     "data": {
      "application/vnd.jupyter.widget-view+json": {
       "model_id": "70585a3ae44b44be9f050f3d82ab79c4",
       "version_major": 2,
       "version_minor": 0
      },
      "text/plain": [
       "  0%|          | 0/25 [00:00<?, ?it/s]"
      ]
     },
     "metadata": {},
     "output_type": "display_data"
    },
    {
     "name": "stderr",
     "output_type": "stream",
     "text": [
      "ffmpeg version 5.1.2 Copyright (c) 2000-2022 the FFmpeg developers\n",
      "  built with gcc 11.3.0 (conda-forge gcc 11.3.0-19)\n",
      "  configuration: --prefix=/home/conda/feedstock_root/build_artifacts/ffmpeg_1674566204550/_h_env_placehold_placehold_placehold_placehold_placehold_placehold_placehold_placehold_placehold_placehold_placehold_placehold_placehold_placehold_placehold_placehold_placehold_placehold_plac --cc=/home/conda/feedstock_root/build_artifacts/ffmpeg_1674566204550/_build_env/bin/x86_64-conda-linux-gnu-cc --cxx=/home/conda/feedstock_root/build_artifacts/ffmpeg_1674566204550/_build_env/bin/x86_64-conda-linux-gnu-c++ --nm=/home/conda/feedstock_root/build_artifacts/ffmpeg_1674566204550/_build_env/bin/x86_64-conda-linux-gnu-nm --ar=/home/conda/feedstock_root/build_artifacts/ffmpeg_1674566204550/_build_env/bin/x86_64-conda-linux-gnu-ar --disable-doc --disable-openssl --enable-demuxer=dash --enable-hardcoded-tables --enable-libfreetype --enable-libfontconfig --enable-libopenh264 --enable-gnutls --enable-libmp3lame --enable-libvpx --enable-pthreads --enable-vaapi --enable-gpl --enable-libx264 --enable-libx265 --enable-libaom --enable-libsvtav1 --enable-libxml2 --enable-pic --enable-shared --disable-static --enable-version3 --enable-zlib --enable-libopus --pkg-config=/home/conda/feedstock_root/build_artifacts/ffmpeg_1674566204550/_build_env/bin/pkg-config\n",
      "  libavutil      57. 28.100 / 57. 28.100\n",
      "  libavcodec     59. 37.100 / 59. 37.100\n",
      "  libavformat    59. 27.100 / 59. 27.100\n",
      "  libavdevice    59.  7.100 / 59.  7.100\n",
      "  libavfilter     8. 44.100 /  8. 44.100\n",
      "  libswscale      6.  7.100 /  6.  7.100\n",
      "  libswresample   4.  7.100 /  4.  7.100\n",
      "  libpostproc    56.  6.100 / 56.  6.100\n",
      "Input #0, mov,mp4,m4a,3gp,3g2,mj2, from 'generated_videos/checkpoints/011_better_step_sampling/generated_lora_2_raw.mp4':\n",
      "  Metadata:\n",
      "    major_brand     : isom\n",
      "    minor_version   : 512\n",
      "    compatible_brands: isomiso2mp41\n",
      "    encoder         : Lavf59.27.100\n",
      "  Duration: 00:00:03.57, start: 0.000000, bitrate: 156 kb/s\n",
      "  Stream #0:0[0x1](und): Video: mpeg4 (Simple Profile) (mp4v / 0x7634706D), yuv420p, 320x256 [SAR 1:1 DAR 5:4], 154 kb/s, 7 fps, 7 tbr, 14336 tbn (default)\n",
      "    Metadata:\n",
      "      handler_name    : VideoHandler\n",
      "      vendor_id       : [0][0][0][0]\n",
      "Stream mapping:\n",
      "  Stream #0:0 -> #0:0 (mpeg4 (native) -> h264 (libx264))\n",
      "Press [q] to stop, [?] for help\n",
      "[libx264 @ 0x55f6e8f028c0] using SAR=1/1\n",
      "[libx264 @ 0x55f6e8f028c0] using cpu capabilities: MMX2 SSE2Fast SSSE3 SSE4.2 AVX FMA3 BMI2 AVX2\n",
      "[libx264 @ 0x55f6e8f028c0] profile High, level 1.2, 4:2:0, 8-bit\n",
      "[libx264 @ 0x55f6e8f028c0] 264 - core 164 r3095 baee400 - H.264/MPEG-4 AVC codec - Copyleft 2003-2022 - http://www.videolan.org/x264.html - options: cabac=1 ref=3 deblock=1:0:0 analyse=0x3:0x113 me=hex subme=7 psy=1 psy_rd=1.00:0.00 mixed_ref=1 me_range=16 chroma_me=1 trellis=1 8x8dct=1 cqm=0 deadzone=21,11 fast_pskip=1 chroma_qp_offset=-2 threads=1 lookahead_threads=1 sliced_threads=0 nr=0 decimate=1 interlaced=0 bluray_compat=0 constrained_intra=0 bframes=3 b_pyramid=2 b_adapt=1 b_bias=0 direct=1 weightb=1 open_gop=0 weightp=2 keyint=250 keyint_min=7 scenecut=40 intra_refresh=0 rc_lookahead=40 rc=crf mbtree=1 crf=23.0 qcomp=0.60 qpmin=0 qpmax=69 qpstep=4 ip_ratio=1.40 aq=1:1.00\n",
      "Output #0, mp4, to 'generated_videos/checkpoints/011_better_step_sampling/generated_lora_2.mp4':\n",
      "  Metadata:\n",
      "    major_brand     : isom\n",
      "    minor_version   : 512\n",
      "    compatible_brands: isomiso2mp41\n",
      "    encoder         : Lavf59.27.100\n",
      "  Stream #0:0(und): Video: h264 (avc1 / 0x31637661), yuv420p(progressive), 320x256 [SAR 1:1 DAR 5:4], q=2-31, 7 fps, 14336 tbn (default)\n",
      "    Metadata:\n",
      "      handler_name    : VideoHandler\n",
      "      vendor_id       : [0][0][0][0]\n",
      "      encoder         : Lavc59.37.100 libx264\n",
      "    Side data:\n",
      "      cpb: bitrate max/min/avg: 0/0/0 buffer size: 0 vbv_delay: N/A\n",
      "frame=   25 fps=0.0 q=24.0 Lsize=      49kB time=00:00:03.14 bitrate= 127.0kbits/s speed=8.22x    \n",
      "video:48kB audio:0kB subtitle:0kB other streams:0kB global headers:0kB muxing overhead: 2.179703%\n",
      "[libx264 @ 0x55f6e8f028c0] frame I:1     Avg QP:18.53  size: 10318\n",
      "[libx264 @ 0x55f6e8f028c0] frame P:19    Avg QP:19.87  size:  1832\n",
      "[libx264 @ 0x55f6e8f028c0] frame B:5     Avg QP:23.32  size:   599\n",
      "[libx264 @ 0x55f6e8f028c0] consecutive B-frames: 64.0% 24.0% 12.0%  0.0%\n",
      "[libx264 @ 0x55f6e8f028c0] mb I  I16..4:  4.4% 91.9%  3.8%\n",
      "[libx264 @ 0x55f6e8f028c0] mb P  I16..4:  1.2%  4.8%  0.2%  P16..4: 44.3% 12.7% 10.7%  0.0%  0.0%    skip:26.1%\n",
      "[libx264 @ 0x55f6e8f028c0] mb B  I16..4:  0.2%  2.7%  0.2%  B16..8: 34.3%  3.7%  0.9%  direct: 2.8%  skip:55.2%  L0:56.4% L1:30.7% BI:12.9%\n",
      "[libx264 @ 0x55f6e8f028c0] 8x8 transform intra:84.1% inter:84.6%\n",
      "[libx264 @ 0x55f6e8f028c0] coded y,uvDC,uvAC intra: 71.1% 78.0% 31.8% inter: 29.2% 25.7% 4.4%\n",
      "[libx264 @ 0x55f6e8f028c0] i16 v,h,dc,p: 15% 43% 31% 11%\n",
      "[libx264 @ 0x55f6e8f028c0] i8 v,h,dc,ddl,ddr,vr,hd,vl,hu: 12% 38% 29%  4%  2%  3%  3%  4%  6%\n",
      "[libx264 @ 0x55f6e8f028c0] i4 v,h,dc,ddl,ddr,vr,hd,vl,hu: 15% 34% 10%  6%  7%  6%  6%  9%  6%\n",
      "[libx264 @ 0x55f6e8f028c0] i8c dc,h,v,p: 36% 41% 16%  7%\n",
      "[libx264 @ 0x55f6e8f028c0] Weighted P-Frames: Y:5.3% UV:0.0%\n",
      "[libx264 @ 0x55f6e8f028c0] ref P L0: 75.1% 16.3%  6.3%  2.3%\n",
      "[libx264 @ 0x55f6e8f028c0] ref B L0: 86.6% 11.7%  1.7%\n",
      "[libx264 @ 0x55f6e8f028c0] kb/s:107.80\n"
     ]
    },
    {
     "name": "stdout",
     "output_type": "stream",
     "text": [
      "Doing classifier-free guidance\n"
     ]
    },
    {
     "data": {
      "application/vnd.jupyter.widget-view+json": {
       "model_id": "a0f25544f6c64bb6a21403a6a791b435",
       "version_major": 2,
       "version_minor": 0
      },
      "text/plain": [
       "  0%|          | 0/25 [00:00<?, ?it/s]"
      ]
     },
     "metadata": {},
     "output_type": "display_data"
    },
    {
     "name": "stderr",
     "output_type": "stream",
     "text": [
      "ffmpeg version 5.1.2 Copyright (c) 2000-2022 the FFmpeg developers\n",
      "  built with gcc 11.3.0 (conda-forge gcc 11.3.0-19)\n",
      "  configuration: --prefix=/home/conda/feedstock_root/build_artifacts/ffmpeg_1674566204550/_h_env_placehold_placehold_placehold_placehold_placehold_placehold_placehold_placehold_placehold_placehold_placehold_placehold_placehold_placehold_placehold_placehold_placehold_placehold_plac --cc=/home/conda/feedstock_root/build_artifacts/ffmpeg_1674566204550/_build_env/bin/x86_64-conda-linux-gnu-cc --cxx=/home/conda/feedstock_root/build_artifacts/ffmpeg_1674566204550/_build_env/bin/x86_64-conda-linux-gnu-c++ --nm=/home/conda/feedstock_root/build_artifacts/ffmpeg_1674566204550/_build_env/bin/x86_64-conda-linux-gnu-nm --ar=/home/conda/feedstock_root/build_artifacts/ffmpeg_1674566204550/_build_env/bin/x86_64-conda-linux-gnu-ar --disable-doc --disable-openssl --enable-demuxer=dash --enable-hardcoded-tables --enable-libfreetype --enable-libfontconfig --enable-libopenh264 --enable-gnutls --enable-libmp3lame --enable-libvpx --enable-pthreads --enable-vaapi --enable-gpl --enable-libx264 --enable-libx265 --enable-libaom --enable-libsvtav1 --enable-libxml2 --enable-pic --enable-shared --disable-static --enable-version3 --enable-zlib --enable-libopus --pkg-config=/home/conda/feedstock_root/build_artifacts/ffmpeg_1674566204550/_build_env/bin/pkg-config\n",
      "  libavutil      57. 28.100 / 57. 28.100\n",
      "  libavcodec     59. 37.100 / 59. 37.100\n",
      "  libavformat    59. 27.100 / 59. 27.100\n",
      "  libavdevice    59.  7.100 / 59.  7.100\n",
      "  libavfilter     8. 44.100 /  8. 44.100\n",
      "  libswscale      6.  7.100 /  6.  7.100\n",
      "  libswresample   4.  7.100 /  4.  7.100\n",
      "  libpostproc    56.  6.100 / 56.  6.100\n",
      "Input #0, mov,mp4,m4a,3gp,3g2,mj2, from 'generated_videos/checkpoints/011_better_step_sampling/generated_lora_3_raw.mp4':\n",
      "  Metadata:\n",
      "    major_brand     : isom\n",
      "    minor_version   : 512\n",
      "    compatible_brands: isomiso2mp41\n",
      "    encoder         : Lavf59.27.100\n",
      "  Duration: 00:00:03.57, start: 0.000000, bitrate: 169 kb/s\n",
      "  Stream #0:0[0x1](und): Video: mpeg4 (Simple Profile) (mp4v / 0x7634706D), yuv420p, 320x256 [SAR 1:1 DAR 5:4], 167 kb/s, 7 fps, 7 tbr, 14336 tbn (default)\n",
      "    Metadata:\n",
      "      handler_name    : VideoHandler\n",
      "      vendor_id       : [0][0][0][0]\n",
      "Stream mapping:\n",
      "  Stream #0:0 -> #0:0 (mpeg4 (native) -> h264 (libx264))\n",
      "Press [q] to stop, [?] for help\n",
      "[libx264 @ 0x55bb6553ef00] using SAR=1/1\n",
      "[libx264 @ 0x55bb6553ef00] using cpu capabilities: MMX2 SSE2Fast SSSE3 SSE4.2 AVX FMA3 BMI2 AVX2\n",
      "[libx264 @ 0x55bb6553ef00] profile High, level 1.2, 4:2:0, 8-bit\n",
      "[libx264 @ 0x55bb6553ef00] 264 - core 164 r3095 baee400 - H.264/MPEG-4 AVC codec - Copyleft 2003-2022 - http://www.videolan.org/x264.html - options: cabac=1 ref=3 deblock=1:0:0 analyse=0x3:0x113 me=hex subme=7 psy=1 psy_rd=1.00:0.00 mixed_ref=1 me_range=16 chroma_me=1 trellis=1 8x8dct=1 cqm=0 deadzone=21,11 fast_pskip=1 chroma_qp_offset=-2 threads=1 lookahead_threads=1 sliced_threads=0 nr=0 decimate=1 interlaced=0 bluray_compat=0 constrained_intra=0 bframes=3 b_pyramid=2 b_adapt=1 b_bias=0 direct=1 weightb=1 open_gop=0 weightp=2 keyint=250 keyint_min=7 scenecut=40 intra_refresh=0 rc_lookahead=40 rc=crf mbtree=1 crf=23.0 qcomp=0.60 qpmin=0 qpmax=69 qpstep=4 ip_ratio=1.40 aq=1:1.00\n",
      "Output #0, mp4, to 'generated_videos/checkpoints/011_better_step_sampling/generated_lora_3.mp4':\n",
      "  Metadata:\n",
      "    major_brand     : isom\n",
      "    minor_version   : 512\n",
      "    compatible_brands: isomiso2mp41\n",
      "    encoder         : Lavf59.27.100\n",
      "  Stream #0:0(und): Video: h264 (avc1 / 0x31637661), yuv420p(progressive), 320x256 [SAR 1:1 DAR 5:4], q=2-31, 7 fps, 14336 tbn (default)\n",
      "    Metadata:\n",
      "      handler_name    : VideoHandler\n",
      "      vendor_id       : [0][0][0][0]\n",
      "      encoder         : Lavc59.37.100 libx264\n",
      "    Side data:\n",
      "      cpb: bitrate max/min/avg: 0/0/0 buffer size: 0 vbv_delay: N/A\n",
      "frame=   25 fps=0.0 q=24.0 Lsize=      48kB time=00:00:03.14 bitrate= 126.3kbits/s speed=8.14x    \n",
      "video:47kB audio:0kB subtitle:0kB other streams:0kB global headers:0kB muxing overhead: 2.308564%\n",
      "[libx264 @ 0x55bb6553ef00] frame I:1     Avg QP:19.33  size: 11017\n",
      "[libx264 @ 0x55bb6553ef00] frame P:15    Avg QP:20.62  size:  1966\n",
      "[libx264 @ 0x55bb6553ef00] frame B:9     Avg QP:24.21  size:   813\n",
      "[libx264 @ 0x55bb6553ef00] consecutive B-frames: 40.0% 32.0% 12.0% 16.0%\n",
      "[libx264 @ 0x55bb6553ef00] mb I  I16..4:  3.4% 87.2%  9.4%\n",
      "[libx264 @ 0x55bb6553ef00] mb P  I16..4:  1.5%  7.8%  0.6%  P16..4: 38.3% 12.2% 12.2%  0.0%  0.0%    skip:27.5%\n",
      "[libx264 @ 0x55bb6553ef00] mb B  I16..4:  0.2%  5.8%  0.3%  B16..8: 30.3%  4.4%  1.3%  direct: 1.5%  skip:56.2%  L0:44.6% L1:48.3% BI: 7.1%\n",
      "[libx264 @ 0x55bb6553ef00] 8x8 transform intra:84.2% inter:87.1%\n",
      "[libx264 @ 0x55bb6553ef00] coded y,uvDC,uvAC intra: 83.1% 82.5% 36.3% inter: 24.1% 17.4% 2.9%\n",
      "[libx264 @ 0x55bb6553ef00] i16 v,h,dc,p:  6% 60% 12% 22%\n",
      "[libx264 @ 0x55bb6553ef00] i8 v,h,dc,ddl,ddr,vr,hd,vl,hu: 13% 39% 20%  4%  3%  3%  5%  5%  7%\n",
      "[libx264 @ 0x55bb6553ef00] i4 v,h,dc,ddl,ddr,vr,hd,vl,hu:  9% 61%  8%  2%  4%  4%  5%  4%  4%\n",
      "[libx264 @ 0x55bb6553ef00] i8c dc,h,v,p: 37% 40% 16%  7%\n",
      "[libx264 @ 0x55bb6553ef00] Weighted P-Frames: Y:13.3% UV:0.0%\n",
      "[libx264 @ 0x55bb6553ef00] ref P L0: 62.4% 27.8%  7.3%  2.4%  0.1%\n",
      "[libx264 @ 0x55bb6553ef00] ref B L0: 85.1% 11.8%  3.1%\n",
      "[libx264 @ 0x55bb6553ef00] ref B L1: 99.5%  0.5%\n",
      "[libx264 @ 0x55bb6553ef00] kb/s:107.13\n"
     ]
    },
    {
     "name": "stdout",
     "output_type": "stream",
     "text": [
      "Doing classifier-free guidance\n"
     ]
    },
    {
     "data": {
      "application/vnd.jupyter.widget-view+json": {
       "model_id": "7e34b9b229f949b9be07031b5467cc4c",
       "version_major": 2,
       "version_minor": 0
      },
      "text/plain": [
       "  0%|          | 0/25 [00:00<?, ?it/s]"
      ]
     },
     "metadata": {},
     "output_type": "display_data"
    },
    {
     "name": "stderr",
     "output_type": "stream",
     "text": [
      "ffmpeg version 5.1.2 Copyright (c) 2000-2022 the FFmpeg developers\n",
      "  built with gcc 11.3.0 (conda-forge gcc 11.3.0-19)\n",
      "  configuration: --prefix=/home/conda/feedstock_root/build_artifacts/ffmpeg_1674566204550/_h_env_placehold_placehold_placehold_placehold_placehold_placehold_placehold_placehold_placehold_placehold_placehold_placehold_placehold_placehold_placehold_placehold_placehold_placehold_plac --cc=/home/conda/feedstock_root/build_artifacts/ffmpeg_1674566204550/_build_env/bin/x86_64-conda-linux-gnu-cc --cxx=/home/conda/feedstock_root/build_artifacts/ffmpeg_1674566204550/_build_env/bin/x86_64-conda-linux-gnu-c++ --nm=/home/conda/feedstock_root/build_artifacts/ffmpeg_1674566204550/_build_env/bin/x86_64-conda-linux-gnu-nm --ar=/home/conda/feedstock_root/build_artifacts/ffmpeg_1674566204550/_build_env/bin/x86_64-conda-linux-gnu-ar --disable-doc --disable-openssl --enable-demuxer=dash --enable-hardcoded-tables --enable-libfreetype --enable-libfontconfig --enable-libopenh264 --enable-gnutls --enable-libmp3lame --enable-libvpx --enable-pthreads --enable-vaapi --enable-gpl --enable-libx264 --enable-libx265 --enable-libaom --enable-libsvtav1 --enable-libxml2 --enable-pic --enable-shared --disable-static --enable-version3 --enable-zlib --enable-libopus --pkg-config=/home/conda/feedstock_root/build_artifacts/ffmpeg_1674566204550/_build_env/bin/pkg-config\n",
      "  libavutil      57. 28.100 / 57. 28.100\n",
      "  libavcodec     59. 37.100 / 59. 37.100\n",
      "  libavformat    59. 27.100 / 59. 27.100\n",
      "  libavdevice    59.  7.100 / 59.  7.100\n",
      "  libavfilter     8. 44.100 /  8. 44.100\n",
      "  libswscale      6.  7.100 /  6.  7.100\n",
      "  libswresample   4.  7.100 /  4.  7.100\n",
      "  libpostproc    56.  6.100 / 56.  6.100\n",
      "Input #0, mov,mp4,m4a,3gp,3g2,mj2, from 'generated_videos/checkpoints/011_better_step_sampling/generated_lora_4_raw.mp4':\n",
      "  Metadata:\n",
      "    major_brand     : isom\n",
      "    minor_version   : 512\n",
      "    compatible_brands: isomiso2mp41\n",
      "    encoder         : Lavf59.27.100\n",
      "  Duration: 00:00:03.57, start: 0.000000, bitrate: 178 kb/s\n",
      "  Stream #0:0[0x1](und): Video: mpeg4 (Simple Profile) (mp4v / 0x7634706D), yuv420p, 320x256 [SAR 1:1 DAR 5:4], 176 kb/s, 7 fps, 7 tbr, 14336 tbn (default)\n",
      "    Metadata:\n",
      "      handler_name    : VideoHandler\n",
      "      vendor_id       : [0][0][0][0]\n",
      "Stream mapping:\n",
      "  Stream #0:0 -> #0:0 (mpeg4 (native) -> h264 (libx264))\n",
      "Press [q] to stop, [?] for help\n",
      "[libx264 @ 0x55ef36fc78c0] using SAR=1/1\n",
      "[libx264 @ 0x55ef36fc78c0] using cpu capabilities: MMX2 SSE2Fast SSSE3 SSE4.2 AVX FMA3 BMI2 AVX2\n",
      "[libx264 @ 0x55ef36fc78c0] profile High, level 1.2, 4:2:0, 8-bit\n",
      "[libx264 @ 0x55ef36fc78c0] 264 - core 164 r3095 baee400 - H.264/MPEG-4 AVC codec - Copyleft 2003-2022 - http://www.videolan.org/x264.html - options: cabac=1 ref=3 deblock=1:0:0 analyse=0x3:0x113 me=hex subme=7 psy=1 psy_rd=1.00:0.00 mixed_ref=1 me_range=16 chroma_me=1 trellis=1 8x8dct=1 cqm=0 deadzone=21,11 fast_pskip=1 chroma_qp_offset=-2 threads=1 lookahead_threads=1 sliced_threads=0 nr=0 decimate=1 interlaced=0 bluray_compat=0 constrained_intra=0 bframes=3 b_pyramid=2 b_adapt=1 b_bias=0 direct=1 weightb=1 open_gop=0 weightp=2 keyint=250 keyint_min=7 scenecut=40 intra_refresh=0 rc_lookahead=40 rc=crf mbtree=1 crf=23.0 qcomp=0.60 qpmin=0 qpmax=69 qpstep=4 ip_ratio=1.40 aq=1:1.00\n",
      "Output #0, mp4, to 'generated_videos/checkpoints/011_better_step_sampling/generated_lora_4.mp4':\n",
      "  Metadata:\n",
      "    major_brand     : isom\n",
      "    minor_version   : 512\n",
      "    compatible_brands: isomiso2mp41\n",
      "    encoder         : Lavf59.27.100\n",
      "  Stream #0:0(und): Video: h264 (avc1 / 0x31637661), yuv420p(progressive), 320x256 [SAR 1:1 DAR 5:4], q=2-31, 7 fps, 14336 tbn (default)\n",
      "    Metadata:\n",
      "      handler_name    : VideoHandler\n",
      "      vendor_id       : [0][0][0][0]\n",
      "      encoder         : Lavc59.37.100 libx264\n",
      "    Side data:\n",
      "      cpb: bitrate max/min/avg: 0/0/0 buffer size: 0 vbv_delay: N/A\n",
      "frame=   25 fps=0.0 q=24.0 Lsize=      54kB time=00:00:03.14 bitrate= 140.9kbits/s speed=6.59x    \n",
      "video:53kB audio:0kB subtitle:0kB other streams:0kB global headers:0kB muxing overhead: 2.095013%\n",
      "[libx264 @ 0x55ef36fc78c0] frame I:1     Avg QP:19.19  size:  8175\n",
      "[libx264 @ 0x55ef36fc78c0] frame P:12    Avg QP:20.07  size:  2589\n",
      "[libx264 @ 0x55ef36fc78c0] frame B:12    Avg QP:21.75  size:  1192\n",
      "[libx264 @ 0x55ef36fc78c0] consecutive B-frames: 28.0% 16.0% 24.0% 32.0%\n",
      "[libx264 @ 0x55ef36fc78c0] mb I  I16..4:  7.2% 87.2%  5.6%\n",
      "[libx264 @ 0x55ef36fc78c0] mb P  I16..4:  2.2% 20.8%  1.6%  P16..4: 38.1% 13.0%  9.4%  0.0%  0.0%    skip:15.0%\n",
      "[libx264 @ 0x55ef36fc78c0] mb B  I16..4:  0.4%  8.7%  0.8%  B16..8: 37.5%  7.1%  1.8%  direct: 2.3%  skip:41.4%  L0:53.1% L1:39.3% BI: 7.6%\n",
      "[libx264 @ 0x55ef36fc78c0] 8x8 transform intra:85.7% inter:83.6%\n",
      "[libx264 @ 0x55ef36fc78c0] coded y,uvDC,uvAC intra: 76.9% 73.2% 14.9% inter: 25.9% 20.9% 2.5%\n",
      "[libx264 @ 0x55ef36fc78c0] i16 v,h,dc,p: 17% 23% 35% 24%\n",
      "[libx264 @ 0x55ef36fc78c0] i8 v,h,dc,ddl,ddr,vr,hd,vl,hu: 14% 27% 27%  2%  6%  2% 14%  3%  5%\n",
      "[libx264 @ 0x55ef36fc78c0] i4 v,h,dc,ddl,ddr,vr,hd,vl,hu: 15% 24% 14%  4% 10%  6% 16%  4%  6%\n",
      "[libx264 @ 0x55ef36fc78c0] i8c dc,h,v,p: 47% 30% 18%  5%\n",
      "[libx264 @ 0x55ef36fc78c0] Weighted P-Frames: Y:25.0% UV:8.3%\n",
      "[libx264 @ 0x55ef36fc78c0] ref P L0: 59.0% 25.6% 10.1%  4.2%  1.0%\n",
      "[libx264 @ 0x55ef36fc78c0] ref B L0: 86.4% 11.8%  1.9%\n",
      "[libx264 @ 0x55ef36fc78c0] ref B L1: 97.1%  2.9%\n",
      "[libx264 @ 0x55ef36fc78c0] kb/s:119.92\n"
     ]
    },
    {
     "name": "stdout",
     "output_type": "stream",
     "text": [
      "Doing classifier-free guidance\n"
     ]
    },
    {
     "data": {
      "application/vnd.jupyter.widget-view+json": {
       "model_id": "4fcf8ee2aaae4bf6ba7537667c817997",
       "version_major": 2,
       "version_minor": 0
      },
      "text/plain": [
       "  0%|          | 0/25 [00:00<?, ?it/s]"
      ]
     },
     "metadata": {},
     "output_type": "display_data"
    },
    {
     "name": "stderr",
     "output_type": "stream",
     "text": [
      "ffmpeg version 5.1.2 Copyright (c) 2000-2022 the FFmpeg developers\n",
      "  built with gcc 11.3.0 (conda-forge gcc 11.3.0-19)\n",
      "  configuration: --prefix=/home/conda/feedstock_root/build_artifacts/ffmpeg_1674566204550/_h_env_placehold_placehold_placehold_placehold_placehold_placehold_placehold_placehold_placehold_placehold_placehold_placehold_placehold_placehold_placehold_placehold_placehold_placehold_plac --cc=/home/conda/feedstock_root/build_artifacts/ffmpeg_1674566204550/_build_env/bin/x86_64-conda-linux-gnu-cc --cxx=/home/conda/feedstock_root/build_artifacts/ffmpeg_1674566204550/_build_env/bin/x86_64-conda-linux-gnu-c++ --nm=/home/conda/feedstock_root/build_artifacts/ffmpeg_1674566204550/_build_env/bin/x86_64-conda-linux-gnu-nm --ar=/home/conda/feedstock_root/build_artifacts/ffmpeg_1674566204550/_build_env/bin/x86_64-conda-linux-gnu-ar --disable-doc --disable-openssl --enable-demuxer=dash --enable-hardcoded-tables --enable-libfreetype --enable-libfontconfig --enable-libopenh264 --enable-gnutls --enable-libmp3lame --enable-libvpx --enable-pthreads --enable-vaapi --enable-gpl --enable-libx264 --enable-libx265 --enable-libaom --enable-libsvtav1 --enable-libxml2 --enable-pic --enable-shared --disable-static --enable-version3 --enable-zlib --enable-libopus --pkg-config=/home/conda/feedstock_root/build_artifacts/ffmpeg_1674566204550/_build_env/bin/pkg-config\n",
      "  libavutil      57. 28.100 / 57. 28.100\n",
      "  libavcodec     59. 37.100 / 59. 37.100\n",
      "  libavformat    59. 27.100 / 59. 27.100\n",
      "  libavdevice    59.  7.100 / 59.  7.100\n",
      "  libavfilter     8. 44.100 /  8. 44.100\n",
      "  libswscale      6.  7.100 /  6.  7.100\n",
      "  libswresample   4.  7.100 /  4.  7.100\n",
      "  libpostproc    56.  6.100 / 56.  6.100\n",
      "Input #0, mov,mp4,m4a,3gp,3g2,mj2, from 'generated_videos/checkpoints/011_better_step_sampling/generated_lora_5_raw.mp4':\n",
      "  Metadata:\n",
      "    major_brand     : isom\n",
      "    minor_version   : 512\n",
      "    compatible_brands: isomiso2mp41\n",
      "    encoder         : Lavf59.27.100\n",
      "  Duration: 00:00:03.57, start: 0.000000, bitrate: 205 kb/s\n",
      "  Stream #0:0[0x1](und): Video: mpeg4 (Simple Profile) (mp4v / 0x7634706D), yuv420p, 320x256 [SAR 1:1 DAR 5:4], 203 kb/s, 7 fps, 7 tbr, 14336 tbn (default)\n",
      "    Metadata:\n",
      "      handler_name    : VideoHandler\n",
      "      vendor_id       : [0][0][0][0]\n",
      "Stream mapping:\n",
      "  Stream #0:0 -> #0:0 (mpeg4 (native) -> h264 (libx264))\n",
      "Press [q] to stop, [?] for help\n",
      "[libx264 @ 0x55fbdfef3200] using SAR=1/1\n",
      "[libx264 @ 0x55fbdfef3200] using cpu capabilities: MMX2 SSE2Fast SSSE3 SSE4.2 AVX FMA3 BMI2 AVX2\n",
      "[libx264 @ 0x55fbdfef3200] profile High, level 1.2, 4:2:0, 8-bit\n",
      "[libx264 @ 0x55fbdfef3200] 264 - core 164 r3095 baee400 - H.264/MPEG-4 AVC codec - Copyleft 2003-2022 - http://www.videolan.org/x264.html - options: cabac=1 ref=3 deblock=1:0:0 analyse=0x3:0x113 me=hex subme=7 psy=1 psy_rd=1.00:0.00 mixed_ref=1 me_range=16 chroma_me=1 trellis=1 8x8dct=1 cqm=0 deadzone=21,11 fast_pskip=1 chroma_qp_offset=-2 threads=1 lookahead_threads=1 sliced_threads=0 nr=0 decimate=1 interlaced=0 bluray_compat=0 constrained_intra=0 bframes=3 b_pyramid=2 b_adapt=1 b_bias=0 direct=1 weightb=1 open_gop=0 weightp=2 keyint=250 keyint_min=7 scenecut=40 intra_refresh=0 rc_lookahead=40 rc=crf mbtree=1 crf=23.0 qcomp=0.60 qpmin=0 qpmax=69 qpstep=4 ip_ratio=1.40 aq=1:1.00\n",
      "Output #0, mp4, to 'generated_videos/checkpoints/011_better_step_sampling/generated_lora_5.mp4':\n",
      "  Metadata:\n",
      "    major_brand     : isom\n",
      "    minor_version   : 512\n",
      "    compatible_brands: isomiso2mp41\n",
      "    encoder         : Lavf59.27.100\n",
      "  Stream #0:0(und): Video: h264 (avc1 / 0x31637661), yuv420p(progressive), 320x256 [SAR 1:1 DAR 5:4], q=2-31, 7 fps, 14336 tbn (default)\n",
      "    Metadata:\n",
      "      handler_name    : VideoHandler\n",
      "      vendor_id       : [0][0][0][0]\n",
      "      encoder         : Lavc59.37.100 libx264\n",
      "    Side data:\n",
      "      cpb: bitrate max/min/avg: 0/0/0 buffer size: 0 vbv_delay: N/A\n",
      "frame=   25 fps=0.0 q=24.0 Lsize=      58kB time=00:00:03.14 bitrate= 150.7kbits/s speed=7.98x    \n",
      "video:57kB audio:0kB subtitle:0kB other streams:0kB global headers:0kB muxing overhead: 1.830065%\n",
      "[libx264 @ 0x55fbdfef3200] frame I:1     Avg QP:20.43  size: 13327\n",
      "[libx264 @ 0x55fbdfef3200] frame P:18    Avg QP:21.08  size:  2204\n",
      "[libx264 @ 0x55fbdfef3200] frame B:6     Avg QP:24.20  size:   742\n",
      "[libx264 @ 0x55fbdfef3200] consecutive B-frames: 64.0%  8.0% 12.0% 16.0%\n",
      "[libx264 @ 0x55fbdfef3200] mb I  I16..4:  2.2% 82.5% 15.3%\n",
      "[libx264 @ 0x55fbdfef3200] mb P  I16..4:  0.8%  5.2%  0.6%  P16..4: 41.4% 12.6% 11.5%  0.0%  0.0%    skip:28.0%\n",
      "[libx264 @ 0x55fbdfef3200] mb B  I16..4:  0.2%  4.2%  0.4%  B16..8: 32.6%  4.1%  1.0%  direct: 1.9%  skip:55.7%  L0:43.3% L1:49.3% BI: 7.3%\n",
      "[libx264 @ 0x55fbdfef3200] 8x8 transform intra:81.1% inter:84.2%\n",
      "[libx264 @ 0x55fbdfef3200] coded y,uvDC,uvAC intra: 82.6% 85.6% 43.6% inter: 30.7% 25.7% 5.7%\n",
      "[libx264 @ 0x55fbdfef3200] i16 v,h,dc,p: 12% 54% 21% 12%\n",
      "[libx264 @ 0x55fbdfef3200] i8 v,h,dc,ddl,ddr,vr,hd,vl,hu: 12% 37% 26%  3%  3%  5%  3%  5%  6%\n",
      "[libx264 @ 0x55fbdfef3200] i4 v,h,dc,ddl,ddr,vr,hd,vl,hu: 13% 40%  9%  6%  4% 12%  4%  6%  6%\n",
      "[libx264 @ 0x55fbdfef3200] i8c dc,h,v,p: 37% 41% 16%  6%\n",
      "[libx264 @ 0x55fbdfef3200] Weighted P-Frames: Y:11.1% UV:0.0%\n",
      "[libx264 @ 0x55fbdfef3200] ref P L0: 68.7% 21.6%  7.9%  1.8%  0.1%\n",
      "[libx264 @ 0x55fbdfef3200] ref B L0: 90.1%  8.4%  1.5%\n",
      "[libx264 @ 0x55fbdfef3200] ref B L1: 97.1%  2.9%\n",
      "[libx264 @ 0x55fbdfef3200] kb/s:128.69\n"
     ]
    },
    {
     "name": "stdout",
     "output_type": "stream",
     "text": [
      "Doing classifier-free guidance\n"
     ]
    },
    {
     "data": {
      "application/vnd.jupyter.widget-view+json": {
       "model_id": "7269c652c0734406aac4727244db0812",
       "version_major": 2,
       "version_minor": 0
      },
      "text/plain": [
       "  0%|          | 0/25 [00:00<?, ?it/s]"
      ]
     },
     "metadata": {},
     "output_type": "display_data"
    },
    {
     "name": "stderr",
     "output_type": "stream",
     "text": [
      "ffmpeg version 5.1.2 Copyright (c) 2000-2022 the FFmpeg developers\n",
      "  built with gcc 11.3.0 (conda-forge gcc 11.3.0-19)\n",
      "  configuration: --prefix=/home/conda/feedstock_root/build_artifacts/ffmpeg_1674566204550/_h_env_placehold_placehold_placehold_placehold_placehold_placehold_placehold_placehold_placehold_placehold_placehold_placehold_placehold_placehold_placehold_placehold_placehold_placehold_plac --cc=/home/conda/feedstock_root/build_artifacts/ffmpeg_1674566204550/_build_env/bin/x86_64-conda-linux-gnu-cc --cxx=/home/conda/feedstock_root/build_artifacts/ffmpeg_1674566204550/_build_env/bin/x86_64-conda-linux-gnu-c++ --nm=/home/conda/feedstock_root/build_artifacts/ffmpeg_1674566204550/_build_env/bin/x86_64-conda-linux-gnu-nm --ar=/home/conda/feedstock_root/build_artifacts/ffmpeg_1674566204550/_build_env/bin/x86_64-conda-linux-gnu-ar --disable-doc --disable-openssl --enable-demuxer=dash --enable-hardcoded-tables --enable-libfreetype --enable-libfontconfig --enable-libopenh264 --enable-gnutls --enable-libmp3lame --enable-libvpx --enable-pthreads --enable-vaapi --enable-gpl --enable-libx264 --enable-libx265 --enable-libaom --enable-libsvtav1 --enable-libxml2 --enable-pic --enable-shared --disable-static --enable-version3 --enable-zlib --enable-libopus --pkg-config=/home/conda/feedstock_root/build_artifacts/ffmpeg_1674566204550/_build_env/bin/pkg-config\n",
      "  libavutil      57. 28.100 / 57. 28.100\n",
      "  libavcodec     59. 37.100 / 59. 37.100\n",
      "  libavformat    59. 27.100 / 59. 27.100\n",
      "  libavdevice    59.  7.100 / 59.  7.100\n",
      "  libavfilter     8. 44.100 /  8. 44.100\n",
      "  libswscale      6.  7.100 /  6.  7.100\n",
      "  libswresample   4.  7.100 /  4.  7.100\n",
      "  libpostproc    56.  6.100 / 56.  6.100\n",
      "Input #0, mov,mp4,m4a,3gp,3g2,mj2, from 'generated_videos/checkpoints/011_better_step_sampling/generated_lora_6_raw.mp4':\n",
      "  Metadata:\n",
      "    major_brand     : isom\n",
      "    minor_version   : 512\n",
      "    compatible_brands: isomiso2mp41\n",
      "    encoder         : Lavf59.27.100\n",
      "  Duration: 00:00:03.57, start: 0.000000, bitrate: 181 kb/s\n",
      "  Stream #0:0[0x1](und): Video: mpeg4 (Simple Profile) (mp4v / 0x7634706D), yuv420p, 320x256 [SAR 1:1 DAR 5:4], 179 kb/s, 7 fps, 7 tbr, 14336 tbn (default)\n",
      "    Metadata:\n",
      "      handler_name    : VideoHandler\n",
      "      vendor_id       : [0][0][0][0]\n",
      "Stream mapping:\n",
      "  Stream #0:0 -> #0:0 (mpeg4 (native) -> h264 (libx264))\n",
      "Press [q] to stop, [?] for help\n",
      "[libx264 @ 0x55d4462bc000] using SAR=1/1\n",
      "[libx264 @ 0x55d4462bc000] using cpu capabilities: MMX2 SSE2Fast SSSE3 SSE4.2 AVX FMA3 BMI2 AVX2\n",
      "[libx264 @ 0x55d4462bc000] profile High, level 1.2, 4:2:0, 8-bit\n",
      "[libx264 @ 0x55d4462bc000] 264 - core 164 r3095 baee400 - H.264/MPEG-4 AVC codec - Copyleft 2003-2022 - http://www.videolan.org/x264.html - options: cabac=1 ref=3 deblock=1:0:0 analyse=0x3:0x113 me=hex subme=7 psy=1 psy_rd=1.00:0.00 mixed_ref=1 me_range=16 chroma_me=1 trellis=1 8x8dct=1 cqm=0 deadzone=21,11 fast_pskip=1 chroma_qp_offset=-2 threads=1 lookahead_threads=1 sliced_threads=0 nr=0 decimate=1 interlaced=0 bluray_compat=0 constrained_intra=0 bframes=3 b_pyramid=2 b_adapt=1 b_bias=0 direct=1 weightb=1 open_gop=0 weightp=2 keyint=250 keyint_min=7 scenecut=40 intra_refresh=0 rc_lookahead=40 rc=crf mbtree=1 crf=23.0 qcomp=0.60 qpmin=0 qpmax=69 qpstep=4 ip_ratio=1.40 aq=1:1.00\n",
      "Output #0, mp4, to 'generated_videos/checkpoints/011_better_step_sampling/generated_lora_6.mp4':\n",
      "  Metadata:\n",
      "    major_brand     : isom\n",
      "    minor_version   : 512\n",
      "    compatible_brands: isomiso2mp41\n",
      "    encoder         : Lavf59.27.100\n",
      "  Stream #0:0(und): Video: h264 (avc1 / 0x31637661), yuv420p(progressive), 320x256 [SAR 1:1 DAR 5:4], q=2-31, 7 fps, 14336 tbn (default)\n",
      "    Metadata:\n",
      "      handler_name    : VideoHandler\n",
      "      vendor_id       : [0][0][0][0]\n",
      "      encoder         : Lavc59.37.100 libx264\n",
      "    Side data:\n",
      "      cpb: bitrate max/min/avg: 0/0/0 buffer size: 0 vbv_delay: N/A\n",
      "frame=   25 fps=0.0 q=24.0 Lsize=      52kB time=00:00:03.14 bitrate= 136.7kbits/s speed=8.35x    \n",
      "video:51kB audio:0kB subtitle:0kB other streams:0kB global headers:0kB muxing overhead: 2.020701%\n",
      "[libx264 @ 0x55d4462bc000] frame I:1     Avg QP:19.52  size: 12436\n",
      "[libx264 @ 0x55d4462bc000] frame P:18    Avg QP:20.97  size:  1951\n",
      "[libx264 @ 0x55d4462bc000] frame B:6     Avg QP:24.46  size:   736\n",
      "[libx264 @ 0x55d4462bc000] consecutive B-frames: 64.0%  8.0% 12.0% 16.0%\n",
      "[libx264 @ 0x55d4462bc000] mb I  I16..4:  2.8% 91.6%  5.6%\n",
      "[libx264 @ 0x55d4462bc000] mb P  I16..4:  0.7%  3.1%  0.2%  P16..4: 43.6% 11.2% 13.1%  0.0%  0.0%    skip:27.9%\n",
      "[libx264 @ 0x55d4462bc000] mb B  I16..4:  0.2%  3.5%  0.5%  B16..8: 35.3%  5.6%  1.0%  direct: 2.0%  skip:51.8%  L0:29.5% L1:63.0% BI: 7.5%\n",
      "[libx264 @ 0x55d4462bc000] 8x8 transform intra:84.8% inter:85.8%\n",
      "[libx264 @ 0x55d4462bc000] coded y,uvDC,uvAC intra: 83.9% 89.2% 46.6% inter: 30.5% 26.2% 5.7%\n",
      "[libx264 @ 0x55d4462bc000] i16 v,h,dc,p:  7% 75%  5% 12%\n",
      "[libx264 @ 0x55d4462bc000] i8 v,h,dc,ddl,ddr,vr,hd,vl,hu: 14% 37% 22%  3%  3%  5%  4%  5%  6%\n",
      "[libx264 @ 0x55d4462bc000] i4 v,h,dc,ddl,ddr,vr,hd,vl,hu: 16% 41%  8%  6%  5%  4%  6%  6%  7%\n",
      "[libx264 @ 0x55d4462bc000] i8c dc,h,v,p: 33% 43% 15%  9%\n",
      "[libx264 @ 0x55d4462bc000] Weighted P-Frames: Y:11.1% UV:0.0%\n",
      "[libx264 @ 0x55d4462bc000] ref P L0: 64.7% 27.5%  5.8%  1.9%  0.0%\n",
      "[libx264 @ 0x55d4462bc000] ref B L0: 85.6% 12.9%  1.4%\n",
      "[libx264 @ 0x55d4462bc000] ref B L1: 96.5%  3.5%\n",
      "[libx264 @ 0x55d4462bc000] kb/s:116.41\n"
     ]
    },
    {
     "name": "stdout",
     "output_type": "stream",
     "text": [
      "Doing classifier-free guidance\n"
     ]
    },
    {
     "data": {
      "application/vnd.jupyter.widget-view+json": {
       "model_id": "5964e8e4c0f3426fb5d878d41865fbe6",
       "version_major": 2,
       "version_minor": 0
      },
      "text/plain": [
       "  0%|          | 0/25 [00:00<?, ?it/s]"
      ]
     },
     "metadata": {},
     "output_type": "display_data"
    },
    {
     "name": "stderr",
     "output_type": "stream",
     "text": [
      "ffmpeg version 5.1.2 Copyright (c) 2000-2022 the FFmpeg developers\n",
      "  built with gcc 11.3.0 (conda-forge gcc 11.3.0-19)\n",
      "  configuration: --prefix=/home/conda/feedstock_root/build_artifacts/ffmpeg_1674566204550/_h_env_placehold_placehold_placehold_placehold_placehold_placehold_placehold_placehold_placehold_placehold_placehold_placehold_placehold_placehold_placehold_placehold_placehold_placehold_plac --cc=/home/conda/feedstock_root/build_artifacts/ffmpeg_1674566204550/_build_env/bin/x86_64-conda-linux-gnu-cc --cxx=/home/conda/feedstock_root/build_artifacts/ffmpeg_1674566204550/_build_env/bin/x86_64-conda-linux-gnu-c++ --nm=/home/conda/feedstock_root/build_artifacts/ffmpeg_1674566204550/_build_env/bin/x86_64-conda-linux-gnu-nm --ar=/home/conda/feedstock_root/build_artifacts/ffmpeg_1674566204550/_build_env/bin/x86_64-conda-linux-gnu-ar --disable-doc --disable-openssl --enable-demuxer=dash --enable-hardcoded-tables --enable-libfreetype --enable-libfontconfig --enable-libopenh264 --enable-gnutls --enable-libmp3lame --enable-libvpx --enable-pthreads --enable-vaapi --enable-gpl --enable-libx264 --enable-libx265 --enable-libaom --enable-libsvtav1 --enable-libxml2 --enable-pic --enable-shared --disable-static --enable-version3 --enable-zlib --enable-libopus --pkg-config=/home/conda/feedstock_root/build_artifacts/ffmpeg_1674566204550/_build_env/bin/pkg-config\n",
      "  libavutil      57. 28.100 / 57. 28.100\n",
      "  libavcodec     59. 37.100 / 59. 37.100\n",
      "  libavformat    59. 27.100 / 59. 27.100\n",
      "  libavdevice    59.  7.100 / 59.  7.100\n",
      "  libavfilter     8. 44.100 /  8. 44.100\n",
      "  libswscale      6.  7.100 /  6.  7.100\n",
      "  libswresample   4.  7.100 /  4.  7.100\n",
      "  libpostproc    56.  6.100 / 56.  6.100\n",
      "Input #0, mov,mp4,m4a,3gp,3g2,mj2, from 'generated_videos/checkpoints/011_better_step_sampling/generated_lora_7_raw.mp4':\n",
      "  Metadata:\n",
      "    major_brand     : isom\n",
      "    minor_version   : 512\n",
      "    compatible_brands: isomiso2mp41\n",
      "    encoder         : Lavf59.27.100\n",
      "  Duration: 00:00:03.57, start: 0.000000, bitrate: 178 kb/s\n",
      "  Stream #0:0[0x1](und): Video: mpeg4 (Simple Profile) (mp4v / 0x7634706D), yuv420p, 320x256 [SAR 1:1 DAR 5:4], 176 kb/s, 7 fps, 7 tbr, 14336 tbn (default)\n",
      "    Metadata:\n",
      "      handler_name    : VideoHandler\n",
      "      vendor_id       : [0][0][0][0]\n",
      "Stream mapping:\n",
      "  Stream #0:0 -> #0:0 (mpeg4 (native) -> h264 (libx264))\n",
      "Press [q] to stop, [?] for help\n",
      "[libx264 @ 0x5569bbd31a00] using SAR=1/1\n",
      "[libx264 @ 0x5569bbd31a00] using cpu capabilities: MMX2 SSE2Fast SSSE3 SSE4.2 AVX FMA3 BMI2 AVX2\n",
      "[libx264 @ 0x5569bbd31a00] profile High, level 1.2, 4:2:0, 8-bit\n",
      "[libx264 @ 0x5569bbd31a00] 264 - core 164 r3095 baee400 - H.264/MPEG-4 AVC codec - Copyleft 2003-2022 - http://www.videolan.org/x264.html - options: cabac=1 ref=3 deblock=1:0:0 analyse=0x3:0x113 me=hex subme=7 psy=1 psy_rd=1.00:0.00 mixed_ref=1 me_range=16 chroma_me=1 trellis=1 8x8dct=1 cqm=0 deadzone=21,11 fast_pskip=1 chroma_qp_offset=-2 threads=1 lookahead_threads=1 sliced_threads=0 nr=0 decimate=1 interlaced=0 bluray_compat=0 constrained_intra=0 bframes=3 b_pyramid=2 b_adapt=1 b_bias=0 direct=1 weightb=1 open_gop=0 weightp=2 keyint=250 keyint_min=7 scenecut=40 intra_refresh=0 rc_lookahead=40 rc=crf mbtree=1 crf=23.0 qcomp=0.60 qpmin=0 qpmax=69 qpstep=4 ip_ratio=1.40 aq=1:1.00\n",
      "Output #0, mp4, to 'generated_videos/checkpoints/011_better_step_sampling/generated_lora_7.mp4':\n",
      "  Metadata:\n",
      "    major_brand     : isom\n",
      "    minor_version   : 512\n",
      "    compatible_brands: isomiso2mp41\n",
      "    encoder         : Lavf59.27.100\n",
      "  Stream #0:0(und): Video: h264 (avc1 / 0x31637661), yuv420p(progressive), 320x256 [SAR 1:1 DAR 5:4], q=2-31, 7 fps, 14336 tbn (default)\n",
      "    Metadata:\n",
      "      handler_name    : VideoHandler\n",
      "      vendor_id       : [0][0][0][0]\n",
      "      encoder         : Lavc59.37.100 libx264\n",
      "    Side data:\n",
      "      cpb: bitrate max/min/avg: 0/0/0 buffer size: 0 vbv_delay: N/A\n",
      "frame=   25 fps=0.0 q=24.0 Lsize=      57kB time=00:00:03.14 bitrate= 148.7kbits/s speed= 6.3x    \n",
      "video:56kB audio:0kB subtitle:0kB other streams:0kB global headers:0kB muxing overhead: 1.926265%\n",
      "[libx264 @ 0x5569bbd31a00] frame I:1     Avg QP:19.60  size:  8350\n",
      "[libx264 @ 0x5569bbd31a00] frame P:15    Avg QP:20.12  size:  2579\n",
      "[libx264 @ 0x5569bbd31a00] frame B:9     Avg QP:22.56  size:  1065\n",
      "[libx264 @ 0x5569bbd31a00] consecutive B-frames: 44.0% 16.0% 24.0% 16.0%\n",
      "[libx264 @ 0x5569bbd31a00] mb I  I16..4: 13.4% 79.7%  6.9%\n",
      "[libx264 @ 0x5569bbd31a00] mb P  I16..4:  2.2% 15.8%  0.9%  P16..4: 45.1% 15.4%  9.7%  0.0%  0.0%    skip:10.8%\n",
      "[libx264 @ 0x5569bbd31a00] mb B  I16..4:  0.9%  5.6%  0.3%  B16..8: 44.7%  7.8%  1.1%  direct: 3.0%  skip:36.7%  L0:69.6% L1:17.0% BI:13.4%\n",
      "[libx264 @ 0x5569bbd31a00] 8x8 transform intra:82.4% inter:84.8%\n",
      "[libx264 @ 0x5569bbd31a00] coded y,uvDC,uvAC intra: 71.4% 78.5% 25.3% inter: 33.0% 29.7% 3.6%\n",
      "[libx264 @ 0x5569bbd31a00] i16 v,h,dc,p: 28% 41% 24%  7%\n",
      "[libx264 @ 0x5569bbd31a00] i8 v,h,dc,ddl,ddr,vr,hd,vl,hu: 16% 34% 28%  3%  3%  2%  7%  2%  5%\n",
      "[libx264 @ 0x5569bbd31a00] i4 v,h,dc,ddl,ddr,vr,hd,vl,hu: 19% 42% 15%  2%  4%  6%  7%  3%  2%\n",
      "[libx264 @ 0x5569bbd31a00] i8c dc,h,v,p: 37% 39% 18%  5%\n",
      "[libx264 @ 0x5569bbd31a00] Weighted P-Frames: Y:20.0% UV:0.0%\n",
      "[libx264 @ 0x5569bbd31a00] ref P L0: 63.8% 23.5%  9.3%  2.8%  0.6%\n",
      "[libx264 @ 0x5569bbd31a00] ref B L0: 84.5% 13.6%  1.8%\n",
      "[libx264 @ 0x5569bbd31a00] ref B L1: 99.9%  0.1%\n",
      "[libx264 @ 0x5569bbd31a00] kb/s:126.84\n"
     ]
    },
    {
     "name": "stdout",
     "output_type": "stream",
     "text": [
      "Doing classifier-free guidance\n"
     ]
    },
    {
     "data": {
      "application/vnd.jupyter.widget-view+json": {
       "model_id": "2f90b53fc35943129f160ce0414c9135",
       "version_major": 2,
       "version_minor": 0
      },
      "text/plain": [
       "  0%|          | 0/25 [00:00<?, ?it/s]"
      ]
     },
     "metadata": {},
     "output_type": "display_data"
    },
    {
     "name": "stderr",
     "output_type": "stream",
     "text": [
      "ffmpeg version 5.1.2 Copyright (c) 2000-2022 the FFmpeg developers\n",
      "  built with gcc 11.3.0 (conda-forge gcc 11.3.0-19)\n",
      "  configuration: --prefix=/home/conda/feedstock_root/build_artifacts/ffmpeg_1674566204550/_h_env_placehold_placehold_placehold_placehold_placehold_placehold_placehold_placehold_placehold_placehold_placehold_placehold_placehold_placehold_placehold_placehold_placehold_placehold_plac --cc=/home/conda/feedstock_root/build_artifacts/ffmpeg_1674566204550/_build_env/bin/x86_64-conda-linux-gnu-cc --cxx=/home/conda/feedstock_root/build_artifacts/ffmpeg_1674566204550/_build_env/bin/x86_64-conda-linux-gnu-c++ --nm=/home/conda/feedstock_root/build_artifacts/ffmpeg_1674566204550/_build_env/bin/x86_64-conda-linux-gnu-nm --ar=/home/conda/feedstock_root/build_artifacts/ffmpeg_1674566204550/_build_env/bin/x86_64-conda-linux-gnu-ar --disable-doc --disable-openssl --enable-demuxer=dash --enable-hardcoded-tables --enable-libfreetype --enable-libfontconfig --enable-libopenh264 --enable-gnutls --enable-libmp3lame --enable-libvpx --enable-pthreads --enable-vaapi --enable-gpl --enable-libx264 --enable-libx265 --enable-libaom --enable-libsvtav1 --enable-libxml2 --enable-pic --enable-shared --disable-static --enable-version3 --enable-zlib --enable-libopus --pkg-config=/home/conda/feedstock_root/build_artifacts/ffmpeg_1674566204550/_build_env/bin/pkg-config\n",
      "  libavutil      57. 28.100 / 57. 28.100\n",
      "  libavcodec     59. 37.100 / 59. 37.100\n",
      "  libavformat    59. 27.100 / 59. 27.100\n",
      "  libavdevice    59.  7.100 / 59.  7.100\n",
      "  libavfilter     8. 44.100 /  8. 44.100\n",
      "  libswscale      6.  7.100 /  6.  7.100\n",
      "  libswresample   4.  7.100 /  4.  7.100\n",
      "  libpostproc    56.  6.100 / 56.  6.100\n",
      "Input #0, mov,mp4,m4a,3gp,3g2,mj2, from 'generated_videos/checkpoints/011_better_step_sampling/generated_lora_8_raw.mp4':\n",
      "  Metadata:\n",
      "    major_brand     : isom\n",
      "    minor_version   : 512\n",
      "    compatible_brands: isomiso2mp41\n",
      "    encoder         : Lavf59.27.100\n",
      "  Duration: 00:00:03.57, start: 0.000000, bitrate: 220 kb/s\n",
      "  Stream #0:0[0x1](und): Video: mpeg4 (Simple Profile) (mp4v / 0x7634706D), yuv420p, 320x256 [SAR 1:1 DAR 5:4], 218 kb/s, 7 fps, 7 tbr, 14336 tbn (default)\n",
      "    Metadata:\n",
      "      handler_name    : VideoHandler\n",
      "      vendor_id       : [0][0][0][0]\n",
      "Stream mapping:\n",
      "  Stream #0:0 -> #0:0 (mpeg4 (native) -> h264 (libx264))\n",
      "Press [q] to stop, [?] for help\n",
      "[libx264 @ 0x555f6c886fc0] using SAR=1/1\n",
      "[libx264 @ 0x555f6c886fc0] using cpu capabilities: MMX2 SSE2Fast SSSE3 SSE4.2 AVX FMA3 BMI2 AVX2\n",
      "[libx264 @ 0x555f6c886fc0] profile High, level 1.2, 4:2:0, 8-bit\n",
      "[libx264 @ 0x555f6c886fc0] 264 - core 164 r3095 baee400 - H.264/MPEG-4 AVC codec - Copyleft 2003-2022 - http://www.videolan.org/x264.html - options: cabac=1 ref=3 deblock=1:0:0 analyse=0x3:0x113 me=hex subme=7 psy=1 psy_rd=1.00:0.00 mixed_ref=1 me_range=16 chroma_me=1 trellis=1 8x8dct=1 cqm=0 deadzone=21,11 fast_pskip=1 chroma_qp_offset=-2 threads=1 lookahead_threads=1 sliced_threads=0 nr=0 decimate=1 interlaced=0 bluray_compat=0 constrained_intra=0 bframes=3 b_pyramid=2 b_adapt=1 b_bias=0 direct=1 weightb=1 open_gop=0 weightp=2 keyint=250 keyint_min=7 scenecut=40 intra_refresh=0 rc_lookahead=40 rc=crf mbtree=1 crf=23.0 qcomp=0.60 qpmin=0 qpmax=69 qpstep=4 ip_ratio=1.40 aq=1:1.00\n",
      "Output #0, mp4, to 'generated_videos/checkpoints/011_better_step_sampling/generated_lora_8.mp4':\n",
      "  Metadata:\n",
      "    major_brand     : isom\n",
      "    minor_version   : 512\n",
      "    compatible_brands: isomiso2mp41\n",
      "    encoder         : Lavf59.27.100\n",
      "  Stream #0:0(und): Video: h264 (avc1 / 0x31637661), yuv420p(progressive), 320x256 [SAR 1:1 DAR 5:4], q=2-31, 7 fps, 14336 tbn (default)\n",
      "    Metadata:\n",
      "      handler_name    : VideoHandler\n",
      "      vendor_id       : [0][0][0][0]\n",
      "      encoder         : Lavc59.37.100 libx264\n",
      "    Side data:\n",
      "      cpb: bitrate max/min/avg: 0/0/0 buffer size: 0 vbv_delay: N/A\n",
      "frame=   25 fps=0.0 q=24.0 Lsize=      64kB time=00:00:03.14 bitrate= 166.1kbits/s speed=6.87x    \n",
      "video:63kB audio:0kB subtitle:0kB other streams:0kB global headers:0kB muxing overhead: 1.708442%\n",
      "[libx264 @ 0x555f6c886fc0] frame I:1     Avg QP:20.70  size: 11030\n",
      "[libx264 @ 0x555f6c886fc0] frame P:16    Avg QP:21.41  size:  2652\n",
      "[libx264 @ 0x555f6c886fc0] frame B:8     Avg QP:24.21  size:  1249\n",
      "[libx264 @ 0x555f6c886fc0] consecutive B-frames: 48.0% 24.0% 12.0% 16.0%\n",
      "[libx264 @ 0x555f6c886fc0] mb I  I16..4:  1.2% 89.7%  9.1%\n",
      "[libx264 @ 0x555f6c886fc0] mb P  I16..4:  0.8%  8.7%  1.2%  P16..4: 44.1% 14.4% 11.8%  0.0%  0.0%    skip:19.1%\n",
      "[libx264 @ 0x555f6c886fc0] mb B  I16..4:  0.4%  8.9%  0.9%  B16..8: 32.8%  6.5%  1.9%  direct: 4.2%  skip:44.4%  L0:42.4% L1:43.9% BI:13.8%\n",
      "[libx264 @ 0x555f6c886fc0] 8x8 transform intra:85.1% inter:83.0%\n",
      "[libx264 @ 0x555f6c886fc0] coded y,uvDC,uvAC intra: 85.4% 85.7% 38.1% inter: 35.6% 31.2% 6.2%\n",
      "[libx264 @ 0x555f6c886fc0] i16 v,h,dc,p:  6% 61% 13% 20%\n",
      "[libx264 @ 0x555f6c886fc0] i8 v,h,dc,ddl,ddr,vr,hd,vl,hu: 11% 38% 22%  3%  5%  5%  6%  4%  6%\n",
      "[libx264 @ 0x555f6c886fc0] i4 v,h,dc,ddl,ddr,vr,hd,vl,hu: 12% 43% 11%  4%  8%  4%  9%  4%  5%\n",
      "[libx264 @ 0x555f6c886fc0] i8c dc,h,v,p: 39% 38% 17%  7%\n",
      "[libx264 @ 0x555f6c886fc0] Weighted P-Frames: Y:12.5% UV:6.2%\n",
      "[libx264 @ 0x555f6c886fc0] ref P L0: 71.8% 19.0%  6.2%  2.4%  0.6%\n",
      "[libx264 @ 0x555f6c886fc0] ref B L0: 90.2%  7.4%  2.4%\n",
      "[libx264 @ 0x555f6c886fc0] ref B L1: 98.2%  1.8%\n",
      "[libx264 @ 0x555f6c886fc0] kb/s:142.16\n"
     ]
    },
    {
     "name": "stdout",
     "output_type": "stream",
     "text": [
      "Doing classifier-free guidance\n"
     ]
    },
    {
     "data": {
      "application/vnd.jupyter.widget-view+json": {
       "model_id": "ef6bd5707d06440ab6b097c388fe2a36",
       "version_major": 2,
       "version_minor": 0
      },
      "text/plain": [
       "  0%|          | 0/25 [00:00<?, ?it/s]"
      ]
     },
     "metadata": {},
     "output_type": "display_data"
    },
    {
     "name": "stderr",
     "output_type": "stream",
     "text": [
      "ffmpeg version 5.1.2 Copyright (c) 2000-2022 the FFmpeg developers\n",
      "  built with gcc 11.3.0 (conda-forge gcc 11.3.0-19)\n",
      "  configuration: --prefix=/home/conda/feedstock_root/build_artifacts/ffmpeg_1674566204550/_h_env_placehold_placehold_placehold_placehold_placehold_placehold_placehold_placehold_placehold_placehold_placehold_placehold_placehold_placehold_placehold_placehold_placehold_placehold_plac --cc=/home/conda/feedstock_root/build_artifacts/ffmpeg_1674566204550/_build_env/bin/x86_64-conda-linux-gnu-cc --cxx=/home/conda/feedstock_root/build_artifacts/ffmpeg_1674566204550/_build_env/bin/x86_64-conda-linux-gnu-c++ --nm=/home/conda/feedstock_root/build_artifacts/ffmpeg_1674566204550/_build_env/bin/x86_64-conda-linux-gnu-nm --ar=/home/conda/feedstock_root/build_artifacts/ffmpeg_1674566204550/_build_env/bin/x86_64-conda-linux-gnu-ar --disable-doc --disable-openssl --enable-demuxer=dash --enable-hardcoded-tables --enable-libfreetype --enable-libfontconfig --enable-libopenh264 --enable-gnutls --enable-libmp3lame --enable-libvpx --enable-pthreads --enable-vaapi --enable-gpl --enable-libx264 --enable-libx265 --enable-libaom --enable-libsvtav1 --enable-libxml2 --enable-pic --enable-shared --disable-static --enable-version3 --enable-zlib --enable-libopus --pkg-config=/home/conda/feedstock_root/build_artifacts/ffmpeg_1674566204550/_build_env/bin/pkg-config\n",
      "  libavutil      57. 28.100 / 57. 28.100\n",
      "  libavcodec     59. 37.100 / 59. 37.100\n",
      "  libavformat    59. 27.100 / 59. 27.100\n",
      "  libavdevice    59.  7.100 / 59.  7.100\n",
      "  libavfilter     8. 44.100 /  8. 44.100\n",
      "  libswscale      6.  7.100 /  6.  7.100\n",
      "  libswresample   4.  7.100 /  4.  7.100\n",
      "  libpostproc    56.  6.100 / 56.  6.100\n",
      "Input #0, mov,mp4,m4a,3gp,3g2,mj2, from 'generated_videos/checkpoints/011_better_step_sampling/generated_lora_9_raw.mp4':\n",
      "  Metadata:\n",
      "    major_brand     : isom\n",
      "    minor_version   : 512\n",
      "    compatible_brands: isomiso2mp41\n",
      "    encoder         : Lavf59.27.100\n",
      "  Duration: 00:00:03.57, start: 0.000000, bitrate: 169 kb/s\n",
      "  Stream #0:0[0x1](und): Video: mpeg4 (Simple Profile) (mp4v / 0x7634706D), yuv420p, 320x256 [SAR 1:1 DAR 5:4], 167 kb/s, 7 fps, 7 tbr, 14336 tbn (default)\n",
      "    Metadata:\n",
      "      handler_name    : VideoHandler\n",
      "      vendor_id       : [0][0][0][0]\n",
      "Stream mapping:\n",
      "  Stream #0:0 -> #0:0 (mpeg4 (native) -> h264 (libx264))\n",
      "Press [q] to stop, [?] for help\n",
      "[libx264 @ 0x565131170d80] using SAR=1/1\n",
      "[libx264 @ 0x565131170d80] using cpu capabilities: MMX2 SSE2Fast SSSE3 SSE4.2 AVX FMA3 BMI2 AVX2\n",
      "[libx264 @ 0x565131170d80] profile High, level 1.2, 4:2:0, 8-bit\n",
      "[libx264 @ 0x565131170d80] 264 - core 164 r3095 baee400 - H.264/MPEG-4 AVC codec - Copyleft 2003-2022 - http://www.videolan.org/x264.html - options: cabac=1 ref=3 deblock=1:0:0 analyse=0x3:0x113 me=hex subme=7 psy=1 psy_rd=1.00:0.00 mixed_ref=1 me_range=16 chroma_me=1 trellis=1 8x8dct=1 cqm=0 deadzone=21,11 fast_pskip=1 chroma_qp_offset=-2 threads=1 lookahead_threads=1 sliced_threads=0 nr=0 decimate=1 interlaced=0 bluray_compat=0 constrained_intra=0 bframes=3 b_pyramid=2 b_adapt=1 b_bias=0 direct=1 weightb=1 open_gop=0 weightp=2 keyint=250 keyint_min=7 scenecut=40 intra_refresh=0 rc_lookahead=40 rc=crf mbtree=1 crf=23.0 qcomp=0.60 qpmin=0 qpmax=69 qpstep=4 ip_ratio=1.40 aq=1:1.00\n",
      "Output #0, mp4, to 'generated_videos/checkpoints/011_better_step_sampling/generated_lora_9.mp4':\n",
      "  Metadata:\n",
      "    major_brand     : isom\n",
      "    minor_version   : 512\n",
      "    compatible_brands: isomiso2mp41\n",
      "    encoder         : Lavf59.27.100\n",
      "  Stream #0:0(und): Video: h264 (avc1 / 0x31637661), yuv420p(progressive), 320x256 [SAR 1:1 DAR 5:4], q=2-31, 7 fps, 14336 tbn (default)\n",
      "    Metadata:\n",
      "      handler_name    : VideoHandler\n",
      "      vendor_id       : [0][0][0][0]\n",
      "      encoder         : Lavc59.37.100 libx264\n",
      "    Side data:\n",
      "      cpb: bitrate max/min/avg: 0/0/0 buffer size: 0 vbv_delay: N/A\n",
      "frame=   25 fps=0.0 q=24.0 Lsize=      50kB time=00:00:03.14 bitrate= 129.4kbits/s speed=7.92x    \n",
      "video:49kB audio:0kB subtitle:0kB other streams:0kB global headers:0kB muxing overhead: 2.121590%\n",
      "[libx264 @ 0x565131170d80] frame I:1     Avg QP:19.61  size: 11288\n",
      "[libx264 @ 0x565131170d80] frame P:19    Avg QP:20.46  size:  1799\n",
      "[libx264 @ 0x565131170d80] frame B:5     Avg QP:23.20  size:   723\n",
      "[libx264 @ 0x565131170d80] consecutive B-frames: 68.0%  8.0% 24.0%  0.0%\n",
      "[libx264 @ 0x565131170d80] mb I  I16..4:  8.1% 80.3% 11.6%\n",
      "[libx264 @ 0x565131170d80] mb P  I16..4:  0.9%  5.7%  0.6%  P16..4: 34.3%  9.7% 12.7%  0.0%  0.0%    skip:36.1%\n",
      "[libx264 @ 0x565131170d80] mb B  I16..4:  0.2%  3.4%  0.4%  B16..8: 32.9%  3.6%  1.2%  direct: 1.8%  skip:56.4%  L0:46.4% L1:42.7% BI:10.9%\n",
      "[libx264 @ 0x565131170d80] 8x8 transform intra:79.9% inter:86.2%\n",
      "[libx264 @ 0x565131170d80] coded y,uvDC,uvAC intra: 77.8% 80.6% 36.6% inter: 25.7% 19.3% 3.8%\n",
      "[libx264 @ 0x565131170d80] i16 v,h,dc,p: 14% 60% 22%  5%\n",
      "[libx264 @ 0x565131170d80] i8 v,h,dc,ddl,ddr,vr,hd,vl,hu: 14% 36% 30%  3%  3%  4%  3%  5%  4%\n",
      "[libx264 @ 0x565131170d80] i4 v,h,dc,ddl,ddr,vr,hd,vl,hu:  9% 57% 10%  5%  2%  3%  4%  5%  5%\n",
      "[libx264 @ 0x565131170d80] i8c dc,h,v,p: 33% 44% 16%  8%\n",
      "[libx264 @ 0x565131170d80] Weighted P-Frames: Y:10.5% UV:5.3%\n",
      "[libx264 @ 0x565131170d80] ref P L0: 71.2% 19.6%  6.8%  2.3%  0.2%\n",
      "[libx264 @ 0x565131170d80] ref B L0: 87.0% 12.4%  0.6%\n",
      "[libx264 @ 0x565131170d80] kb/s:109.95\n"
     ]
    }
   ],
   "source": [
    "from diffusers.utils import export_to_video\n",
    "import os\n",
    "\n",
    "video_export_dir = f'generated_videos/checkpoints/{CHECKPOINT}'\n",
    "if not os.path.exists(video_export_dir):\n",
    "    os.makedirs(video_export_dir)\n",
    "\n",
    "for n in range(10):\n",
    "    text, image_sequence = dataset[n]\n",
    "    input_ids = tokenizer(text, return_tensors='pt').input_ids\n",
    "    \n",
    "    # Use the first image as conditioning\n",
    "    # Note that because training only occurred over the first 25 frames of each video,\n",
    "    # the model has not seen robots performing task completion yet.\n",
    "    import PIL.Image\n",
    "    \n",
    "    conditioning_image_tensor = image_sequence[0]\n",
    "    conditioning_image_np = np.array((image_sequence[0] * 255).permute(1, 2, 0)).astype(np.uint8)\n",
    "    conditioning_image_pil = PIL.Image.fromarray(conditioning_image_np)\n",
    "\n",
    "    frames = pipeline_lora_unified.custom_call(\n",
    "        conditioning_image_pil,\n",
    "        input_ids,\n",
    "        width=image_width,\n",
    "        height=image_height,\n",
    "        # was_trained_with_edm_preconditioning=True,\n",
    "        num_inference_steps=25,\n",
    "    )\n",
    "    export_to_video(frames[0], f\"{video_export_dir}/generated_lora_{n}_raw.mp4\", fps=7)\n",
    "\n",
    "    # frames = pipeline_base(conditioning_image_pil, width=image_width, height=image_height)\n",
    "    # export_to_video(frames[0][0], f\"generated_non_lora_{n}_raw.mp4\", fps=7)\n",
    "\n",
    "    os.system(f\"ffmpeg -i {video_export_dir}/generated_lora_{n}_raw.mp4 -y {video_export_dir}/generated_lora_{n}.mp4\")\n",
    "    os.system(f\"rm {video_export_dir}/generated_lora_{n}_raw.mp4\")\n",
    "    \n",
    "    # os.system(f\"ffmpeg -i generated_non_lora_{n}_raw.mp4 generated_non_lora_{n}.mp4\")\n",
    "    # os.system(f\"rm generated_non_lora_{n}_raw.mp4\")\n",
    "\n",
    "# conditioning_image_pil"
   ]
  },
  {
   "cell_type": "code",
   "execution_count": 11,
   "id": "023177c0-88fd-4fd6-b2a5-9da2b8eb16ae",
   "metadata": {},
   "outputs": [],
   "source": [
    "from diffusers import AutoencoderKLTemporalDecoder\n",
    "vae = AutoencoderKLTemporalDecoder.from_pretrained( # type: ignore\n",
    "    pipename, subfolder=\"vae\"\n",
    ")\n",
    "vae = vae.to('cuda')"
   ]
  },
  {
   "cell_type": "code",
   "execution_count": 12,
   "id": "d78ebffc-03ff-4859-b0a9-3ee298a41e29",
   "metadata": {},
   "outputs": [],
   "source": [
    "text, images = dataset[0]\n",
    "preprocessed_images = pipeline_lora_unified.image_processor.preprocess(images, width=320, height=256)"
   ]
  },
  {
   "cell_type": "code",
   "execution_count": 24,
   "id": "f16e3cd8-59ff-44d1-919a-b4a639b48116",
   "metadata": {},
   "outputs": [],
   "source": [
    "import numpy as np\n",
    "import os\n",
    "import subprocess\n",
    "from IPython.display import Video, display\n",
    "import cv2\n",
    "\n",
    "def render_video(tensor_sequence, index):\n",
    "    # Convert the PyTorch tensors to numpy arrays\n",
    "    frames = [(tensor.permute(1, 2, 0).cpu().numpy()[:, :, ::-1] * 255).astype(np.uint8) for tensor in tensor_sequence]\n",
    "\n",
    "    # Define the video writer\n",
    "    height, width, _ = frames[0].shape\n",
    "    fourcc = cv2.VideoWriter_fourcc(*'mp4v')\n",
    "    out = cv2.VideoWriter('_generated.mp4', fourcc, 30.0, (width, height))\n",
    "\n",
    "    # Write each frame to the video\n",
    "    for frame in frames:\n",
    "        out.write(frame.astype(np.uint8))\n",
    "\n",
    "    # Release the video writer\n",
    "    out.release()\n",
    "\n",
    "    with open(os.devnull, 'wb') as devnull:\n",
    "        subprocess.check_call(['ffmpeg', '-y', '-i', '_generated.mp4', f'generated_{index}.mp4'], stdout=devnull, stderr=devnull)\n",
    "\n",
    "    os.system('rm _generated.mp4')\n",
    "    \n",
    "    return Video(f'generated_{index}.mp4')"
   ]
  },
  {
   "cell_type": "code",
   "execution_count": 41,
   "id": "0dd88437-979f-479a-9bc4-6a11979797a5",
   "metadata": {},
   "outputs": [
    {
     "name": "stdout",
     "output_type": "stream",
     "text": [
      "Original Video\n"
     ]
    },
    {
     "data": {
      "text/html": [
       "<video src=\"generated_original_18.mp4\" controls  >\n",
       "      Your browser does not support the <code>video</code> element.\n",
       "    </video>"
      ],
      "text/plain": [
       "<IPython.core.display.Video object>"
      ]
     },
     "metadata": {},
     "output_type": "display_data"
    },
    {
     "name": "stdout",
     "output_type": "stream",
     "text": [
      "Autoencoder Video\n"
     ]
    },
    {
     "data": {
      "text/html": [
       "<video src=\"generated_autoencoder_18.mp4\" controls  >\n",
       "      Your browser does not support the <code>video</code> element.\n",
       "    </video>"
      ],
      "text/plain": [
       "<IPython.core.display.Video object>"
      ]
     },
     "metadata": {},
     "output_type": "display_data"
    },
    {
     "name": "stdout",
     "output_type": "stream",
     "text": [
      "Original Video\n"
     ]
    },
    {
     "data": {
      "text/html": [
       "<video src=\"generated_original_180.mp4\" controls  >\n",
       "      Your browser does not support the <code>video</code> element.\n",
       "    </video>"
      ],
      "text/plain": [
       "<IPython.core.display.Video object>"
      ]
     },
     "metadata": {},
     "output_type": "display_data"
    },
    {
     "name": "stdout",
     "output_type": "stream",
     "text": [
      "Autoencoder Video\n"
     ]
    },
    {
     "data": {
      "text/html": [
       "<video src=\"generated_autoencoder_180.mp4\" controls  >\n",
       "      Your browser does not support the <code>video</code> element.\n",
       "    </video>"
      ],
      "text/plain": [
       "<IPython.core.display.Video object>"
      ]
     },
     "metadata": {},
     "output_type": "display_data"
    },
    {
     "name": "stdout",
     "output_type": "stream",
     "text": [
      "Original Video\n"
     ]
    },
    {
     "data": {
      "text/html": [
       "<video src=\"generated_original_1800.mp4\" controls  >\n",
       "      Your browser does not support the <code>video</code> element.\n",
       "    </video>"
      ],
      "text/plain": [
       "<IPython.core.display.Video object>"
      ]
     },
     "metadata": {},
     "output_type": "display_data"
    },
    {
     "name": "stdout",
     "output_type": "stream",
     "text": [
      "Autoencoder Video\n"
     ]
    },
    {
     "data": {
      "text/html": [
       "<video src=\"generated_autoencoder_1800.mp4\" controls  >\n",
       "      Your browser does not support the <code>video</code> element.\n",
       "    </video>"
      ],
      "text/plain": [
       "<IPython.core.display.Video object>"
      ]
     },
     "metadata": {},
     "output_type": "display_data"
    },
    {
     "name": "stdout",
     "output_type": "stream",
     "text": [
      "Original Video\n"
     ]
    },
    {
     "data": {
      "text/html": [
       "<video src=\"generated_original_18000.mp4\" controls  >\n",
       "      Your browser does not support the <code>video</code> element.\n",
       "    </video>"
      ],
      "text/plain": [
       "<IPython.core.display.Video object>"
      ]
     },
     "metadata": {},
     "output_type": "display_data"
    },
    {
     "name": "stdout",
     "output_type": "stream",
     "text": [
      "Autoencoder Video\n"
     ]
    },
    {
     "data": {
      "text/html": [
       "<video src=\"generated_autoencoder_18000.mp4\" controls  >\n",
       "      Your browser does not support the <code>video</code> element.\n",
       "    </video>"
      ],
      "text/plain": [
       "<IPython.core.display.Video object>"
      ]
     },
     "metadata": {},
     "output_type": "display_data"
    }
   ],
   "source": [
    "vae = pipeline_lora_unified.vae\n",
    "dtype = torch.float16\n",
    "\n",
    "for index in [18, 180, 1800, 18000]:\n",
    "    text_description, video = dataset[index]\n",
    "    \n",
    "    print(\"Original Video\")\n",
    "    display(render_video(video, 'original_' + str(index)))\n",
    "    \n",
    "    # Now, let's see what it looks like if we pass it in and out of the VAE.\n",
    "    with torch.no_grad():\n",
    "        latents = []\n",
    "        for image in video:\n",
    "            encoded = vae.encode(\n",
    "                pipeline_lora_unified.image_processor.preprocess(\n",
    "                    image.to(device='cuda', dtype=dtype),\n",
    "                    height=256, width=320,\n",
    "                )\n",
    "            )\n",
    "            latents.append(\n",
    "                encoded.latent_dist.sample()[0] # * vae.config['scaling_factor']\n",
    "            )\n",
    "        latents = torch.stack(latents)\n",
    "        \n",
    "        # Decode latents in chunks of 8\n",
    "    \n",
    "        returned = []\n",
    "        i = 0\n",
    "        while i < len(latents):\n",
    "            frames = latents[i:i + 8]\n",
    "            returned.append(vae.decode(frames, num_frames=len(frames)).sample)\n",
    "            i += 8\n",
    "    \n",
    "        returned = (1 + torch.cat(returned)) / 2\n",
    "        returned = torch.clamp(returned, 0, 1)\n",
    "    \n",
    "    print(\"Autoencoder Video\")\n",
    "    display(render_video(returned, 'autoencoder_' + str(index)))"
   ]
  },
  {
   "cell_type": "code",
   "execution_count": 17,
   "id": "65acb7d5-4287-47c4-bb4b-a5f375d2e044",
   "metadata": {},
   "outputs": [
    {
     "data": {
      "text/plain": [
       "torch.Size([16, 3, 256, 320])"
      ]
     },
     "execution_count": 17,
     "metadata": {},
     "output_type": "execute_result"
    }
   ],
   "source": [
    "frames[0].shape"
   ]
  },
  {
   "cell_type": "code",
   "execution_count": 23,
   "id": "cd9264b1-f576-47cc-956b-fc2a339c7572",
   "metadata": {},
   "outputs": [
    {
     "name": "stdout",
     "output_type": "stream",
     "text": [
      "0 open bottom drawer\n",
      "1 pick rxbar blueberry\n",
      "2 move water bottle near blue plastic bottle\n",
      "3 pick brown chip bag from top drawer and place on counter\n",
      "4 pick banana from white bowl\n",
      "5 open bottom drawer\n",
      "6 close bottom drawer\n",
      "7 move rxbar blueberry near blue chip bag\n",
      "8 place coke can into middle drawer\n",
      "9 open middle drawer\n",
      "10 open bottom drawer\n",
      "11 pick coke can from bottom drawer and place on counter\n",
      "12 move water bottle near 7up can\n",
      "13 pick 7up can from top drawer and place on counter\n",
      "14 pick 7up can\n",
      "15 close middle drawer\n",
      "16 move rxbar chocolate near apple\n",
      "17 place blue plastic bottle into bottom drawer\n",
      "18 open top drawer\n",
      "19 close bottom drawer\n"
     ]
    }
   ],
   "source": [
    "for n in range(20):\n",
    "    print(n, dataset[n][0])"
   ]
  },
  {
   "cell_type": "code",
   "execution_count": null,
   "id": "2355c780-665a-4e01-bc33-95fe02e7bb80",
   "metadata": {},
   "outputs": [],
   "source": []
  }
 ],
 "metadata": {
  "kernelspec": {
   "display_name": "Python 3 (ipykernel)",
   "language": "python",
   "name": "python3"
  },
  "language_info": {
   "codemirror_mode": {
    "name": "ipython",
    "version": 3
   },
   "file_extension": ".py",
   "mimetype": "text/x-python",
   "name": "python",
   "nbconvert_exporter": "python",
   "pygments_lexer": "ipython3",
   "version": "3.10.9"
  }
 },
 "nbformat": 4,
 "nbformat_minor": 5
}
